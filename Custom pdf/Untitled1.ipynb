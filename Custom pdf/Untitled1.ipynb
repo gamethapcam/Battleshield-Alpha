{
 "cells": [
  {
   "cell_type": "code",
   "execution_count": 1,
   "metadata": {},
   "outputs": [],
   "source": [
    "import sympy as sp\n",
    "sp.init_printing()"
   ]
  },
  {
   "cell_type": "code",
   "execution_count": 2,
   "metadata": {},
   "outputs": [],
   "source": [
    "f = sp.Function('f')\n",
    "x, i, j, k, l, m, n, o, s = sp.symbols('x i j k l m n o s')"
   ]
  },
  {
   "cell_type": "code",
   "execution_count": 22,
   "metadata": {
    "scrolled": true
   },
   "outputs": [
    {
     "data": {
      "image/png": "[encoded data removed]",
      "text/latex": [
       "$$f{\\left (x \\right )} = i x^{6} + j x^{5} + k x^{4} + l x^{3} + m x^{2} + n x + o$$"
      ],
      "text/plain": [
       "          6      5      4      3      2          \n",
       "f(x) = i⋅x  + j⋅x  + k⋅x  + l⋅x  + m⋅x  + n⋅x + o"
      ]
     },
     "execution_count": 22,
     "metadata": {},
     "output_type": "execute_result"
    }
   ],
   "source": [
    "expr_f = i*x**6 + j*x**5 + k*x**4 + l*x**3 + m*x**2 + n*x + o\n",
    "sp.Eq(f(x), expr_f)"
   ]
  },
  {
   "cell_type": "code",
   "execution_count": 25,
   "metadata": {},
   "outputs": [
    {
     "data": {
      "image/png": "[encoded data removed]",
      "text/latex": [
       "$$\\frac{d}{d x} f{\\left (x \\right )} = 6 i x^{5} + 5 j x^{4} + 4 k x^{3} + 3 l x^{2} + 2 m x + n$$"
      ],
      "text/plain": [
       "d               5        4        3        2            \n",
       "──(f(x)) = 6⋅i⋅x  + 5⋅j⋅x  + 4⋅k⋅x  + 3⋅l⋅x  + 2⋅m⋅x + n\n",
       "dx                                                      "
      ]
     },
     "execution_count": 25,
     "metadata": {},
     "output_type": "execute_result"
    }
   ],
   "source": [
    "expr_df_dx = sp.diff(expr_f, x)\n",
    "sp.Eq(sp.diff(f(x)), expr_df_dx)"
   ]
  },
  {
   "cell_type": "code",
   "execution_count": 9,
   "metadata": {},
   "outputs": [
    {
     "data": {
      "image/png": "[encoded data removed]",
      "text/latex": [
       "$$f{\\left (0 \\right )} = 0$$"
      ],
      "text/plain": [
       "f(0) = 0"
      ]
     },
     "execution_count": 9,
     "metadata": {},
     "output_type": "execute_result"
    }
   ],
   "source": [
    "sp.Eq(f(0), 0)"
   ]
  },
  {
   "cell_type": "code",
   "execution_count": 11,
   "metadata": {},
   "outputs": [
    {
     "data": {
      "image/png": "[encoded data removed]",
      "text/latex": [
       "$$f{\\left (0.2 \\right )} = 0.2$$"
      ],
      "text/plain": [
       "f(0.2) = 0.2"
      ]
     },
     "execution_count": 11,
     "metadata": {},
     "output_type": "execute_result"
    }
   ],
   "source": [
    "sp.Eq(f(0.2), 0.2)"
   ]
  },
  {
   "cell_type": "code",
   "execution_count": 12,
   "metadata": {},
   "outputs": [
    {
     "data": {
      "image/png": "[encoded data removed]",
      "text/latex": [
       "$$f{\\left (0.8 \\right )} = 0.8$$"
      ],
      "text/plain": [
       "f(0.8) = 0.8"
      ]
     },
     "execution_count": 12,
     "metadata": {},
     "output_type": "execute_result"
    }
   ],
   "source": [
    "sp.Eq(f(0.8), 0.8)"
   ]
  },
  {
   "cell_type": "code",
   "execution_count": 13,
   "metadata": {},
   "outputs": [
    {
     "data": {
      "image/png": "[encoded data removed]",
      "text/latex": [
       "$$f{\\left (1 \\right )} = 1$$"
      ],
      "text/plain": [
       "f(1) = 1"
      ]
     },
     "execution_count": 13,
     "metadata": {},
     "output_type": "execute_result"
    }
   ],
   "source": [
    "sp.Eq(f(1), 1)"
   ]
  },
  {
   "cell_type": "code",
   "execution_count": 17,
   "metadata": {},
   "outputs": [
    {
     "data": {
      "text/latex": [
       "$$\\left. \\frac{d}{d x} f{\\left (x \\right )} \\right|_{\\substack{ x=0.2 }} = s$$"
      ],
      "text/plain": [
       "⎛d       ⎞│         \n",
       "⎜──(f(x))⎟│      = s\n",
       "⎝dx      ⎠│x=0.2    "
      ]
     },
     "execution_count": 17,
     "metadata": {},
     "output_type": "execute_result"
    }
   ],
   "source": [
    "sp.Eq(sp.Subs(sp.diff(f(x)), x, 0.2), s)"
   ]
  },
  {
   "cell_type": "code",
   "execution_count": 18,
   "metadata": {},
   "outputs": [
    {
     "data": {
      "text/latex": [
       "$$\\left. \\frac{d}{d x} f{\\left (x \\right )} \\right|_{\\substack{ x=0.8 }} = s$$"
      ],
      "text/plain": [
       "⎛d       ⎞│         \n",
       "⎜──(f(x))⎟│      = s\n",
       "⎝dx      ⎠│x=0.8    "
      ]
     },
     "execution_count": 18,
     "metadata": {},
     "output_type": "execute_result"
    }
   ],
   "source": [
    "sp.Eq(sp.Subs(sp.diff(f(x)), x, 0.8), s)"
   ]
  },
  {
   "cell_type": "code",
   "execution_count": 19,
   "metadata": {},
   "outputs": [
    {
     "data": {
      "image/png": "[encoded data removed]",
      "text/latex": [
       "$$s = 0.5$$"
      ],
      "text/plain": [
       "s = 0.5"
      ]
     },
     "execution_count": 19,
     "metadata": {},
     "output_type": "execute_result"
    }
   ],
   "source": [
    "sp.Eq(s, 0.5)"
   ]
  },
  {
   "cell_type": "code",
   "execution_count": null,
   "metadata": {},
   "outputs": [],
   "source": []
  }
 ],
 "metadata": {
  "kernelspec": {
   "display_name": "Python 3",
   "language": "python",
   "name": "python3"
  },
  "language_info": {
   "codemirror_mode": {
    "name": "ipython",
    "version": 3
   },
   "file_extension": ".py",
   "mimetype": "text/x-python",
   "name": "python",
   "nbconvert_exporter": "python",
   "pygments_lexer": "ipython3",
   "version": "3.6.4"
  }
 },
 "nbformat": 4,
 "nbformat_minor": 2
}
