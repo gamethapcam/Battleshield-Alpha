{
 "cells": [
  {
   "cell_type": "code",
   "execution_count": 3,
   "metadata": {},
   "outputs": [],
   "source": [
    "import numpy as np\n",
    "import matplotlib.pyplot as plt\n",
    "import random\n",
    "import math"
   ]
  },
  {
   "cell_type": "code",
   "execution_count": 4,
   "metadata": {},
   "outputs": [],
   "source": [
    "def clamp(value, minimum, maximum):\n",
    "    if value < minimum:\n",
    "        return minimum\n",
    "    elif value > maximum:\n",
    "        return maximu"
   ]
  },
  {
   "cell_type": "code",
   "execution_count": 7,
   "metadata": {},
   "outputs": [],
   "source": [
    "def default_random():\n",
    "    return random.random()\n",
    "\n",
    "def squared():\n",
    "    r = random.random()\n",
    "    return r*r\n",
    "\n",
    "def custom_r():\n",
    "    r = random.random()\n",
    "    return math.sqrt(r)\n",
    "\n",
    "\n",
    "def plot(func, intervals, tot_trials):\n",
    "    x = np.array([i/intervals for i in range(0, intervals)])\n",
    "    y = np.array([0 for i in range(0, intervals)])\n",
    "    for i in range(tot_trials):\n",
    "        r = func()\n",
    "        for j in np.arange(1/intervals, 1+1/intervals, 1/intervals):\n",
    "            #print(j)\n",
    "            if j > r:\n",
    "                y[int((j-1/intervals)*intervals)] += 1\n",
    "                break\n",
    "    \n",
    "    y = y*intervals/tot_trials\n",
    "    max_y = max(y)\n",
    "\n",
    "    plt.plot(x, y)\n",
    "    plt.xlim(0, 1-1/intervals)\n",
    "    plt.ylim(0, max_y)\n",
    "    plt.show()"
   ]
  },
  {
   "cell_type": "code",
   "execution_count": 9,
   "metadata": {},
   "outputs": [
    {
     "data": {
      "image/png": "[encoded data removed]",
      "text/plain": [
       "<matplotlib.figure.Figure at 0x11395b898>"
      ]
     },
     "metadata": {},
     "output_type": "display_data"
    }
   ],
   "source": [
    "plot(custom_r, 40, 100000)"
   ]
  },
  {
   "cell_type": "code",
   "execution_count": null,
   "metadata": {},
   "outputs": [],
   "source": []
  },
  {
   "cell_type": "code",
   "execution_count": null,
   "metadata": {},
   "outputs": [],
   "source": []
  }
 ],
 "metadata": {
  "kernelspec": {
   "display_name": "Python 3",
   "language": "python",
   "name": "python3"
  },
  "language_info": {
   "codemirror_mode": {
    "name": "ipython",
    "version": 3
   },
   "file_extension": ".py",
   "mimetype": "text/x-python",
   "name": "python",
   "nbconvert_exporter": "python",
   "pygments_lexer": "ipython3",
   "version": "3.6.4"
  }
 },
 "nbformat": 4,
 "nbformat_minor": 2
}
