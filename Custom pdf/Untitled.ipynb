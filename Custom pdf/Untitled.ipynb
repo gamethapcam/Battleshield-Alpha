{
 "cells": [
  {
   "cell_type": "code",
   "execution_count": 92,
   "metadata": {},
   "outputs": [],
   "source": [
    "import numpy as np\n",
    "import matplotlib.pyplot as plt\n",
    "import random\n",
    "import math\n",
    "import sympy as sp\n",
    "sp.init_printing()"
   ]
  },
  {
   "cell_type": "code",
   "execution_count": 203,
   "metadata": {},
   "outputs": [],
   "source": [
    "def clamp(value, minimum, maximum):\n",
    "    if value < minimum:\n",
    "        return minimum\n",
    "    elif value > maximum:\n",
    "        return maximu\n",
    "    else:\n",
    "        return value\n",
    "    \n",
    "def moving_average(a, n=3) :\n",
    "    ret = np.cumsum(a, dtype=float)\n",
    "    ret[n:] = ret[n:] - ret[:-n]\n",
    "    return ret[n - 1:] / n\n",
    "\n",
    "def comma_separated(x):\n",
    "    s = '['\n",
    "    for i in x:\n",
    "        s+=str(i)\n",
    "        s+=','\n",
    "    return s[:len(s)-1] + ']'"
   ]
  },
  {
   "cell_type": "code",
   "execution_count": 214,
   "metadata": {},
   "outputs": [],
   "source": [
    "def plot(func, intervals, tot_trials):\n",
    "    x = np.array([i/intervals for i in range(0, intervals)])\n",
    "    y = np.array([0 for i in range(0, intervals)])\n",
    "    for i in range(tot_trials):\n",
    "        r = func()\n",
    "        y[int(r/(1/intervals))] += 1\n",
    "    \n",
    "    y = y*intervals/tot_trials\n",
    "    # y = moving_average(y, 5)\n",
    "    max_y = max(y)\n",
    "    \n",
    "    plt.plot(x[:len(y)], y)\n",
    "    plt.xlim(0, 1-1/intervals)\n",
    "    plt.ylim(0, max_y)\n",
    "    plt.show()\n",
    "    \n",
    "    print(comma_separated(x))\n",
    "    print()\n",
    "    print(comma_separated(y))"
   ]
  },
  {
   "cell_type": "code",
   "execution_count": 489,
   "metadata": {},
   "outputs": [],
   "source": [
    "def default_random():\n",
    "    return random.random()\n",
    "\n",
    "def default_tri():\n",
    "    return random.triangular()\n",
    "\n",
    "def squared():\n",
    "    r = random.random()\n",
    "    return r*r\n",
    "\n",
    "def square_root():\n",
    "    r = random.random()\n",
    "    return math.sqrt(r)\n",
    "\n",
    "def my_right_trapizuim(p1):\n",
    "    '''The distribution of this function is P(x) = 2*(p1-1)*x + 2-p1\n",
    "    where p1 is P(1)\n",
    "    It's a very good approximation and nearly exact if p1 > 0.5'''\n",
    "    r1 = random.random()\n",
    "    _p1 = 1-p1\n",
    "    return ((1-math.sqrt(r1))%_p1)*(1/_p1)\n",
    "\n",
    "def custom_r():\n",
    "    return my_right_trapizuim(0.1)"
   ]
  },
  {
   "cell_type": "code",
   "execution_count": 491,
   "metadata": {},
   "outputs": [
    {
     "data": {
      "image/png": "[encoded data removed]",
      "text/plain": [
       "<matplotlib.figure.Figure at 0x11e1ea7b8>"
      ]
     },
     "metadata": {},
     "output_type": "display_data"
    },
    {
     "name": "stdout",
     "output_type": "stream",
     "text": [
      "[0.0,0.02,0.04,0.06,0.08,0.1,0.12,0.14,0.16,0.18,0.2,0.22,0.24,0.26,0.28,0.3,0.32,0.34,0.36,0.38,0.4,0.42,0.44,0.46,0.48,0.5,0.52,0.54,0.56,0.58,0.6,0.62,0.64,0.66,0.68,0.7,0.72,0.74,0.76,0.78,0.8,0.82,0.84,0.86,0.88,0.9,0.92,0.94,0.96,0.98]\n",
      "\n",
      "[1.9512,1.8734,1.8293,1.7416,1.6924,1.6305,1.5973,1.5758,1.511,1.4889,1.4586,1.4128,1.4148,1.3589,1.3232,1.2973,1.2378,1.2337,1.179,1.1774,1.129,1.0924,1.0705,1.0505,1.0163,0.9828,0.9449,0.9046,0.885,0.8429,0.8025,0.7781,0.7513,0.7075,0.6781,0.6636,0.6296,0.5905,0.5503,0.5224,0.493,0.4435,0.4151,0.401,0.3574,0.3288,0.2913,0.2634,0.2369,0.1919]\n"
     ]
    }
   ],
   "source": [
    "plot(custom_r, 50, 500000)"
   ]
  },
  {
   "cell_type": "code",
   "execution_count": null,
   "metadata": {},
   "outputs": [],
   "source": []
  }
 ],
 "metadata": {
  "kernelspec": {
   "display_name": "Python 3",
   "language": "python",
   "name": "python3"
  },
  "language_info": {
   "codemirror_mode": {
    "name": "ipython",
    "version": 3
   },
   "file_extension": ".py",
   "mimetype": "text/x-python",
   "name": "python",
   "nbconvert_exporter": "python",
   "pygments_lexer": "ipython3",
   "version": "3.6.4"
  }
 },
 "nbformat": 4,
 "nbformat_minor": 2
}
