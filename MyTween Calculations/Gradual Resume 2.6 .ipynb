{
 "cells": [
  {
   "cell_type": "code",
   "execution_count": 2,
   "metadata": {
    "scrolled": false
   },
   "outputs": [],
   "source": [
    "from sympy import *\n",
    "init_printing()"
   ]
  },
  {
   "cell_type": "code",
   "execution_count": 3,
   "metadata": {},
   "outputs": [],
   "source": [
    "O_xy = Function('O_xy')\n",
    "G_01 = Function('G_01')\n",
    "E_in01 = Function('E_in01')\n",
    "P_in01 = Function('P_in01')\n",
    "R_in01 = Function('R_in01')\n",
    "G_xy = Function('G_xy')\n",
    "F_b = Function('F_b')\n",
    "F_n = Function('F_n')"
   ]
  },
  {
   "cell_type": "code",
   "execution_count": 27,
   "metadata": {},
   "outputs": [],
   "source": [
    "x, p, p_e, p_p, s_s, s_e, s_gx, e_gx, s_gy, e_gy, p_auseX, r_d = symbols('x p p_e p_p s_s s_e s_gx e_gx s_gy e_gy p_auseX r_d')\n",
    "a, b, c, d = symbols('a b c d')"
   ]
  },
  {
   "cell_type": "markdown",
   "metadata": {},
   "source": [
    "Main Equations"
   ]
  },
  {
   "cell_type": "code",
   "execution_count": 5,
   "metadata": {
    "scrolled": true
   },
   "outputs": [
    {
     "data": {
      "image/png": "[encoded data removed]",
      "text/latex": [
       "$$\\operatorname{G_{xy}}{\\left (x \\right )} = s_{gy} + \\left(e_{gy} - s_{gy}\\right) \\operatorname{G_{01}}{\\left (\\frac{- s_{gx} + x}{e_{gx} - s_{gx}} \\right )}$$"
      ],
      "text/plain": [
       "                                  ⎛ -s_gx + x ⎞\n",
       "G_xy(x) = s_gy + (e_gy - s_gy)⋅G₀₁⎜───────────⎟\n",
       "                                  ⎝e_gx - s_gx⎠"
      ]
     },
     "execution_count": 5,
     "metadata": {},
     "output_type": "execute_result"
    }
   ],
   "source": [
    "Eq_m_0 = Eq(G_xy(x), (e_gy-s_gy)*G_01((x-s_gx)/(e_gx-s_gx))+s_gy)\n",
    "Eq_m_0"
   ]
  },
  {
   "cell_type": "code",
   "execution_count": 6,
   "metadata": {},
   "outputs": [
    {
     "data": {
      "image/png": "[encoded data removed]",
      "text/latex": [
       "$$\\operatorname{E_{in01}}{\\left (x \\right )} = \\frac{e^{p_{e} \\left(x - 1\\right)} - e^{- p_{e}}}{1 - e^{- p_{e}}}$$"
      ],
      "text/plain": [
       "            pₑ⋅(x - 1)    -pₑ\n",
       "           ℯ           - ℯ   \n",
       "Eᵢₙ₀₁(x) = ──────────────────\n",
       "                     -pₑ     \n",
       "                1 - ℯ        "
      ]
     },
     "execution_count": 6,
     "metadata": {},
     "output_type": "execute_result"
    }
   ],
   "source": [
    "_E_in01 = Eq(E_in01(x), (1/(1-exp(-p_e)))*(exp(p_e*(x-1))-exp(-p_e)))\n",
    "_E_in01"
   ]
  },
  {
   "cell_type": "code",
   "execution_count": 7,
   "metadata": {},
   "outputs": [
    {
     "data": {
      "image/png": "[encoded data removed]",
      "text/latex": [
       "$$\\operatorname{P_{in01}}{\\left (x \\right )} = x^{p_{p}}$$"
      ],
      "text/plain": [
       "            pₚ\n",
       "Pᵢₙ₀₁(x) = x  "
      ]
     },
     "execution_count": 7,
     "metadata": {},
     "output_type": "execute_result"
    }
   ],
   "source": [
    "_P_in01 = Eq(P_in01(x), x**(p_p))\n",
    "_P_in01"
   ]
  },
  {
   "cell_type": "code",
   "execution_count": 8,
   "metadata": {},
   "outputs": [
    {
     "data": {
      "image/png": "[encoded data removed]",
      "text/latex": [
       "$$\\operatorname{R_{in01}}{\\left (x \\right )} = \\frac{x \\left(- a + 1\\right)}{- a x + 1}$$"
      ],
      "text/plain": [
       "           x⋅(-a + 1)\n",
       "Rᵢₙ₀₁(x) = ──────────\n",
       "            -a⋅x + 1 "
      ]
     },
     "execution_count": 8,
     "metadata": {},
     "output_type": "execute_result"
    }
   ],
   "source": [
    "_R_in01 = Eq(R_in01(x), (1-a)*x/(1-a*x))\n",
    "_R_in01"
   ]
  },
  {
   "cell_type": "code",
   "execution_count": 31,
   "metadata": {},
   "outputs": [
    {
     "data": {
      "image/png": "[encoded data removed]",
      "text/latex": [
       "$$\\operatorname{G_{01}}{\\left (x \\right )} = \\frac{x \\left(- a + 1\\right)}{2 \\left(- a x + 1\\right)} + \\frac{e^{p_{e} \\left(x - 1\\right)} - e^{- p_{e}}}{2 \\left(1 - e^{- p_{e}}\\right)}$$"
      ],
      "text/plain": [
       "                         pₑ⋅(x - 1)    -pₑ\n",
       "          x⋅(-a + 1)    ℯ           - ℯ   \n",
       "G₀₁(x) = ──────────── + ──────────────────\n",
       "         2⋅(-a⋅x + 1)        ⎛     -pₑ⎞   \n",
       "                           2⋅⎝1 - ℯ   ⎠   "
      ]
     },
     "execution_count": 31,
     "metadata": {},
     "output_type": "execute_result"
    }
   ],
   "source": [
    "# Eq_m_1 = Eq(G_01(x), (1/(1-exp(-p)))*(exp(p*(x-1))-exp(-p)))\n",
    "# Eq_m_1 = Eq(G_01(x), (1-a)*x/(1-a*x))\n",
    "# Eq_m_1 = Eq(G_01(x), 1-cos(pi/2 * x))\n",
    "# Eq_m_1 = Eq(G_01(x), 1-sqrt(1-x*x))\n",
    "# Eq_m_1 = Eq(G_01(x), x**(p))\n",
    "Eq_m_1 = Eq(G_01(x), (_E_in01.rhs+_R_in01.rhs)/2)\n",
    "'''\n",
    "d_in = (1+sqrt(1+4*c))/2\n",
    "e_in = -c*(1/d_in+1)\n",
    "Eq_m_1 = Eq(G_01(x), c/(d_in-x) + c + e_in)\n",
    "'''\n",
    "Eq_m_1"
   ]
  },
  {
   "cell_type": "code",
   "execution_count": 11,
   "metadata": {},
   "outputs": [
    {
     "data": {
      "image/png": "[encoded data removed]",
      "text/latex": [
       "$$\\operatorname{G_{xy}}{\\left (x \\right )} = s_{gy} + \\left(e_{gy} - s_{gy}\\right) \\left(\\frac{\\left(- a + 1\\right) \\left(- s_{gx} + x\\right)}{2 \\left(e_{gx} - s_{gx}\\right) \\left(- \\frac{a \\left(- s_{gx} + x\\right)}{e_{gx} - s_{gx}} + 1\\right)} + \\frac{1}{2 \\left(1 - e^{- p_{e}}\\right)} \\left(e^{p_{e} \\left(-1 + \\frac{- s_{gx} + x}{e_{gx} - s_{gx}}\\right)} - e^{- p_{e}}\\right)\\right)$$"
      ],
      "text/plain": [
       "                               ⎛                                            ⎛ \n",
       "                               ⎜                                         pₑ⋅⎜-\n",
       "                               ⎜                                            ⎝ \n",
       "                               ⎜         (-a + 1)⋅(-s_gx + x)           ℯ     \n",
       "G_xy(x) = s_gy + (e_gy - s_gy)⋅⎜───────────────────────────────────── + ──────\n",
       "                               ⎜                ⎛  a⋅(-s_gx + x)    ⎞         \n",
       "                               ⎜2⋅(e_gx - s_gx)⋅⎜- ───────────── + 1⎟         \n",
       "                               ⎝                ⎝   e_gx - s_gx     ⎠         \n",
       "\n",
       "     -s_gx + x ⎞       ⎞\n",
       "1 + ───────────⎟       ⎟\n",
       "    e_gx - s_gx⎠    -pₑ⎟\n",
       "                 - ℯ   ⎟\n",
       "───────────────────────⎟\n",
       "     ⎛     -pₑ⎞        ⎟\n",
       "   2⋅⎝1 - ℯ   ⎠        ⎟\n",
       "                       ⎠"
      ]
     },
     "execution_count": 11,
     "metadata": {},
     "output_type": "execute_result"
    }
   ],
   "source": [
    "Eq_m_0_1 = Eq(G_xy(x), Eq_m_0.rhs.subs({G_01((x-s_gx)/(e_gx-s_gx)):Eq_m_1.rhs.subs({x:(x-s_gx)/(e_gx-s_gx)})}))\n",
    "Eq_m_0_1"
   ]
  },
  {
   "cell_type": "code",
   "execution_count": 12,
   "metadata": {},
   "outputs": [
    {
     "data": {
      "image/png": "[encoded data removed]",
      "text/latex": [
       "$$\\left(e_{gy} - s_{gy}\\right) \\left(\\frac{a \\left(- a + 1\\right) \\left(- s_{gx} + x\\right)}{2 \\left(e_{gx} - s_{gx}\\right)^{2} \\left(- \\frac{a \\left(- s_{gx} + x\\right)}{e_{gx} - s_{gx}} + 1\\right)^{2}} + \\frac{p_{e} e^{p_{e} \\left(-1 + \\frac{- s_{gx} + x}{e_{gx} - s_{gx}}\\right)}}{2 \\left(1 - e^{- p_{e}}\\right) \\left(e_{gx} - s_{gx}\\right)} + \\frac{- a + 1}{2 \\left(e_{gx} - s_{gx}\\right) \\left(- \\frac{a \\left(- s_{gx} + x\\right)}{e_{gx} - s_{gx}} + 1\\right)}\\right)$$"
      ],
      "text/plain": [
       "              ⎛                                                 ⎛      -s_gx +\n",
       "              ⎜                                              pₑ⋅⎜-1 + ────────\n",
       "              ⎜                                                 ⎝     e_gx - s\n",
       "              ⎜         a⋅(-a + 1)⋅(-s_gx + x)           pₑ⋅ℯ                 \n",
       "(e_gy - s_gy)⋅⎜─────────────────────────────────────── + ─────────────────────\n",
       "              ⎜                                      2     ⎛     -pₑ⎞         \n",
       "              ⎜               2 ⎛  a⋅(-s_gx + x)    ⎞    2⋅⎝1 - ℯ   ⎠⋅(e_gx - \n",
       "              ⎜2⋅(e_gx - s_gx) ⋅⎜- ───────────── + 1⎟                         \n",
       "              ⎝                 ⎝   e_gx - s_gx     ⎠                         \n",
       "\n",
       " x ⎞                                         ⎞\n",
       "───⎟                                         ⎟\n",
       "_gx⎠                                         ⎟\n",
       "                        -a + 1               ⎟\n",
       "───── + ─────────────────────────────────────⎟\n",
       "                        ⎛  a⋅(-s_gx + x)    ⎞⎟\n",
       "s_gx)   2⋅(e_gx - s_gx)⋅⎜- ───────────── + 1⎟⎟\n",
       "                        ⎝   e_gx - s_gx     ⎠⎟\n",
       "                                             ⎠"
      ]
     },
     "execution_count": 12,
     "metadata": {},
     "output_type": "execute_result"
    }
   ],
   "source": [
    "diff(Eq_m_0_1.rhs, x)"
   ]
  },
  {
   "cell_type": "markdown",
   "metadata": {},
   "source": [
    "Solution"
   ]
  },
  {
   "cell_type": "code",
   "execution_count": 13,
   "metadata": {},
   "outputs": [
    {
     "data": {
      "image/png": "[encoded data removed]",
      "text/latex": [
       "$$\\operatorname{G_{xy}}{\\left (e_{gx} \\right )} = \\operatorname{O_{xy}}{\\left (e_{gx} \\right )}$$"
      ],
      "text/plain": [
       "G_xy(e_gx) = O_xy(e_gx)"
      ]
     },
     "execution_count": 13,
     "metadata": {},
     "output_type": "execute_result"
    }
   ],
   "source": [
    "Eq_0 = Eq(G_xy(e_gx), O_xy(e_gx))\n",
    "Eq_0"
   ]
  },
  {
   "cell_type": "code",
   "execution_count": 14,
   "metadata": {},
   "outputs": [
    {
     "data": {
      "text/latex": [
       "$$\\left. \\frac{d}{d x} \\operatorname{G_{xy}}{\\left (x \\right )} \\right|_{\\substack{ x=e_{gx} }} = \\left. \\frac{d}{d x} \\operatorname{O_{xy}}{\\left (x \\right )} \\right|_{\\substack{ x=e_{gx} }}$$"
      ],
      "text/plain": [
       "⎛d          ⎞│         ⎛d          ⎞│      \n",
       "⎜──(G_xy(x))⎟│       = ⎜──(O_xy(x))⎟│      \n",
       "⎝dx         ⎠│x=e_gx   ⎝dx         ⎠│x=e_gx"
      ]
     },
     "execution_count": 14,
     "metadata": {},
     "output_type": "execute_result"
    }
   ],
   "source": [
    "Eq_1 = Eq(Subs(Derivative(G_xy(x), x), x, e_gx), Subs(Derivative(O_xy(x), x), x, e_gx))\n",
    "Eq_1"
   ]
  },
  {
   "cell_type": "code",
   "execution_count": 15,
   "metadata": {},
   "outputs": [
    {
     "data": {
      "text/latex": [
       "$$\\left. \\frac{d}{d x} \\operatorname{G_{xy}}{\\left (x \\right )} \\right|_{\\substack{ x=s_{gx} }} = s_{s}$$"
      ],
      "text/plain": [
       "⎛d          ⎞│           \n",
       "⎜──(G_xy(x))⎟│       = sₛ\n",
       "⎝dx         ⎠│x=s_gx     "
      ]
     },
     "execution_count": 15,
     "metadata": {},
     "output_type": "execute_result"
    }
   ],
   "source": [
    "Eq_2 = Eq(Subs(Derivative(G_xy(x), x), x, s_gx), s_s)\n",
    "Eq_2"
   ]
  },
  {
   "cell_type": "code",
   "execution_count": 16,
   "metadata": {},
   "outputs": [
    {
     "data": {
      "image/png": "[encoded data removed]",
      "text/latex": [
       "$$s_{gx} = e_{gx} - r_{d}$$"
      ],
      "text/plain": [
       "s_gx = e_gx - r_d"
      ]
     },
     "execution_count": 16,
     "metadata": {},
     "output_type": "execute_result"
    }
   ],
   "source": [
    "Eq_3 = Eq(s_gx, e_gx - r_d)\n",
    "Eq_3"
   ]
  },
  {
   "cell_type": "code",
   "execution_count": 17,
   "metadata": {},
   "outputs": [
    {
     "data": {
      "image/png": "[encoded data removed]",
      "text/latex": [
       "$$e_{gy} = \\operatorname{O_{xy}}{\\left (e_{gx} \\right )}$$"
      ],
      "text/plain": [
       "e_gy = O_xy(e_gx)"
      ]
     },
     "execution_count": 17,
     "metadata": {},
     "output_type": "execute_result"
    }
   ],
   "source": [
    "Eq_0_1 = Eq(Eq_m_0_1.rhs.subs({x:e_gx, s_gx: Eq_3.rhs}), O_xy(e_gx))\n",
    "Eq_0_1"
   ]
  },
  {
   "cell_type": "code",
   "execution_count": 18,
   "metadata": {
    "scrolled": true
   },
   "outputs": [
    {
     "data": {
      "text/latex": [
       "$$\\left(- s_{gy} + \\operatorname{O_{xy}}{\\left (e_{gx} \\right )}\\right) \\left(\\frac{a}{2 r_{d} \\left(- a + 1\\right)} + \\frac{p_{e}}{2 r_{d} \\left(1 - e^{- p_{e}}\\right)} + \\frac{1}{2 r_{d}}\\right) = \\left. \\frac{d}{d x} \\operatorname{O_{xy}}{\\left (x \\right )} \\right|_{\\substack{ x=e_{gx} }}$$"
      ],
      "text/plain": [
       "                     ⎛      a                 pₑ            1  ⎞   ⎛d         \n",
       "(-s_gy + O_xy(e_gx))⋅⎜────────────── + ──────────────── + ─────⎟ = ⎜──(O_xy(x)\n",
       "                     ⎜2⋅r_d⋅(-a + 1)         ⎛     -pₑ⎞   2⋅r_d⎟   ⎝dx        \n",
       "                     ⎝                 2⋅r_d⋅⎝1 - ℯ   ⎠        ⎠              \n",
       "\n",
       " ⎞│      \n",
       ")⎟│      \n",
       " ⎠│x=e_gx\n",
       "         "
      ]
     },
     "execution_count": 18,
     "metadata": {},
     "output_type": "execute_result"
    }
   ],
   "source": [
    "Eq_1_1 = Eq(diff(Eq_m_0_1.rhs, x).subs({x:e_gx, s_gx:Eq_3.rhs, e_gy:O_xy(e_gx)}), Eq_1.rhs)\n",
    "Eq_1_1"
   ]
  },
  {
   "cell_type": "code",
   "execution_count": 19,
   "metadata": {},
   "outputs": [
    {
     "data": {
      "image/png": "[encoded data removed]",
      "text/latex": [
       "$$\\left(- s_{gy} + \\operatorname{O_{xy}}{\\left (e_{gx} \\right )}\\right) \\left(\\frac{p_{e} e^{- p_{e}}}{2 r_{d} \\left(1 - e^{- p_{e}}\\right)} + \\frac{- a + 1}{2 r_{d}}\\right) = s_{s}$$"
      ],
      "text/plain": [
       "                     ⎛        -pₑ              ⎞     \n",
       "                     ⎜    pₑ⋅ℯ           -a + 1⎟     \n",
       "(-s_gy + O_xy(e_gx))⋅⎜──────────────── + ──────⎟ = sₛ\n",
       "                     ⎜      ⎛     -pₑ⎞   2⋅r_d ⎟     \n",
       "                     ⎝2⋅r_d⋅⎝1 - ℯ   ⎠         ⎠     "
      ]
     },
     "execution_count": 19,
     "metadata": {},
     "output_type": "execute_result"
    }
   ],
   "source": [
    "Eq_2_1 = Eq(diff(Eq_m_0_1.rhs, x).subs({x:Eq_3.rhs, s_gx:Eq_3.rhs, e_gy:O_xy(e_gx)}), s_s)\n",
    "Eq_2_1"
   ]
  },
  {
   "cell_type": "code",
   "execution_count": 25,
   "metadata": {},
   "outputs": [
    {
     "data": {
      "image/png": "[encoded data removed]",
      "text/latex": [
       "$$a = \\frac{1}{\\left(- s_{gy} + \\operatorname{O_{xy}}{\\left (e_{gx} \\right )}\\right) \\left(e^{p_{e}} - 1\\right)} \\left(- p_{e} s_{gy} + p_{e} \\operatorname{O_{xy}}{\\left (e_{gx} \\right )} - 2 r_{d} s_{s} e^{p_{e}} + 2 r_{d} s_{s} - s_{gy} e^{p_{e}} + s_{gy} + \\operatorname{O_{xy}}{\\left (e_{gx} \\right )} e^{p_{e}} - \\operatorname{O_{xy}}{\\left (e_{gx} \\right )}\\right)$$"
      ],
      "text/plain": [
       "                                         pₑ                    pₑ             \n",
       "    -pₑ⋅s_gy + pₑ⋅O_xy(e_gx) - 2⋅r_d⋅sₛ⋅ℯ   + 2⋅r_d⋅sₛ - s_gy⋅ℯ   + s_gy + O_x\n",
       "a = ──────────────────────────────────────────────────────────────────────────\n",
       "                                                           ⎛ pₑ    ⎞          \n",
       "                                      (-s_gy + O_xy(e_gx))⋅⎝ℯ   - 1⎠          \n",
       "\n",
       "         pₑ             \n",
       "y(e_gx)⋅ℯ   - O_xy(e_gx)\n",
       "────────────────────────\n",
       "                        \n",
       "                        "
      ]
     },
     "execution_count": 25,
     "metadata": {},
     "output_type": "execute_result"
    }
   ],
   "source": [
    "Eq_2_2 = Eq(a, solve(Eq_2_1, a)[0].factor())\n",
    "Eq_2_2"
   ]
  },
  {
   "cell_type": "code",
   "execution_count": 36,
   "metadata": {
    "scrolled": true
   },
   "outputs": [
    {
     "data": {
      "image/png": "[encoded data removed]",
      "text/latex": [
       "$$a = \\frac{p_{e}}{e^{p_{e}} - 1} - \\frac{2 r_{d} s_{s}}{- s_{gy} + \\operatorname{O_{xy}}{\\left (e_{gx} \\right )}} + 1$$"
      ],
      "text/plain": [
       "       pₑ          2⋅r_d⋅sₛ         \n",
       "a = ─────── - ────────────────── + 1\n",
       "     pₑ       -s_gy + O_xy(e_gx)    \n",
       "    ℯ   - 1                         "
      ]
     },
     "execution_count": 36,
     "metadata": {},
     "output_type": "execute_result"
    }
   ],
   "source": [
    "Eq_2_2_simplified = Eq(a, 1+p_e/(exp(p_e)-1)+(-2*r_d*s_s)/(-s_gy+O_xy(e_gx)))\n",
    "Eq_2_2_simplified"
   ]
  },
  {
   "cell_type": "code",
   "execution_count": 40,
   "metadata": {},
   "outputs": [
    {
     "data": {
      "text/latex": [
       "$$\\left(- s_{gy} + \\operatorname{O_{xy}}{\\left (e_{gx} \\right )}\\right) \\left(\\frac{p_{e}}{2 r_{d} \\left(1 - e^{- p_{e}}\\right)} + \\frac{1}{2 r_{d}} + \\frac{\\frac{p_{e}}{e^{p_{e}} - 1} - \\frac{2 r_{d} s_{s}}{- s_{gy} + \\operatorname{O_{xy}}{\\left (e_{gx} \\right )}} + 1}{2 r_{d} \\left(- \\frac{p_{e}}{e^{p_{e}} - 1} + \\frac{2 r_{d} s_{s}}{- s_{gy} + \\operatorname{O_{xy}}{\\left (e_{gx} \\right )}}\\right)}\\right) = \\left. \\frac{d}{d x} \\operatorname{O_{xy}}{\\left (x \\right )} \\right|_{\\substack{ x=e_{gx} }}$$"
      ],
      "text/plain": [
       "                     ⎛                                 pₑ          2⋅r_d⋅sₛ   \n",
       "                     ⎜                              ─────── - ────────────────\n",
       "                     ⎜                               pₑ       -s_gy + O_xy(e_g\n",
       "                     ⎜       pₑ            1        ℯ   - 1                   \n",
       "(-s_gy + O_xy(e_gx))⋅⎜──────────────── + ───── + ─────────────────────────────\n",
       "                     ⎜      ⎛     -pₑ⎞   2⋅r_d         ⎛     pₑ          2⋅r_d\n",
       "                     ⎜2⋅r_d⋅⎝1 - ℯ   ⎠           2⋅r_d⋅⎜- ─────── + ──────────\n",
       "                     ⎜                                 ⎜   pₑ       -s_gy + O_\n",
       "                     ⎝                                 ⎝  ℯ   - 1             \n",
       "\n",
       "         ⎞                       \n",
       "── + 1   ⎟                       \n",
       "x)       ⎟                       \n",
       "         ⎟   ⎛d          ⎞│      \n",
       "─────────⎟ = ⎜──(O_xy(x))⎟│      \n",
       "⋅sₛ     ⎞⎟   ⎝dx         ⎠│x=e_gx\n",
       "────────⎟⎟                       \n",
       "xy(e_gx)⎟⎟                       \n",
       "        ⎠⎠                       "
      ]
     },
     "execution_count": 40,
     "metadata": {},
     "output_type": "execute_result"
    }
   ],
   "source": [
    "Eq_1_1_2_2 = Eq_1_1.subs({a:Eq_2_2_simplified.rhs, e_gy:O_xy(e_gx)})\n",
    "Eq_1_1_2_2"
   ]
  },
  {
   "cell_type": "code",
   "execution_count": 41,
   "metadata": {},
   "outputs": [
    {
     "data": {
      "image/png": "[encoded data removed]",
      "text/latex": [
       "$$\\operatorname{F_{b}}{\\left (x,p_{auseX} \\right )} = \\left(- \\operatorname{O_{xy}}{\\left (p_{auseX} \\right )} + \\operatorname{O_{xy}}{\\left (x \\right )}\\right) \\left(\\frac{p_{e}}{2 r_{d} \\left(1 - e^{- p_{e}}\\right)} + \\frac{1}{2 r_{d}} + \\frac{\\frac{p_{e}}{e^{p_{e}} - 1} - \\frac{2 r_{d} s_{s}}{- \\operatorname{O_{xy}}{\\left (p_{auseX} \\right )} + \\operatorname{O_{xy}}{\\left (x \\right )}} + 1}{2 r_{d} \\left(- \\frac{p_{e}}{e^{p_{e}} - 1} + \\frac{2 r_{d} s_{s}}{- \\operatorname{O_{xy}}{\\left (p_{auseX} \\right )} + \\operatorname{O_{xy}}{\\left (x \\right )}}\\right)}\\right) - \\frac{d}{d x} \\operatorname{O_{xy}}{\\left (x \\right )}$$"
      ],
      "text/plain": [
       "                                             ⎛                                \n",
       "                                             ⎜                              ──\n",
       "                                             ⎜                               p\n",
       "                                             ⎜       pₑ            1        ℯ \n",
       "F_b(x, p_auseX) = (-O_xy(p_auseX) + O_xy(x))⋅⎜──────────────── + ───── + ─────\n",
       "                                             ⎜      ⎛     -pₑ⎞   2⋅r_d        \n",
       "                                             ⎜2⋅r_d⋅⎝1 - ℯ   ⎠           2⋅r_d\n",
       "                                             ⎜                                \n",
       "                                             ⎝                                \n",
       "\n",
       " pₑ             2⋅r_d⋅sₛ               ⎞              \n",
       "───── - ──────────────────────── + 1   ⎟              \n",
       "ₑ       -O_xy(p_auseX) + O_xy(x)       ⎟              \n",
       "  - 1                                  ⎟   d          \n",
       "───────────────────────────────────────⎟ - ──(O_xy(x))\n",
       " ⎛     pₑ             2⋅r_d⋅sₛ        ⎞⎟   dx         \n",
       "⋅⎜- ─────── + ────────────────────────⎟⎟              \n",
       " ⎜   pₑ       -O_xy(p_auseX) + O_xy(x)⎟⎟              \n",
       " ⎝  ℯ   - 1                           ⎠⎠              "
      ]
     },
     "execution_count": 41,
     "metadata": {},
     "output_type": "execute_result"
    }
   ],
   "source": [
    "Eq_bisection = Eq(F_b(x, p_auseX), Eq_1_1_2_2.lhs.subs({e_gx:x, s_gy:O_xy(p_auseX), s_gx:p_auseX-r_d}) - diff(O_xy(x), x))\n",
    "Eq_bisection"
   ]
  },
  {
   "cell_type": "code",
   "execution_count": null,
   "metadata": {},
   "outputs": [],
   "source": [
    "Eq_bisection_simplified = Eq"
   ]
  },
  {
   "cell_type": "code",
   "execution_count": 18,
   "metadata": {
    "scrolled": true
   },
   "outputs": [
    {
     "ename": "NameError",
     "evalue": "name 'Eq_bisection' is not defined",
     "output_type": "error",
     "traceback": [
      "\u001b[0;31m---------------------------------------------------------------------------\u001b[0m",
      "\u001b[0;31mNameError\u001b[0m                                 Traceback (most recent call last)",
      "\u001b[0;32m<ipython-input-18-ab615eff7ac9>\u001b[0m in \u001b[0;36m<module>\u001b[0;34m()\u001b[0m\n\u001b[0;32m----> 1\u001b[0;31m \u001b[0mEq_newton\u001b[0m \u001b[0;34m=\u001b[0m \u001b[0mEq\u001b[0m\u001b[0;34m(\u001b[0m\u001b[0mF_n\u001b[0m\u001b[0;34m(\u001b[0m\u001b[0mx\u001b[0m\u001b[0;34m,\u001b[0m \u001b[0mp_auseX\u001b[0m\u001b[0;34m)\u001b[0m\u001b[0;34m,\u001b[0m \u001b[0mx\u001b[0m \u001b[0;34m-\u001b[0m \u001b[0mEq_bisection\u001b[0m\u001b[0;34m.\u001b[0m\u001b[0mrhs\u001b[0m\u001b[0;34m/\u001b[0m\u001b[0mdiff\u001b[0m\u001b[0;34m(\u001b[0m\u001b[0mEq_bisection\u001b[0m\u001b[0;34m.\u001b[0m\u001b[0mrhs\u001b[0m\u001b[0;34m,\u001b[0m \u001b[0mx\u001b[0m\u001b[0;34m)\u001b[0m\u001b[0;34m)\u001b[0m\u001b[0;34m\u001b[0m\u001b[0m\n\u001b[0m\u001b[1;32m      2\u001b[0m \u001b[0mEq_newton\u001b[0m\u001b[0;34m\u001b[0m\u001b[0m\n",
      "\u001b[0;31mNameError\u001b[0m: name 'Eq_bisection' is not defined"
     ]
    }
   ],
   "source": [
    "Eq_newton = Eq(F_n(x, p_auseX), x - Eq_bisection.rhs/diff(Eq_bisection.rhs, x))\n",
    "Eq_newton"
   ]
  },
  {
   "cell_type": "code",
   "execution_count": 19,
   "metadata": {},
   "outputs": [
    {
     "data": {
      "image/png": "[encoded data removed]",
      "text/latex": [
       "$$\\operatorname{F_{b}}{\\left (x,p_{ausex} \\right )} = \\sqrt{s_{s} \\frac{d}{d x} \\operatorname{O_{xy}}{\\left (x \\right )}} \\left(p_{ausex} - r_{d} - x\\right) - \\operatorname{O_{xy}}{\\left (p_{ausex} \\right )} + \\operatorname{O_{xy}}{\\left (x \\right )}$$"
      ],
      "text/plain": [
       "                     ________________                                         \n",
       "                    ╱    d                                                    \n",
       "F_b(x, pₐᵤₛₑₓ) =   ╱  sₛ⋅──(O_xy(x)) ⋅(pₐᵤₛₑₓ - r_d - x) - O_xy(pₐᵤₛₑₓ) + O_xy\n",
       "                 ╲╱      dx                                                   \n",
       "\n",
       "   \n",
       "   \n",
       "(x)\n",
       "   "
      ]
     },
     "execution_count": 19,
     "metadata": {},
     "output_type": "execute_result"
    }
   ],
   "source": [
    "p_ausex = symbols('p_ausex')\n",
    "Eq_bisection3 = Eq(F_b(x, p_ausex), -O_xy(p_ausex)+O_xy(x)+sqrt(s_s*diff(O_xy(x), x))*(p_ausex - r_d - x))\n",
    "Eq_bisection3"
   ]
  },
  {
   "cell_type": "code",
   "execution_count": 20,
   "metadata": {},
   "outputs": [
    {
     "data": {
      "image/png": "[encoded data removed]",
      "text/latex": [
       "$$\\frac{\\sqrt{s_{s} \\frac{d}{d x} \\operatorname{O_{xy}}{\\left (x \\right )}} \\frac{d^{2}}{d x^{2}}  \\operatorname{O_{xy}}{\\left (x \\right )}}{2 \\frac{d}{d x} \\operatorname{O_{xy}}{\\left (x \\right )}} \\left(p_{ausex} - r_{d} - x\\right) - \\sqrt{s_{s} \\frac{d}{d x} \\operatorname{O_{xy}}{\\left (x \\right )}} + \\frac{d}{d x} \\operatorname{O_{xy}}{\\left (x \\right )}$$"
      ],
      "text/plain": [
       "    ________________                      2                                   \n",
       "   ╱    d                                d                                    \n",
       "  ╱  sₛ⋅──(O_xy(x)) ⋅(pₐᵤₛₑₓ - r_d - x)⋅───(O_xy(x))                          \n",
       "╲╱      dx                                2                ________________   \n",
       "                                        dx                ╱    d              \n",
       "──────────────────────────────────────────────────── -   ╱  sₛ⋅──(O_xy(x))  + \n",
       "                     d                                 ╲╱      dx             \n",
       "                   2⋅──(O_xy(x))                                              \n",
       "                     dx                                                       \n",
       "\n",
       "           \n",
       "           \n",
       "           \n",
       "           \n",
       "d          \n",
       "──(O_xy(x))\n",
       "dx         \n",
       "           \n",
       "           "
      ]
     },
     "execution_count": 20,
     "metadata": {},
     "output_type": "execute_result"
    }
   ],
   "source": [
    "diff(Eq_bisection3.rhs, x)"
   ]
  },
  {
   "cell_type": "code",
   "execution_count": 21,
   "metadata": {},
   "outputs": [
    {
     "data": {
      "image/png": "[encoded data removed]",
      "text/latex": [
       "$$e^{-6} + \\frac{1}{e^{6}} \\left(x + 6\\right) + \\frac{\\left(x + 6\\right)^{2}}{2 e^{6}} + \\frac{\\left(x + 6\\right)^{3}}{6 e^{6}} + \\frac{\\left(x + 6\\right)^{4}}{24 e^{6}} + \\frac{\\left(x + 6\\right)^{5}}{120 e^{6}} + \\frac{\\left(x + 6\\right)^{6}}{720 e^{6}} + \\frac{\\left(x + 6\\right)^{7}}{5040 e^{6}} + \\frac{\\left(x + 6\\right)^{8}}{40320 e^{6}} + \\frac{\\left(x + 6\\right)^{9}}{362880 e^{6}} + \\frac{\\left(x + 6\\right)^{10}}{3628800 e^{6}} + \\frac{\\left(x + 6\\right)^{11}}{39916800 e^{6}} + \\frac{\\left(x + 6\\right)^{12}}{479001600 e^{6}} + \\frac{\\left(x + 6\\right)^{13}}{6227020800 e^{6}} + \\frac{\\left(x + 6\\right)^{14}}{87178291200 e^{6}} + \\mathcal{O}\\left(\\left(x + 6\\right)^{15}; x\\rightarrow -6\\right)$$"
      ],
      "text/plain": [
       "                           2  -6          3  -6          4  -6          5  -6 \n",
       " -6            -6   (x + 6) ⋅ℯ     (x + 6) ⋅ℯ     (x + 6) ⋅ℯ     (x + 6) ⋅ℯ   \n",
       "ℯ   + (x + 6)⋅ℯ   + ──────────── + ──────────── + ──────────── + ──────────── \n",
       "                         2              6              24            120      \n",
       "\n",
       "         6  -6          7  -6          8  -6          9  -6          10  -6   \n",
       "  (x + 6) ⋅ℯ     (x + 6) ⋅ℯ     (x + 6) ⋅ℯ     (x + 6) ⋅ℯ     (x + 6)  ⋅ℯ     \n",
       "+ ──────────── + ──────────── + ──────────── + ──────────── + ───────────── + \n",
       "      720            5040          40320          362880         3628800      \n",
       "\n",
       "       11  -6          12  -6          13  -6          14  -6                 \n",
       "(x + 6)  ⋅ℯ     (x + 6)  ⋅ℯ     (x + 6)  ⋅ℯ     (x + 6)  ⋅ℯ      ⎛       15   \n",
       "───────────── + ───────────── + ───────────── + ───────────── + O⎝(x + 6)  ; x\n",
       "   39916800       479001600       6227020800     87178291200                  \n",
       "\n",
       "      \n",
       "     ⎞\n",
       " → -6⎠\n",
       "      "
      ]
     },
     "execution_count": 21,
     "metadata": {},
     "output_type": "execute_result"
    }
   ],
   "source": [
    "series(exp(x), n=15, x0=-6)"
   ]
  },
  {
   "cell_type": "code",
   "execution_count": 22,
   "metadata": {},
   "outputs": [
    {
     "data": {
      "text/latex": [
       "$$\\left. \\frac{d}{d x} \\operatorname{G_{xy}}{\\left (x \\right )} \\right|_{\\substack{ x=s_{gx} }} = s_{s}$$"
      ],
      "text/plain": [
       "⎛d          ⎞│           \n",
       "⎜──(G_xy(x))⎟│       = sₛ\n",
       "⎝dx         ⎠│x=s_gx     "
      ]
     },
     "execution_count": 22,
     "metadata": {},
     "output_type": "execute_result"
    }
   ],
   "source": [
    "Eq(Subs(Derivative(G_xy(x), x), x, s_gx), s_s)"
   ]
  },
  {
   "cell_type": "code",
   "execution_count": 23,
   "metadata": {},
   "outputs": [
    {
     "data": {
      "text/latex": [
       "$$\\left. \\frac{d}{d x} \\operatorname{G_{xy}}{\\left (x \\right )} \\right|_{\\substack{ x=e_{gx} }} = s_{e}$$"
      ],
      "text/plain": [
       "⎛d          ⎞│           \n",
       "⎜──(G_xy(x))⎟│       = sₑ\n",
       "⎝dx         ⎠│x=e_gx     "
      ]
     },
     "execution_count": 23,
     "metadata": {},
     "output_type": "execute_result"
    }
   ],
   "source": [
    "Eq(Subs(Derivative(G_xy(x), x), x, e_gx), s_e)"
   ]
  },
  {
   "cell_type": "code",
   "execution_count": null,
   "metadata": {},
   "outputs": [],
   "source": []
  }
 ],
 "metadata": {
  "kernelspec": {
   "display_name": "Python 3",
   "language": "python",
   "name": "python3"
  },
  "language_info": {
   "codemirror_mode": {
    "name": "ipython",
    "version": 3
   },
   "file_extension": ".py",
   "mimetype": "text/x-python",
   "name": "python",
   "nbconvert_exporter": "python",
   "pygments_lexer": "ipython3",
   "version": "3.6.4"
  }
 },
 "nbformat": 4,
 "nbformat_minor": 2
}
