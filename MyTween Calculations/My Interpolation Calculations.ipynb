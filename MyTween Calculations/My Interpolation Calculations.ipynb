{
 "cells": [
  {
   "cell_type": "code",
   "execution_count": 3,
   "metadata": {},
   "outputs": [],
   "source": [
    "from sympy import *\n",
    "init_printing();\n",
    "s_x, s_y, e_x, e_y = symbols('s_x s_y e_x e_y')"
   ]
  },
  {
   "cell_type": "code",
   "execution_count": 4,
   "metadata": {},
   "outputs": [],
   "source": [
    "def generateTestingValues(expr, x, startX, endX, sampleSize):\n",
    "    testingValues = []\n",
    "    i = startX\n",
    "    while i <= endX:\n",
    "        testingValues.append(i)\n",
    "        testingValues.append(expr.subs({x:i}).evalf())\n",
    "        i += (endX-startX)/sampleSize\n",
    "    return testingValues;"
   ]
  },
  {
   "cell_type": "code",
   "execution_count": 5,
   "metadata": {},
   "outputs": [],
   "source": [
    "def generateApplyInOut(eqIn, eqOut):\n",
    "    return Piecewise((eqIn.rhs.subs({x:2*x})/2, x <= 0.5), (0.5+eqOut.rhs.subs({x:2*(x-0.5)})/2, x > 0.5))"
   ]
  },
  {
   "cell_type": "code",
   "execution_count": 6,
   "metadata": {},
   "outputs": [],
   "source": [
    "def generateSlopeAtInOut(eqIn, eqOut):\n",
    "    return Piecewise((eqIn.rhs.subs({x:2*x}), x <= 0.5), (eqOut.rhs.subs({x:2*(x-0.5)}), x > 0.5))"
   ]
  },
  {
   "cell_type": "code",
   "execution_count": 7,
   "metadata": {},
   "outputs": [],
   "source": [
    "def generateInverseInOut(eqIn, eqOut, varIn, varOut):\n",
    "    return Piecewise((eqIn.rhs.subs({varIn:2*x})/2, x <= 0.5), (0.5+eqOut.rhs.subs({varOut:2*(x-0.5)})/2, x > 0.5))"
   ]
  },
  {
   "cell_type": "code",
   "execution_count": 8,
   "metadata": {},
   "outputs": [],
   "source": [
    "def plotInOutPiecewise(eqInOutPiecewise):\n",
    "    plot((eqInOutPiecewise.rhs.args[0][0], (x, 0, 0.5)), (eqInOutPiecewise.rhs.args[1][0], (x, 0.5, 1)))"
   ]
  },
  {
   "cell_type": "markdown",
   "metadata": {},
   "source": [
    "# Exponential"
   ]
  },
  {
   "cell_type": "code",
   "execution_count": 9,
   "metadata": {},
   "outputs": [
    {
     "data": {
      "image/png": "[encoded data removed]",
      "text/latex": [
       "$$E_{in} = \\frac{e^{p \\left(x - 1\\right)} - e^{- p}}{1 - e^{- p}}$$"
      ],
      "text/plain": [
       "       p⋅(x - 1)    -p\n",
       "      ℯ          - ℯ  \n",
       "Eᵢₙ = ────────────────\n",
       "               -p     \n",
       "          1 - ℯ       "
      ]
     },
     "execution_count": 9,
     "metadata": {},
     "output_type": "execute_result"
    }
   ],
   "source": [
    "x, x01, y, y01, p, power, E_in, E_out, E_inOut, E_slopeIn, E_slopeOut, E_slopeInOut, slope, E_inverseIn, E_inverseOut, E_inverseInOut = symbols('x x01 y y01 p power E_in E_out E_inOut E_slopeIn E_slopeOut E_slopeInOut slope E_inverseIn E_inverseOut E_inverseInOut')\n",
    "\n",
    "_E_in = Eq(E_in, (exp(p*(x-1))-exp(-p))*(1/(1-exp(-p))))\n",
    "_E_in"
   ]
  },
  {
   "cell_type": "code",
   "execution_count": 20,
   "metadata": {
    "scrolled": true
   },
   "outputs": [
    {
     "data": {
      "image/png": "[encoded data removed]",
      "text/latex": [
       "$$E_{out} = 1 - \\frac{e^{- p x} - e^{- p}}{1 - e^{- p}}$$"
      ],
      "text/plain": [
       "            -p⋅x    -p\n",
       "           ℯ     - ℯ  \n",
       "Eₒᵤₜ = 1 - ───────────\n",
       "                  -p  \n",
       "             1 - ℯ    "
      ]
     },
     "execution_count": 20,
     "metadata": {},
     "output_type": "execute_result"
    }
   ],
   "source": [
    "_E_out = Eq(E_out, 1-((exp(-p*x)-exp(-p))/(1-exp(-p))))\n",
    "_E_out"
   ]
  },
  {
   "cell_type": "code",
   "execution_count": 38,
   "metadata": {},
   "outputs": [
    {
     "data": {
      "text/latex": [
       "$$E_{inOut} = \\begin{cases} \\frac{e^{p \\left(2 x - 1\\right)} - e^{- p}}{2 \\left(1 - e^{- p}\\right)} & \\text{for}\\: x \\leq 0.5 \\\\1.0 - \\frac{e^{- p \\left(2 x - 1.0\\right)} - e^{- p}}{2 \\left(1 - e^{- p}\\right)} & \\text{for}\\: x > 0.5 \\end{cases}$$"
      ],
      "text/plain": [
       "          ⎧     p⋅(2⋅x - 1)    -p                  \n",
       "          ⎪    ℯ            - ℯ                    \n",
       "          ⎪    ──────────────────       for x ≤ 0.5\n",
       "          ⎪         ⎛     -p⎞                      \n",
       "          ⎪       2⋅⎝1 - ℯ  ⎠                      \n",
       "E_inOut = ⎨                                        \n",
       "          ⎪       -p⋅(2⋅x - 1.0)    -p             \n",
       "          ⎪      ℯ               - ℯ               \n",
       "          ⎪1.0 - ─────────────────────  for x > 0.5\n",
       "          ⎪             ⎛     -p⎞                  \n",
       "          ⎩           2⋅⎝1 - ℯ  ⎠                  "
      ]
     },
     "execution_count": 38,
     "metadata": {},
     "output_type": "execute_result"
    }
   ],
   "source": [
    "_E_inOut = Eq(E_inOut, generateApplyInOut(_E_in, _E_out))\n",
    "_E_inOut"
   ]
  },
  {
   "cell_type": "code",
   "execution_count": 39,
   "metadata": {
    "scrolled": true
   },
   "outputs": [
    {
     "data": {
      "image/png": "[encoded data removed]",
      "text/plain": [
       "<matplotlib.figure.Figure at 0x107487c18>"
      ]
     },
     "metadata": {},
     "output_type": "display_data"
    }
   ],
   "source": [
    "plotInOutPiecewise(_E_inOut.subs({p:10}))"
   ]
  },
  {
   "cell_type": "markdown",
   "metadata": {},
   "source": [
    "### slopeAt(x01)"
   ]
  },
  {
   "cell_type": "code",
   "execution_count": 18,
   "metadata": {},
   "outputs": [
    {
     "data": {
      "image/png": "[encoded data removed]",
      "text/latex": [
       "$$E_{slopeIn} = \\frac{p e^{p \\left(x - 1\\right)}}{1 - e^{- p}}$$"
      ],
      "text/plain": [
       "               p⋅(x - 1)\n",
       "            p⋅ℯ         \n",
       "E_slopeIn = ────────────\n",
       "                   -p   \n",
       "              1 - ℯ     "
      ]
     },
     "execution_count": 18,
     "metadata": {},
     "output_type": "execute_result"
    }
   ],
   "source": [
    "_E_slopeIn = Eq(E_slopeIn, diff(_E_in.rhs, x))\n",
    "_E_slopeIn"
   ]
  },
  {
   "cell_type": "code",
   "execution_count": 21,
   "metadata": {},
   "outputs": [
    {
     "data": {
      "image/png": "[encoded data removed]",
      "text/latex": [
       "$$E_{slopeOut} = \\frac{p e^{- p x}}{1 - e^{- p}}$$"
      ],
      "text/plain": [
       "                -p⋅x\n",
       "             p⋅ℯ    \n",
       "E_slopeOut = ───────\n",
       "                  -p\n",
       "             1 - ℯ  "
      ]
     },
     "execution_count": 21,
     "metadata": {},
     "output_type": "execute_result"
    }
   ],
   "source": [
    "_E_slopeOut = Eq(E_slopeOut, diff(_E_out.rhs, x))\n",
    "_E_slopeOut"
   ]
  },
  {
   "cell_type": "code",
   "execution_count": 42,
   "metadata": {},
   "outputs": [
    {
     "data": {
      "text/latex": [
       "$$E_{slopeInOut} = \\begin{cases} \\frac{p e^{p \\left(2 x - 1\\right)}}{1 - e^{- p}} & \\text{for}\\: x \\leq 0.5 \\\\\\frac{p e^{- p \\left(2 x - 1.0\\right)}}{1 - e^{- p}} & \\text{for}\\: x > 0.5 \\end{cases}$$"
      ],
      "text/plain": [
       "               ⎧    p⋅(2⋅x - 1)               \n",
       "               ⎪ p⋅ℯ                          \n",
       "               ⎪ ──────────────    for x ≤ 0.5\n",
       "               ⎪         -p                   \n",
       "               ⎪    1 - ℯ                     \n",
       "E_slopeInOut = ⎨                              \n",
       "               ⎪   -p⋅(2⋅x - 1.0)             \n",
       "               ⎪p⋅ℯ                           \n",
       "               ⎪─────────────────  for x > 0.5\n",
       "               ⎪          -p                  \n",
       "               ⎩     1 - ℯ                    "
      ]
     },
     "execution_count": 42,
     "metadata": {},
     "output_type": "execute_result"
    }
   ],
   "source": [
    "_E_slopeInOut = Eq(E_slopeInOut, generateSlopeAtInOut(_E_slopeIn, _E_slopeOut))\n",
    "_E_slopeInOut"
   ]
  },
  {
   "cell_type": "code",
   "execution_count": 43,
   "metadata": {},
   "outputs": [
    {
     "data": {
      "image/png": "[encoded data removed]",
      "text/plain": [
       "<matplotlib.figure.Figure at 0x10d34c160>"
      ]
     },
     "metadata": {},
     "output_type": "display_data"
    }
   ],
   "source": [
    "plotInOutPiecewise(_E_slopeInOut.subs({p:10}))"
   ]
  },
  {
   "cell_type": "markdown",
   "metadata": {},
   "source": [
    "### inverseFunction(y01)"
   ]
  },
  {
   "cell_type": "code",
   "execution_count": 44,
   "metadata": {
    "scrolled": true
   },
   "outputs": [
    {
     "data": {
      "image/png": "[encoded data removed]",
      "text/latex": [
       "$$E_{inverseIn} = 1 + \\frac{1}{p} \\log{\\left (\\left(E_{in} \\left(e^{p} - 1\\right) + 1\\right) e^{- p} \\right )}$$"
      ],
      "text/plain": [
       "                     ⎛⎛    ⎛ p    ⎞    ⎞  -p⎞\n",
       "                  log⎝⎝Eᵢₙ⋅⎝ℯ  - 1⎠ + 1⎠⋅ℯ  ⎠\n",
       "E_inverseIn = 1 + ───────────────────────────\n",
       "                               p             "
      ]
     },
     "execution_count": 44,
     "metadata": {},
     "output_type": "execute_result"
    }
   ],
   "source": [
    "_E_inverseIn = Eq(E_inverseIn, solveset(_E_in, x, domain=S.Reals).args[1].args[0])\n",
    "_E_inverseIn"
   ]
  },
  {
   "cell_type": "code",
   "execution_count": 45,
   "metadata": {
    "scrolled": false
   },
   "outputs": [
    {
     "data": {
      "image/png": "[encoded data removed]",
      "text/latex": [
       "$$E_{inverseOut} = \\frac{1}{p} \\log{\\left (\\frac{e^{p}}{- E_{out} e^{p} + E_{out} + e^{p}} \\right )}$$"
      ],
      "text/plain": [
       "                  ⎛           p         ⎞\n",
       "                  ⎜          ℯ          ⎟\n",
       "               log⎜─────────────────────⎟\n",
       "                  ⎜        p           p⎟\n",
       "                  ⎝- Eₒᵤₜ⋅ℯ  + Eₒᵤₜ + ℯ ⎠\n",
       "E_inverseOut = ──────────────────────────\n",
       "                           p             "
      ]
     },
     "execution_count": 45,
     "metadata": {},
     "output_type": "execute_result"
    }
   ],
   "source": [
    "_E_inverseOut = Eq(E_inverseOut, solve(_E_out, x)[0])\n",
    "_E_inverseOut"
   ]
  },
  {
   "cell_type": "code",
   "execution_count": 46,
   "metadata": {},
   "outputs": [
    {
     "data": {
      "text/latex": [
       "$$E_{inverseInOut} = \\begin{cases} \\frac{1}{2} + \\frac{1}{2 p} \\log{\\left (\\left(2 x \\left(e^{p} - 1\\right) + 1\\right) e^{- p} \\right )} & \\text{for}\\: x \\leq 0.5 \\\\0.5 + \\frac{1}{2 p} \\log{\\left (\\frac{e^{p}}{2 x - \\left(2 x - 1.0\\right) e^{p} + e^{p} - 1.0} \\right )} & \\text{for}\\: x > 0.5 \\end{cases}$$"
      ],
      "text/plain": [
       "                 ⎧            ⎛⎛    ⎛ p    ⎞    ⎞  -p⎞                   \n",
       "                 ⎪     1   log⎝⎝2⋅x⋅⎝ℯ  - 1⎠ + 1⎠⋅ℯ  ⎠                   \n",
       "                 ⎪     ─ + ───────────────────────────        for x ≤ 0.5\n",
       "                 ⎪     2               2⋅p                               \n",
       "                 ⎪                                                       \n",
       "                 ⎪         ⎛                p              ⎞             \n",
       "E_inverseInOut = ⎨         ⎜               ℯ               ⎟             \n",
       "                 ⎪      log⎜───────────────────────────────⎟             \n",
       "                 ⎪         ⎜                   p    p      ⎟             \n",
       "                 ⎪         ⎝2⋅x - (2⋅x - 1.0)⋅ℯ  + ℯ  - 1.0⎠             \n",
       "                 ⎪0.5 + ────────────────────────────────────  for x > 0.5\n",
       "                 ⎪                      2⋅p                              \n",
       "                 ⎩                                                       "
      ]
     },
     "execution_count": 46,
     "metadata": {},
     "output_type": "execute_result"
    }
   ],
   "source": [
    "_E_inverseInOut = Eq(E_inverseInOut, generateInverseInOut(_E_inverseIn, _E_inverseOut, E_in, E_out))\n",
    "_E_inverseInOut"
   ]
  },
  {
   "cell_type": "code",
   "execution_count": 47,
   "metadata": {},
   "outputs": [
    {
     "data": {
      "image/png": "[encoded data removed]",
      "text/plain": [
       "<matplotlib.figure.Figure at 0x10d146198>"
      ]
     },
     "metadata": {},
     "output_type": "display_data"
    }
   ],
   "source": [
    "plotInOutPiecewise(_E_inverseInOut.subs({p:10}))"
   ]
  },
  {
   "cell_type": "markdown",
   "metadata": {},
   "source": [
    "#### codegen"
   ]
  },
  {
   "cell_type": "code",
   "execution_count": 48,
   "metadata": {
    "scrolled": true
   },
   "outputs": [
    {
     "data": {
      "text/plain": [
       "'1 + Math.log((y01*(Math.exp(power) - 1) + 1)*Math.exp(-power))/power'"
      ]
     },
     "execution_count": 48,
     "metadata": {},
     "output_type": "execute_result"
    }
   ],
   "source": [
    "jscode(_E_inverseIn.rhs.subs({p:power, E_in:y01}))"
   ]
  },
  {
   "cell_type": "markdown",
   "metadata": {},
   "source": [
    "#### Testing values"
   ]
  },
  {
   "cell_type": "code",
   "execution_count": 49,
   "metadata": {
    "scrolled": true
   },
   "outputs": [
    {
     "name": "stdout",
     "output_type": "stream",
     "text": [
      "[0, 0, 0.1, 7.80134161278074e-5, 0.2, 0.000290075867564040, 0.30000000000000004, 0.000866521375801630, 0.4, 0.00243346272594071, 0.5, 0.00669285092428486, 0.6, 0.0182710684641967, 0.7, 0.0497439268088847, 0.7999999999999999, 0.135296025736916, 0.8999999999999999, 0.367850741639513, 0.9999999999999999, 0.999999999999998]\n"
     ]
    }
   ],
   "source": [
    "E_applyInTestingValues = generateTestingValues(_E_in.rhs.subs({p:10}), x, 0, 1, 10)\n",
    "print(E_applyInTestingValues)"
   ]
  },
  {
   "cell_type": "code",
   "execution_count": 50,
   "metadata": {},
   "outputs": [
    {
     "name": "stdout",
     "output_type": "stream",
     "text": [
      "[0, 0, 0.1, 0.632149258360487, 0.2, 0.864703974263084, 0.30000000000000004, 0.950256073191115, 0.4, 0.981728931535803, 0.5, 0.993307149075715, 0.6, 0.997566537274059, 0.7, 0.999133478624198, 0.7999999999999999, 0.999709924132436, 0.8999999999999999, 0.999921986583872, 0.9999999999999999, 1.00000000000000]\n"
     ]
    }
   ],
   "source": [
    "E_applyOutTestingValues = generateTestingValues(_E_out.rhs.subs({p:10}), x, 0, 1, 10)\n",
    "print(E_applyOutTestingValues)"
   ]
  },
  {
   "cell_type": "code",
   "execution_count": 51,
   "metadata": {},
   "outputs": [
    {
     "name": "stdout",
     "output_type": "stream",
     "text": [
      "[0, 0, 0.1, 0.000145037933782020, 0.2, 0.00121673136297036, 0.30000000000000004, 0.00913553423209834, 0.4, 0.0676480128684579, 0.5, 0.500000000000000, 0.6, 0.932351987131542, 0.7, 0.990864465767902, 0.7999999999999999, 0.998783268637030, 0.8999999999999999, 0.999854962066218, 0.9999999999999999, 1.00000000000000]\n"
     ]
    }
   ],
   "source": [
    "E_applyInOutTestingValues = generateTestingValues(_E_inOut.rhs.subs({p:10}), x, 0, 1, 10)\n",
    "print(E_applyInOutTestingValues)"
   ]
  },
  {
   "cell_type": "code",
   "execution_count": 52,
   "metadata": {},
   "outputs": [
    {
     "name": "stdout",
     "output_type": "stream",
     "text": [
      "[0, 0.000454019910096878, 0.1, 0.00123415407137495, 0.2, 0.00335477858573728, 0.30000000000000004, 0.00911923366811318, 0.4, 0.0247886471695040, 0.5, 0.0673825291529454, 0.6, 0.183164704552063, 0.7, 0.497893287998944, 0.7999999999999999, 1.35341427727925, 0.8999999999999999, 3.67896143630523, 0.9999999999999999, 10.0004540199101]\n"
     ]
    }
   ],
   "source": [
    "E_slopeInTestingValues = generateTestingValues(_E_slopeIn.rhs.subs({p:10}), x, 0, 1, 10)\n",
    "print(E_slopeInTestingValues)"
   ]
  },
  {
   "cell_type": "code",
   "execution_count": 53,
   "metadata": {},
   "outputs": [
    {
     "name": "stdout",
     "output_type": "stream",
     "text": [
      "[0, 10.0004540199101, 0.1, 3.67896143630523, 0.2, 1.35341427727926, 0.30000000000000004, 0.497893287998944, 0.4, 0.183164704552063, 0.5, 0.0673825291529454, 0.6, 0.0247886471695040, 0.7, 0.00911923366811318, 0.7999999999999999, 0.00335477858573728, 0.8999999999999999, 0.00123415407137495, 0.9999999999999999, 0.000454019910096879]\n"
     ]
    }
   ],
   "source": [
    "E_slopeOutTestingValues = generateTestingValues(_E_slopeOut.rhs.subs({p:10}), x, 0, 1, 10)\n",
    "print(E_slopeOutTestingValues)"
   ]
  },
  {
   "cell_type": "code",
   "execution_count": 54,
   "metadata": {},
   "outputs": [
    {
     "name": "stdout",
     "output_type": "stream",
     "text": [
      "[0, 0.000454019910096878, 0.1, 0.00335477858573728, 0.2, 0.0247886471695040, 0.30000000000000004, 0.183164704552064, 0.4, 1.35341427727926, 0.5, 10.0004540199101, 0.6, 1.35341427727926, 0.7, 0.183164704552063, 0.7999999999999999, 0.0247886471695040, 0.8999999999999999, 0.00335477858573728, 0.9999999999999999, 0.000454019910096879]\n"
     ]
    }
   ],
   "source": [
    "E_slopeInOutTestingValues = generateTestingValues(_E_slopeInOut.rhs.subs({p:10}), x, 0, 1, 10)\n",
    "print(E_slopeInOutTestingValues)"
   ]
  },
  {
   "cell_type": "code",
   "execution_count": 55,
   "metadata": {},
   "outputs": [
    {
     "name": "stdout",
     "output_type": "stream",
     "text": [
      "[0, 0, 0.1, 0.769782342291983, 0.2, 0.839074367079772, 0.30000000000000004, 0.879613312323299, 0.4, 0.908377736570180, 0.5, 0.930689821833927, 0.6, 0.948920464239583, 0.7, 0.964334451298474, 0.7999999999999999, 0.977686779860382, 0.8999999999999999, 0.989464452876609, 0.9999999999999999, 1.00000000000000]\n"
     ]
    }
   ],
   "source": [
    "E_inverseInTestingValues = generateTestingValues(_E_inverseIn.rhs.subs({p:10}), E_in, 0, 1, 10)\n",
    "print(E_inverseInTestingValues)"
   ]
  },
  {
   "cell_type": "code",
   "execution_count": 56,
   "metadata": {
    "scrolled": true
   },
   "outputs": [
    {
     "name": "stdout",
     "output_type": "stream",
     "text": [
      "[0, 0, 0.1, 0.0105355471233909, 0.2, 0.0223132201396180, 0.30000000000000004, 0.0356655487015264, 0.4, 0.0510795357604174, 0.5, 0.0693101781660728, 0.6, 0.0916222634298204, 0.7, 0.120386687676701, 0.7999999999999999, 0.160925632920228, 0.8999999999999999, 0.230217657708017, 0.9999999999999999, 0.999999999999755]\n"
     ]
    }
   ],
   "source": [
    "E_inverseOutTestingValues = generateTestingValues(_E_inverseOut.rhs.subs({p:10}), E_out, 0, 1, 10)\n",
    "print(E_inverseOutTestingValues)"
   ]
  },
  {
   "cell_type": "code",
   "execution_count": 57,
   "metadata": {},
   "outputs": [
    {
     "name": "stdout",
     "output_type": "stream",
     "text": [
      "[0, 0, 0.1, 0.419537183539886, 0.2, 0.454188868285090, 0.30000000000000004, 0.474460232119791, 0.4, 0.488843389930191, 0.5, 0.500000000000000, 0.6, 0.511156610069809, 0.7, 0.525539767880209, 0.7999999999999999, 0.545811131714910, 0.8999999999999999, 0.580462816460114, 0.9999999999999999, 0.999999999999755]\n"
     ]
    }
   ],
   "source": [
    "E_inverseInOutTestingValues = generateTestingValues(_E_inverseInOut.rhs.subs({p:10}), x, 0, 1, 10)\n",
    "print(E_inverseInOutTestingValues)"
   ]
  },
  {
   "cell_type": "code",
   "execution_count": 58,
   "metadata": {
    "scrolled": true
   },
   "outputs": [
    {
     "data": {
      "image/png": "[encoded data removed]",
      "text/latex": [
       "$$E_{inxy} = s_{y} + \\frac{1}{1 - e^{- p}} \\left(e_{y} - s_{y}\\right) \\left(e^{p \\left(-1 + \\frac{- s_{x} + x}{e_{x} - s_{x}}\\right)} - e^{- p}\\right)$$"
      ],
      "text/plain": [
       "                           ⎛   ⎛     -sₓ + x⎞      ⎞\n",
       "                           ⎜ p⋅⎜-1 + ───────⎟      ⎟\n",
       "                           ⎜   ⎝     eₓ - sₓ⎠    -p⎟\n",
       "               (e_y - s_y)⋅⎝ℯ                 - ℯ  ⎠\n",
       "E_inxy = s_y + ─────────────────────────────────────\n",
       "                                   -p               \n",
       "                              1 - ℯ                 "
      ]
     },
     "execution_count": 58,
     "metadata": {},
     "output_type": "execute_result"
    }
   ],
   "source": [
    "E_inxy = symbols('E_inxy')\n",
    "_E_inxy = Eq(E_inxy, s_y+(e_y-s_y)*_E_in.rhs.subs({x:(x-s_x)/(e_x-s_x)}))\n",
    "_E_inxy"
   ]
  },
  {
   "cell_type": "code",
   "execution_count": 59,
   "metadata": {},
   "outputs": [
    {
     "name": "stdout",
     "output_type": "stream",
     "text": [
      "[-10, 30.0000000000000, 81.0, 30.0756730136440, 172.0, 30.2813735915371, 263.0, 30.8405257345276, 354.0, 32.3604588441625, 445.0, 36.4920653965563, 536.0, 47.7229364102708, 627.0, 78.2516090046181, 718.0, 161.237144964808, 809.0, 386.815219390328, 900.0, 1000.00000000000]\n"
     ]
    }
   ],
   "source": [
    "startX = -10\n",
    "endX = 900\n",
    "startY = 30\n",
    "endY = 1000\n",
    "E_inXyApplyTestingValues = generateTestingValues(_E_inxy.rhs.subs({s_y:startY, e_y:endY, s_x:startX, e_x:endX, p:10}), x, startX, endX, 10)\n",
    "print(E_inXyApplyTestingValues)"
   ]
  },
  {
   "cell_type": "code",
   "execution_count": 60,
   "metadata": {
    "scrolled": true
   },
   "outputs": [
    {
     "data": {
      "image/png": "[encoded data removed]",
      "text/plain": [
       "<matplotlib.figure.Figure at 0x10d3717b8>"
      ]
     },
     "metadata": {},
     "output_type": "display_data"
    },
    {
     "data": {
      "text/plain": [
       "<sympy.plotting.plot.Plot at 0x10d4b7a58>"
      ]
     },
     "execution_count": 60,
     "metadata": {},
     "output_type": "execute_result"
    }
   ],
   "source": [
    "exprInXyPlot = _E_inxy.rhs.subs({s_y:startY, e_y:endY, s_x:startX, e_x:endX, p:10})\n",
    "plot((exprInXyPlot, (x, startX, endX)))"
   ]
  },
  {
   "cell_type": "code",
   "execution_count": 61,
   "metadata": {},
   "outputs": [
    {
     "data": {
      "image/png": "[encoded data removed]",
      "text/latex": [
       "$$E_{slopeInXy} = \\frac{p \\left(e_{y} - s_{y}\\right) e^{p \\left(-1 + \\frac{- s_{x} + x}{e_{x} - s_{x}}\\right)}}{\\left(1 - e^{- p}\\right) \\left(e_{x} - s_{x}\\right)}$$"
      ],
      "text/plain": [
       "                               ⎛     -sₓ + x⎞\n",
       "                             p⋅⎜-1 + ───────⎟\n",
       "                               ⎝     eₓ - sₓ⎠\n",
       "              p⋅(e_y - s_y)⋅ℯ                \n",
       "E_slopeInXy = ───────────────────────────────\n",
       "                    ⎛     -p⎞                \n",
       "                    ⎝1 - ℯ  ⎠⋅(eₓ - sₓ)      "
      ]
     },
     "execution_count": 61,
     "metadata": {},
     "output_type": "execute_result"
    }
   ],
   "source": [
    "E_slopeInXy = symbols('E_slopeInXy')\n",
    "_E_slopeInXy = Eq(E_slopeInXy, (e_y-s_y)/(e_x-s_x)*_E_slopeIn.rhs.subs({x:(x-s_x)/(e_x-s_x)}))\n",
    "_E_slopeInXy"
   ]
  },
  {
   "cell_type": "code",
   "execution_count": 62,
   "metadata": {},
   "outputs": [
    {
     "data": {
      "image/png": "[encoded data removed]",
      "text/plain": [
       "<matplotlib.figure.Figure at 0x10d4aa0b8>"
      ]
     },
     "metadata": {},
     "output_type": "display_data"
    },
    {
     "data": {
      "text/plain": [
       "<sympy.plotting.plot.Plot at 0x10d4aa080>"
      ]
     },
     "execution_count": 62,
     "metadata": {},
     "output_type": "execute_result"
    }
   ],
   "source": [
    "exprSlopeInXyPlot = _E_slopeInXy.rhs.subs({s_y:startY, e_y:endY, s_x:startX, e_x:endX, p:10})\n",
    "plot((exprSlopeInXyPlot, (x, startX, endX)))"
   ]
  },
  {
   "cell_type": "code",
   "execution_count": 63,
   "metadata": {},
   "outputs": [
    {
     "name": "stdout",
     "output_type": "stream",
     "text": [
      "[-10, 0.000483955288784584, 81.0, 0.00131552686728978, 172.0, 0.00357597277820347, 263.0, 0.00972050182205471, 354.0, 0.0264230634663944, 445.0, 0.0718253332729199, 536.0, 0.195241498258793, 627.0, 0.530721416877995, 718.0, 1.44265038347349, 809.0, 3.92153032221547, 900.0, 10.6598246146294]\n"
     ]
    }
   ],
   "source": [
    "E_slopeInXyTestingValues = generateTestingValues(_E_slopeInXy.rhs.subs({s_y:startY, e_y:endY, s_x:startX, e_x:endX, p:10}), x, startX, endX, 10)\n",
    "print(E_slopeInXyTestingValues)"
   ]
  },
  {
   "cell_type": "code",
   "execution_count": 85,
   "metadata": {},
   "outputs": [
    {
     "data": {
      "image/png": "[encoded data removed]",
      "text/latex": [
       "$$E_{inverseInXy} = s_{x} + \\left(1 + \\frac{1}{p} \\log{\\left (\\left(1 + \\frac{1}{e_{y} - s_{y}} \\left(- s_{y} + x\\right) \\left(e^{p} - 1\\right)\\right) e^{- p} \\right )}\\right) \\left(e_{x} - s_{x}\\right)$$"
      ],
      "text/plain": [
       "                     ⎛       ⎛⎛               ⎛ p    ⎞⎞    ⎞⎞          \n",
       "                     ⎜       ⎜⎜    (-s_y + x)⋅⎝ℯ  - 1⎠⎟  -p⎟⎟          \n",
       "                     ⎜    log⎜⎜1 + ───────────────────⎟⋅ℯ  ⎟⎟          \n",
       "                     ⎜       ⎝⎝         e_y - s_y     ⎠    ⎠⎟          \n",
       "E_inverseInXy = sₓ + ⎜1 + ──────────────────────────────────⎟⋅(eₓ - sₓ)\n",
       "                     ⎝                    p                 ⎠          "
      ]
     },
     "execution_count": 85,
     "metadata": {},
     "output_type": "execute_result"
    }
   ],
   "source": [
    "E_inverseInXy = symbols('E_inverseInXy')\n",
    "_E_inverseInXy = Eq(E_inverseInXy, s_x+(e_x-s_x)*_E_inverseIn.rhs.subs({E_in:(x-s_y)/(e_y-s_y)}))\n",
    "_E_inverseInXy"
   ]
  },
  {
   "cell_type": "code",
   "execution_count": 86,
   "metadata": {},
   "outputs": [
    {
     "data": {
      "image/png": "[encoded data removed]",
      "text/plain": [
       "<matplotlib.figure.Figure at 0x10d20c400>"
      ]
     },
     "metadata": {},
     "output_type": "display_data"
    },
    {
     "data": {
      "text/plain": [
       "<sympy.plotting.plot.Plot at 0x10d131be0>"
      ]
     },
     "execution_count": 86,
     "metadata": {},
     "output_type": "execute_result"
    }
   ],
   "source": [
    "exprInverseInXyPlot = _E_inverseInXy.rhs.subs({s_y:startY, e_y:endY, s_x:startX, e_x:endX, p:10})\n",
    "plot((exprInverseInXyPlot, (x, startX, endX)))"
   ]
  },
  {
   "cell_type": "code",
   "execution_count": 87,
   "metadata": {},
   "outputs": [
    {
     "name": "stdout",
     "output_type": "stream",
     "text": [
      "[-10, 609.749710291557 + 285.884931476671*I, 81.0, 632.036605729152, 172.0, 725.170406645311, 263.0, 770.223623800336, 354.0, 800.221954342828, 445.0, 822.744927783757, 536.0, 840.784682791645, 627.0, 855.833096031825, 718.0, 868.742535120897, 809.0, 880.046075622770, 900.0, 890.099414625349]\n"
     ]
    }
   ],
   "source": [
    "E_inverseInXyTestingValues = generateTestingValues(_E_inverseInXy.rhs.subs({s_y:startY, e_y:endY, s_x:startX, e_x:endX, p:10}), x, startX, endX, 10)\n",
    "print(E_inverseInXyTestingValues)"
   ]
  },
  {
   "cell_type": "markdown",
   "metadata": {},
   "source": [
    "---"
   ]
  },
  {
   "cell_type": "markdown",
   "metadata": {},
   "source": [
    "# Circle"
   ]
  },
  {
   "cell_type": "code",
   "execution_count": 67,
   "metadata": {},
   "outputs": [],
   "source": [
    "C_in, C_out, C_inOut, C_slopeIn, C_slopeOut, C_slopeInOut, C_inverseIn, C_inverseOut, C_inverseInOut = symbols('C_in C_out C_inOut C_slopeIn C_slopeOut C_slopeInOut C_inverseIn C_inverseOut C_inverseInOut')"
   ]
  },
  {
   "cell_type": "code",
   "execution_count": 68,
   "metadata": {},
   "outputs": [
    {
     "data": {
      "image/png": "[encoded data removed]",
      "text/latex": [
       "$$C_{in} = - \\sqrt{- x^{2} + 1} + 1$$"
      ],
      "text/plain": [
       "           __________    \n",
       "          ╱    2         \n",
       "Cᵢₙ = - ╲╱  - x  + 1  + 1"
      ]
     },
     "execution_count": 68,
     "metadata": {},
     "output_type": "execute_result"
    }
   ],
   "source": [
    "_C_in = Eq(C_in, 1-sqrt(1-x**2))\n",
    "_C_in"
   ]
  },
  {
   "cell_type": "code",
   "execution_count": 69,
   "metadata": {},
   "outputs": [
    {
     "data": {
      "image/png": "[encoded data removed]",
      "text/latex": [
       "$$C_{out} = \\sqrt{- \\left(x - 1\\right)^{2} + 1}$$"
      ],
      "text/plain": [
       "          ________________\n",
       "         ╱          2     \n",
       "Cₒᵤₜ = ╲╱  - (x - 1)  + 1 "
      ]
     },
     "execution_count": 69,
     "metadata": {},
     "output_type": "execute_result"
    }
   ],
   "source": [
    "_C_out = Eq(C_out, sqrt(1-(x-1)**2))\n",
    "_C_out"
   ]
  },
  {
   "cell_type": "code",
   "execution_count": 70,
   "metadata": {},
   "outputs": [
    {
     "data": {
      "text/latex": [
       "$$C_{inOut} = \\begin{cases} - \\frac{1}{2} \\sqrt{- 4 x^{2} + 1} + \\frac{1}{2} & \\text{for}\\: x \\leq 0.5 \\\\\\frac{1}{2} \\sqrt{- \\left(2 x - 2.0\\right)^{2} + 1} + 0.5 & \\text{for}\\: x > 0.5 \\end{cases}$$"
      ],
      "text/plain": [
       "          ⎧         ____________                     \n",
       "          ⎪        ╱      2                          \n",
       "          ⎪      ╲╱  - 4⋅x  + 1    1                 \n",
       "          ⎪    - ─────────────── + ─      for x ≤ 0.5\n",
       "          ⎪             2          2                 \n",
       "C_inOut = ⎨                                          \n",
       "          ⎪   ____________________                   \n",
       "          ⎪  ╱              2                        \n",
       "          ⎪╲╱  - (2⋅x - 2.0)  + 1                    \n",
       "          ⎪─────────────────────── + 0.5  for x > 0.5\n",
       "          ⎩           2                              "
      ]
     },
     "execution_count": 70,
     "metadata": {},
     "output_type": "execute_result"
    }
   ],
   "source": [
    "_C_inOut = Eq(C_inOut, generateApplyInOut(_C_in, _C_out))\n",
    "_C_inOut"
   ]
  },
  {
   "cell_type": "markdown",
   "metadata": {},
   "source": [
    "### slopeAt(x01)"
   ]
  },
  {
   "cell_type": "code",
   "execution_count": 71,
   "metadata": {},
   "outputs": [
    {
     "data": {
      "image/png": "[encoded data removed]",
      "text/latex": [
       "$$C_{slopeIn} = \\frac{x}{\\sqrt{- x^{2} + 1}}$$"
      ],
      "text/plain": [
       "                  x      \n",
       "C_slopeIn = ─────────────\n",
       "               __________\n",
       "              ╱    2     \n",
       "            ╲╱  - x  + 1 "
      ]
     },
     "execution_count": 71,
     "metadata": {},
     "output_type": "execute_result"
    }
   ],
   "source": [
    "_C_slopeIn = Eq(C_slopeIn, diff(_C_in.rhs, x))\n",
    "_C_slopeIn"
   ]
  },
  {
   "cell_type": "code",
   "execution_count": 72,
   "metadata": {},
   "outputs": [
    {
     "data": {
      "image/png": "[encoded data removed]",
      "text/latex": [
       "$$C_{slopeOut} = \\frac{- x + 1}{\\sqrt{- \\left(x - 1\\right)^{2} + 1}}$$"
      ],
      "text/plain": [
       "                    -x + 1      \n",
       "C_slopeOut = ───────────────────\n",
       "                ________________\n",
       "               ╱          2     \n",
       "             ╲╱  - (x - 1)  + 1 "
      ]
     },
     "execution_count": 72,
     "metadata": {},
     "output_type": "execute_result"
    }
   ],
   "source": [
    "_C_slopeOut = Eq(C_slopeOut, diff(_C_out.rhs, x))\n",
    "_C_slopeOut"
   ]
  },
  {
   "cell_type": "code",
   "execution_count": 73,
   "metadata": {},
   "outputs": [
    {
     "data": {
      "text/latex": [
       "$$C_{slopeInOut} = \\begin{cases} \\frac{2 x}{\\sqrt{- 4 x^{2} + 1}} & \\text{for}\\: x \\leq 0.5 \\\\\\frac{- 2 x + 2.0}{\\sqrt{- \\left(2 x - 2.0\\right)^{2} + 1}} & \\text{for}\\: x > 0.5 \\end{cases}$$"
      ],
      "text/plain": [
       "               ⎧          2⋅x                       \n",
       "               ⎪    ───────────────      for x ≤ 0.5\n",
       "               ⎪       ____________                 \n",
       "               ⎪      ╱      2                      \n",
       "               ⎪    ╲╱  - 4⋅x  + 1                  \n",
       "C_slopeInOut = ⎨                                    \n",
       "               ⎪       -2⋅x + 2.0                   \n",
       "               ⎪───────────────────────  for x > 0.5\n",
       "               ⎪   ____________________             \n",
       "               ⎪  ╱              2                  \n",
       "               ⎩╲╱  - (2⋅x - 2.0)  + 1              "
      ]
     },
     "execution_count": 73,
     "metadata": {},
     "output_type": "execute_result"
    }
   ],
   "source": [
    "_C_slopeInOut = Eq(C_slopeInOut, generateSlopeAtInOut(_C_slopeIn, _C_slopeOut))\n",
    "_C_slopeInOut"
   ]
  },
  {
   "cell_type": "markdown",
   "metadata": {},
   "source": [
    "### inverseFunction(y01)"
   ]
  },
  {
   "cell_type": "code",
   "execution_count": 74,
   "metadata": {},
   "outputs": [
    {
     "data": {
      "image/png": "[encoded data removed]",
      "text/latex": [
       "$$C_{inverseIn} = \\sqrt{- C_{in} \\left(C_{in} - 2\\right)}$$"
      ],
      "text/plain": [
       "                ________________\n",
       "C_inverseIn = ╲╱ -Cᵢₙ⋅(Cᵢₙ - 2) "
      ]
     },
     "execution_count": 74,
     "metadata": {},
     "output_type": "execute_result"
    }
   ],
   "source": [
    "_C_inverseIn = Eq(C_inverseIn, solveset(_C_in, x).args[2].args[0])\n",
    "_C_inverseIn"
   ]
  },
  {
   "cell_type": "code",
   "execution_count": 75,
   "metadata": {
    "scrolled": true
   },
   "outputs": [
    {
     "data": {
      "image/png": "[encoded data removed]",
      "text/latex": [
       "$$C_{inverseOut} = - \\sqrt{- \\left(C_{out} - 1\\right) \\left(C_{out} + 1\\right)} + 1$$"
      ],
      "text/plain": [
       "                   ________________________    \n",
       "C_inverseOut = - ╲╱ -(Cₒᵤₜ - 1)⋅(Cₒᵤₜ + 1)  + 1"
      ]
     },
     "execution_count": 75,
     "metadata": {},
     "output_type": "execute_result"
    }
   ],
   "source": [
    "_C_inverseOut = Eq(C_inverseOut, solveset(_C_out, x).args[1])\n",
    "_C_inverseOut"
   ]
  },
  {
   "cell_type": "code",
   "execution_count": 76,
   "metadata": {},
   "outputs": [
    {
     "data": {
      "text/latex": [
       "$$C_{inverseInOut} = \\begin{cases} \\frac{\\sqrt{2}}{2} \\sqrt{- x \\left(2 x - 2\\right)} & \\text{for}\\: x \\leq 0.5 \\\\- \\frac{\\sqrt{2}}{2} \\sqrt{- x \\left(2 x - 2.0\\right)} + 1.0 & \\text{for}\\: x > 0.5 \\end{cases}$$"
      ],
      "text/plain": [
       "                 ⎧          ______________                  \n",
       "                 ⎪     √2⋅╲╱ -x⋅(2⋅x - 2)                   \n",
       "                 ⎪     ───────────────────       for x ≤ 0.5\n",
       "                 ⎪              2                           \n",
       "C_inverseInOut = ⎨                                          \n",
       "                 ⎪       ________________                   \n",
       "                 ⎪  √2⋅╲╱ -x⋅(2⋅x - 2.0)                    \n",
       "                 ⎪- ───────────────────── + 1.0  for x > 0.5\n",
       "                 ⎩            2                             "
      ]
     },
     "execution_count": 76,
     "metadata": {},
     "output_type": "execute_result"
    }
   ],
   "source": [
    "_C_inverseInOut = Eq(C_inverseInOut, generateInverseInOut(_C_inverseIn, _C_inverseOut, C_in, C_out))\n",
    "_C_inverseInOut"
   ]
  },
  {
   "cell_type": "code",
   "execution_count": 77,
   "metadata": {},
   "outputs": [
    {
     "data": {
      "image/png": "[encoded data removed]",
      "text/plain": [
       "<matplotlib.figure.Figure at 0x10d19eb00>"
      ]
     },
     "metadata": {},
     "output_type": "display_data"
    }
   ],
   "source": [
    "plotInOutPiecewise(_C_inverseInOut)"
   ]
  },
  {
   "cell_type": "markdown",
   "metadata": {},
   "source": [
    "#### codegen"
   ]
  },
  {
   "cell_type": "code",
   "execution_count": 78,
   "metadata": {},
   "outputs": [
    {
     "data": {
      "text/plain": [
       "'-Math.sqrt(-Math.pow(x01, 2) + 1) + 1'"
      ]
     },
     "execution_count": 78,
     "metadata": {},
     "output_type": "execute_result"
    }
   ],
   "source": [
    "jscode(_C_in.rhs.subs({x:x01}))"
   ]
  },
  {
   "cell_type": "code",
   "execution_count": 79,
   "metadata": {},
   "outputs": [
    {
     "data": {
      "text/plain": [
       "'Math.sqrt(-Math.pow(x01 - 1, 2) + 1)'"
      ]
     },
     "execution_count": 79,
     "metadata": {},
     "output_type": "execute_result"
    }
   ],
   "source": [
    "jscode(_C_out.rhs.subs({x:x01}))"
   ]
  },
  {
   "cell_type": "code",
   "execution_count": 80,
   "metadata": {},
   "outputs": [
    {
     "data": {
      "text/plain": [
       "'x01/Math.sqrt(-Math.pow(x01, 2) + 1)'"
      ]
     },
     "execution_count": 80,
     "metadata": {},
     "output_type": "execute_result"
    }
   ],
   "source": [
    "jscode(_C_slopeIn.rhs.subs({x:x01}))"
   ]
  },
  {
   "cell_type": "code",
   "execution_count": 81,
   "metadata": {},
   "outputs": [
    {
     "data": {
      "text/plain": [
       "'(-x01 + 1)/Math.sqrt(-Math.pow(x01 - 1, 2) + 1)'"
      ]
     },
     "execution_count": 81,
     "metadata": {},
     "output_type": "execute_result"
    }
   ],
   "source": [
    "jscode(_C_slopeOut.rhs.subs({x:x01}))"
   ]
  },
  {
   "cell_type": "code",
   "execution_count": 82,
   "metadata": {},
   "outputs": [
    {
     "data": {
      "text/plain": [
       "'Math.sqrt(-y01*(y01 - 2))'"
      ]
     },
     "execution_count": 82,
     "metadata": {},
     "output_type": "execute_result"
    }
   ],
   "source": [
    "jscode(_C_inverseIn.rhs.subs({C_in:y01}))"
   ]
  },
  {
   "cell_type": "code",
   "execution_count": 83,
   "metadata": {},
   "outputs": [
    {
     "data": {
      "text/plain": [
       "'-Math.sqrt(-(y01 - 1)*(y01 + 1)) + 1'"
      ]
     },
     "execution_count": 83,
     "metadata": {},
     "output_type": "execute_result"
    }
   ],
   "source": [
    "jscode(_C_inverseOut.rhs.subs({C_out:y01}))"
   ]
  },
  {
   "cell_type": "markdown",
   "metadata": {},
   "source": [
    "#### Testing values"
   ]
  },
  {
   "cell_type": "code",
   "execution_count": 88,
   "metadata": {},
   "outputs": [],
   "source": [
    "C_inTestingValues = generateTestingValues(_C_in.rhs, x, 0, 1, 10)\n",
    "C_slopeInTestingValues = generateTestingValues(_C_slopeIn.rhs, x, 0, 1, 10)\n",
    "C_inverseInTestingValues = generateTestingValues(_C_inverseIn.rhs, C_in, 0, 1, 10)\n",
    "\n",
    "C_outTestingValues = generateTestingValues(_C_out.rhs, x, 0, 1, 10)\n",
    "C_slopeOutTestingValues = generateTestingValues(_C_slopeOut.rhs, x, 0, 1, 10)\n",
    "C_inverseOutTestingValues = generateTestingValues(_C_inverseOut.rhs, C_out, 0, 1, 10)\n",
    "\n",
    "C_inOutApplyTestingValues = generateTestingValues(_C_inOut.rhs, x, 0, 1, 10)\n",
    "C_slopeInOutTestingValues = generateTestingValues(_C_slopeInOut.rhs, x, 0, 1, 10)\n",
    "C_inverseInOutTestingValues = generateTestingValues(_C_inverseInOut.rhs, x, 0, 1, 10)"
   ]
  },
  {
   "cell_type": "code",
   "execution_count": 89,
   "metadata": {},
   "outputs": [
    {
     "name": "stdout",
     "output_type": "stream",
     "text": [
      "[0, 0, 0.1, 0.00501256289338003, 0.2, 0.0202041028867288, 0.30000000000000004, 0.0460607985830543, 0.4, 0.0834848610088320, 0.5, 0.133974596215561, 0.6, 0.200000000000000, 0.7, 0.285857157145715, 0.7999999999999999, 0.400000000000000, 0.8999999999999999, 0.564110105645932, 0.9999999999999999, 0.999999985098839]\n"
     ]
    }
   ],
   "source": [
    "print(C_inTestingValues)"
   ]
  },
  {
   "cell_type": "code",
   "execution_count": 90,
   "metadata": {},
   "outputs": [
    {
     "name": "stdout",
     "output_type": "stream",
     "text": [
      "[0, 0, 0.1, 0.100503781525921, 0.2, 0.204124145231932, 0.30000000000000004, 0.314485451016576, 0.4, 0.436435780471985, 0.5, 0.577350269189626, 0.6, 0.750000000000000, 0.7, 0.980196058819607, 0.7999999999999999, 1.33333333333333, 0.8999999999999999, 2.06474160483505, 0.9999999999999999, 67108864.0000000]\n"
     ]
    }
   ],
   "source": [
    "print(C_slopeInTestingValues)"
   ]
  },
  {
   "cell_type": "code",
   "execution_count": 91,
   "metadata": {},
   "outputs": [
    {
     "name": "stdout",
     "output_type": "stream",
     "text": [
      "[0, 0, 0.1, 0.435889894354067, 0.2, 0.600000000000000, 0.30000000000000004, 0.714142842854285, 0.4, 0.800000000000000, 0.5, 0.866025403784439, 0.6, 0.916515138991168, 0.7, 0.953939201416946, 0.7999999999999999, 0.979795897113271, 0.8999999999999999, 0.994987437106620, 0.9999999999999999, 1.00000000000000]\n"
     ]
    }
   ],
   "source": [
    "print(C_inverseInTestingValues)"
   ]
  },
  {
   "cell_type": "code",
   "execution_count": 92,
   "metadata": {},
   "outputs": [
    {
     "name": "stdout",
     "output_type": "stream",
     "text": [
      "[0, 0, 0.1, 0.435889894354067, 0.2, 0.600000000000000, 0.30000000000000004, 0.714142842854285, 0.4, 0.800000000000000, 0.5, 0.866025403784439, 0.6, 0.916515138991168, 0.7, 0.953939201416946, 0.7999999999999999, 0.979795897113271, 0.8999999999999999, 0.994987437106620, 0.9999999999999999, 1.00000000000000]\n"
     ]
    }
   ],
   "source": [
    "print(C_outTestingValues)"
   ]
  },
  {
   "cell_type": "code",
   "execution_count": 93,
   "metadata": {},
   "outputs": [
    {
     "name": "stdout",
     "output_type": "stream",
     "text": [
      "[0, zoo, 0.1, 2.06474160483506, 0.2, 1.33333333333333, 0.30000000000000004, 0.980196058819607, 0.4, 0.750000000000000, 0.5, 0.577350269189626, 0.6, 0.436435780471985, 0.7, 0.314485451016576, 0.7999999999999999, 0.204124145231932, 0.8999999999999999, 0.100503781525921, 0.9999999999999999, 1.11022302462516e-16]\n"
     ]
    }
   ],
   "source": [
    "print(C_slopeOutTestingValues)"
   ]
  },
  {
   "cell_type": "code",
   "execution_count": 94,
   "metadata": {},
   "outputs": [
    {
     "name": "stdout",
     "output_type": "stream",
     "text": [
      "[0, 0, 0.1, 0.00501256289338003, 0.2, 0.0202041028867288, 0.30000000000000004, 0.0460607985830543, 0.4, 0.0834848610088320, 0.5, 0.133974596215561, 0.6, 0.200000000000000, 0.7, 0.285857157145715, 0.7999999999999999, 0.400000000000000, 0.8999999999999999, 0.564110105645932, 0.9999999999999999, 0.999999985098839]\n"
     ]
    }
   ],
   "source": [
    "print(C_inverseOutTestingValues)"
   ]
  },
  {
   "cell_type": "code",
   "execution_count": 95,
   "metadata": {},
   "outputs": [
    {
     "name": "stdout",
     "output_type": "stream",
     "text": [
      "[0, 0, 0.1, 0.0101020514433644, 0.2, 0.0417424305044160, 0.30000000000000004, 0.100000000000000, 0.4, 0.200000000000000, 0.5, 0.500000000000000, 0.6, 0.800000000000000, 0.7, 0.900000000000000, 0.7999999999999999, 0.958257569495584, 0.8999999999999999, 0.989897948556636, 0.9999999999999999, 1.00000000000000]\n"
     ]
    }
   ],
   "source": [
    "print(C_inOutApplyTestingValues)"
   ]
  },
  {
   "cell_type": "code",
   "execution_count": 96,
   "metadata": {},
   "outputs": [
    {
     "name": "stdout",
     "output_type": "stream",
     "text": [
      "[0, 0, 0.1, 0.204124145231932, 0.2, 0.436435780471985, 0.30000000000000004, 0.750000000000000, 0.4, 1.33333333333333, 0.5, zoo, 0.6, 1.33333333333333, 0.7, 0.750000000000000, 0.7999999999999999, 0.436435780471985, 0.8999999999999999, 0.204124145231932, 0.9999999999999999, 2.22044604925031e-16]\n"
     ]
    }
   ],
   "source": [
    "print(C_slopeInOutTestingValues)"
   ]
  },
  {
   "cell_type": "code",
   "execution_count": 97,
   "metadata": {},
   "outputs": [
    {
     "name": "stdout",
     "output_type": "stream",
     "text": [
      "[0, 0, 0.1, 0.300000000000000, 0.2, 0.400000000000000, 0.30000000000000004, 0.458257569495584, 0.4, 0.489897948556636, 0.5, 0.500000000000000, 0.6, 0.510102051443364, 0.7, 0.541742430504416, 0.7999999999999999, 0.600000000000000, 0.8999999999999999, 0.700000000000000, 0.9999999999999999, 0.999999989463288]\n"
     ]
    }
   ],
   "source": [
    "print(C_inverseInOutTestingValues)"
   ]
  },
  {
   "cell_type": "markdown",
   "metadata": {},
   "source": [
    "---"
   ]
  },
  {
   "cell_type": "markdown",
   "metadata": {},
   "source": [
    "# Power"
   ]
  },
  {
   "cell_type": "code",
   "execution_count": 98,
   "metadata": {},
   "outputs": [],
   "source": [
    "P_in, P_out, P_slopeIn, P_slopeOut, P_inverseIn, P_inverseOut = symbols('P_in P_out P_slopeIn P_slopeOut P_inverseIn P_inverseOut')"
   ]
  },
  {
   "cell_type": "code",
   "execution_count": 99,
   "metadata": {},
   "outputs": [
    {
     "data": {
      "image/png": "[encoded data removed]",
      "text/latex": [
       "$$P_{in} = x^{p}$$"
      ],
      "text/plain": [
       "       p\n",
       "Pᵢₙ = x "
      ]
     },
     "execution_count": 99,
     "metadata": {},
     "output_type": "execute_result"
    }
   ],
   "source": [
    "_P_in = Eq(P_in, x**p)\n",
    "_P_in"
   ]
  },
  {
   "cell_type": "code",
   "execution_count": 100,
   "metadata": {},
   "outputs": [
    {
     "data": {
      "image/png": "[encoded data removed]",
      "text/latex": [
       "$$P_{out} = \\left(-1\\right)^{p + 1} \\left(x - 1\\right)^{p} + 1$$"
      ],
      "text/plain": [
       "           p + 1        p    \n",
       "Pₒᵤₜ = (-1)     ⋅(x - 1)  + 1"
      ]
     },
     "execution_count": 100,
     "metadata": {},
     "output_type": "execute_result"
    }
   ],
   "source": [
    "_P_out = Eq(P_out, 1+(-1)**(p+1)*(x-1)**p)\n",
    "_P_out"
   ]
  },
  {
   "cell_type": "code",
   "execution_count": 101,
   "metadata": {},
   "outputs": [
    {
     "data": {
      "image/png": "[encoded data removed]",
      "text/latex": [
       "$$P_{slopeIn} = \\frac{p x^{p}}{x}$$"
      ],
      "text/plain": [
       "               p\n",
       "            p⋅x \n",
       "P_slopeIn = ────\n",
       "             x  "
      ]
     },
     "execution_count": 101,
     "metadata": {},
     "output_type": "execute_result"
    }
   ],
   "source": [
    "_P_slopeIn = Eq(P_slopeIn, diff(_P_in.rhs, x))\n",
    "_P_slopeIn"
   ]
  },
  {
   "cell_type": "code",
   "execution_count": 103,
   "metadata": {},
   "outputs": [
    {
     "data": {
      "image/png": "[encoded data removed]",
      "text/latex": [
       "$$P_{slopeOut} = \\frac{\\left(-1\\right)^{p + 1} p}{x - 1} \\left(x - 1\\right)^{p}$$"
      ],
      "text/plain": [
       "                 p + 1          p\n",
       "             (-1)     ⋅p⋅(x - 1) \n",
       "P_slopeOut = ────────────────────\n",
       "                    x - 1        "
      ]
     },
     "execution_count": 103,
     "metadata": {},
     "output_type": "execute_result"
    }
   ],
   "source": [
    "_P_slopeOut = Eq(P_slopeOut, diff(_P_out.rhs, x))\n",
    "_P_slopeOut"
   ]
  },
  {
   "cell_type": "code",
   "execution_count": 107,
   "metadata": {},
   "outputs": [
    {
     "data": {
      "image/png": "[encoded data removed]",
      "text/latex": [
       "$$P_{inverseIn} = P_{in}^{\\frac{1}{p}}$$"
      ],
      "text/plain": [
       "              p _____\n",
       "P_inverseIn = ╲╱ Pᵢₙ "
      ]
     },
     "execution_count": 107,
     "metadata": {},
     "output_type": "execute_result"
    }
   ],
   "source": [
    "_P_inverseIn = Eq(P_inverseIn, P_in**(1/p))\n",
    "_P_inverseIn"
   ]
  },
  {
   "cell_type": "code",
   "execution_count": 189,
   "metadata": {
    "scrolled": false
   },
   "outputs": [
    {
     "data": {
      "text/latex": [
       "$$P_{inverseOut} = \\left(\\left(-1\\right)^{p} \\left(\\left(\\left(-1\\right)^{p + 1} \\left(\\left(\\left(\\left(-1\\right)^{- p - 1} \\left(\\left(-1\\right)^{p} P_{out} + \\left(2 \\left(p\\bmod{2}\\right)\\right) - 1\\right)\\right)^{\\frac{1}{p}}\\right) + 1\\right)\\right) + \\left(2 \\left(\\left(p + 1\\right)\\bmod{2}\\right)\\right)\\right)\\right) + \\left(2 \\left(p\\bmod{2}\\right)\\right)$$"
      ],
      "text/plain": [
       "                     ⎛          ⎛   __________________________________________\n",
       "                   p ⎜    p + 1 ⎜p ╱     -p - 1 ⎛    p                       ⎞\n",
       "P_inverseOut = (-1) ⋅⎝(-1)     ⋅⎝╲╱  (-1)      ⋅⎝(-1) ⋅Pₒᵤₜ + 2⋅(p mod 2) - 1⎠\n",
       "\n",
       "_    ⎞                    ⎞              \n",
       "     ⎟                    ⎟              \n",
       "  + 1⎠ + 2⋅((p + 1) mod 2)⎠ + 2⋅(p mod 2)"
      ]
     },
     "execution_count": 189,
     "metadata": {},
     "output_type": "execute_result"
    }
   ],
   "source": [
    "_P_inverseOut = Eq(P_inverseOut, 2*(p%2)+((-1)**p)*(2*((p+1)%2) + (-1)**(p+1)*(1+((2*(p%2)+((-1)**p)*P_out-1)/((-1)**(p+1)))**(1/p))))\n",
    "_P_inverseOut"
   ]
  },
  {
   "cell_type": "code",
   "execution_count": 195,
   "metadata": {},
   "outputs": [
    {
     "data": {
      "image/png": "[encoded data removed]",
      "text/plain": [
       "<matplotlib.figure.Figure at 0x113f82588>"
      ]
     },
     "metadata": {},
     "output_type": "display_data"
    },
    {
     "data": {
      "text/plain": [
       "<sympy.plotting.plot.Plot at 0x113f82a20>"
      ]
     },
     "execution_count": 195,
     "metadata": {},
     "output_type": "execute_result"
    }
   ],
   "source": [
    "plot(_P_inverseOut.rhs.subs({p:3}), (P_out, -1, 2))"
   ]
  },
  {
   "cell_type": "markdown",
   "metadata": {},
   "source": [
    "#### Testing values"
   ]
  },
  {
   "cell_type": "code",
   "execution_count": 192,
   "metadata": {},
   "outputs": [],
   "source": [
    "P_in2TestingValues = generateTestingValues(_P_in.rhs.subs({p:2}), x, 0, 1, 10)\n",
    "P_out2TestingValues = generateTestingValues(_P_out.rhs.subs({p:2}), x, 0, 1, 10)\n",
    "P_slopeIn2TestingValues = generateTestingValues(_P_slopeIn.rhs.subs({p:2}), x, 0, 1, 10)\n",
    "P_slopeOut2TestingValues = generateTestingValues(_P_slopeOut.rhs.subs({p:2}), x, 0, 1, 10)\n",
    "P_inverseIn2TestingValues = generateTestingValues(_P_inverseIn.rhs.subs({p:2}), P_in, 0, 1, 10)\n",
    "P_inverseOut2TestingValues = generateTestingValues(_P_inverseOut.rhs.subs({p:2}), P_out, 0, 1, 10)\n",
    "\n",
    "P_in3TestingValues = generateTestingValues(_P_in.rhs.subs({p:3}), x, 0, 1, 10)\n",
    "P_out3TestingValues = generateTestingValues(_P_out.rhs.subs({p:3}), x, 0, 1, 10)\n",
    "P_slopeIn3TestingValues = generateTestingValues(_P_slopeIn.rhs.subs({p:3}), x, 0, 1, 10)\n",
    "P_slopeOut3TestingValues = generateTestingValues(_P_slopeOut.rhs.subs({p:3}), x, 0, 1, 10)\n",
    "P_inverseIn3TestingValues = generateTestingValues(_P_inverseIn.rhs.subs({p:3}), P_in, 0, 1, 10)\n",
    "P_inverseOut3TestingValues = generateTestingValues(_P_inverseOut.rhs.subs({p:3}), P_out, 0, 1, 10)"
   ]
  },
  {
   "cell_type": "code",
   "execution_count": 133,
   "metadata": {},
   "outputs": [
    {
     "name": "stdout",
     "output_type": "stream",
     "text": [
      "[0, 0, 0.1, 0.0100000000000000, 0.2, 0.0400000000000000, 0.30000000000000004, 0.0900000000000000, 0.4, 0.160000000000000, 0.5, 0.250000000000000, 0.6, 0.360000000000000, 0.7, 0.490000000000000, 0.7999999999999999, 0.640000000000000, 0.8999999999999999, 0.810000000000000, 0.9999999999999999, 1.00000000000000]\n"
     ]
    }
   ],
   "source": [
    "print(P_in2TestingValues)"
   ]
  },
  {
   "cell_type": "code",
   "execution_count": 135,
   "metadata": {},
   "outputs": [
    {
     "name": "stdout",
     "output_type": "stream",
     "text": [
      "[0, 0, 0.1, 0.200000000000000, 0.2, 0.400000000000000, 0.30000000000000004, 0.600000000000000, 0.4, 0.800000000000000, 0.5, 1.00000000000000, 0.6, 1.20000000000000, 0.7, 1.40000000000000, 0.7999999999999999, 1.60000000000000, 0.8999999999999999, 1.80000000000000, 0.9999999999999999, 2.00000000000000]\n"
     ]
    }
   ],
   "source": [
    "print(P_slopeIn2TestingValues)"
   ]
  },
  {
   "cell_type": "code",
   "execution_count": 136,
   "metadata": {},
   "outputs": [
    {
     "name": "stdout",
     "output_type": "stream",
     "text": [
      "[0, 0, 0.1, 0.316227766016838, 0.2, 0.447213595499958, 0.30000000000000004, 0.547722557505166, 0.4, 0.632455532033676, 0.5, 0.707106781186548, 0.6, 0.774596669241483, 0.7, 0.836660026534076, 0.7999999999999999, 0.894427190999916, 0.8999999999999999, 0.948683298050514, 0.9999999999999999, 1.00000000000000]\n"
     ]
    }
   ],
   "source": [
    "print(P_inverseIn2TestingValues)"
   ]
  },
  {
   "cell_type": "code",
   "execution_count": 137,
   "metadata": {},
   "outputs": [
    {
     "name": "stdout",
     "output_type": "stream",
     "text": [
      "[0, 0, 0.1, 0.190000000000000, 0.2, 0.360000000000000, 0.30000000000000004, 0.510000000000000, 0.4, 0.640000000000000, 0.5, 0.750000000000000, 0.6, 0.840000000000000, 0.7, 0.910000000000000, 0.7999999999999999, 0.960000000000000, 0.8999999999999999, 0.990000000000000, 0.9999999999999999, 1.00000000000000]\n"
     ]
    }
   ],
   "source": [
    "print(P_out2TestingValues)"
   ]
  },
  {
   "cell_type": "code",
   "execution_count": 141,
   "metadata": {},
   "outputs": [
    {
     "name": "stdout",
     "output_type": "stream",
     "text": [
      "[0, 2.00000000000000, 0.1, 1.80000000000000, 0.2, 1.60000000000000, 0.30000000000000004, 1.40000000000000, 0.4, 1.20000000000000, 0.5, 1.00000000000000, 0.6, 0.800000000000000, 0.7, 0.600000000000000, 0.7999999999999999, 0.400000000000000, 0.8999999999999999, 0.200000000000000, 0.9999999999999999, 2.22044604925031e-16]\n"
     ]
    }
   ],
   "source": [
    "print(P_slopeOut2TestingValues)"
   ]
  },
  {
   "cell_type": "code",
   "execution_count": 139,
   "metadata": {},
   "outputs": [
    {
     "name": "stdout",
     "output_type": "stream",
     "text": [
      "[0, 0, 0.1, 0.0513167019494862, 0.2, 0.105572809000084, 0.30000000000000004, 0.163339973465924, 0.4, 0.225403330758517, 0.5, 0.292893218813452, 0.6, 0.367544467966324, 0.7, 0.452277442494834, 0.7999999999999999, 0.552786404500042, 0.8999999999999999, 0.683772233983162, 0.9999999999999999, 0.999999989463288]\n"
     ]
    }
   ],
   "source": [
    "print(P_inverseOut2TestingValues)"
   ]
  },
  {
   "cell_type": "code",
   "execution_count": 142,
   "metadata": {},
   "outputs": [
    {
     "name": "stdout",
     "output_type": "stream",
     "text": [
      "[0, 0, 0.1, 0.00100000000000000, 0.2, 0.00800000000000000, 0.30000000000000004, 0.0270000000000000, 0.4, 0.0640000000000000, 0.5, 0.125000000000000, 0.6, 0.216000000000000, 0.7, 0.343000000000000, 0.7999999999999999, 0.512000000000000, 0.8999999999999999, 0.729000000000000, 0.9999999999999999, 1.00000000000000]\n"
     ]
    }
   ],
   "source": [
    "print(P_in3TestingValues)"
   ]
  },
  {
   "cell_type": "code",
   "execution_count": 143,
   "metadata": {},
   "outputs": [
    {
     "name": "stdout",
     "output_type": "stream",
     "text": [
      "[0, 0, 0.1, 0.0300000000000000, 0.2, 0.120000000000000, 0.30000000000000004, 0.270000000000000, 0.4, 0.480000000000000, 0.5, 0.750000000000000, 0.6, 1.08000000000000, 0.7, 1.47000000000000, 0.7999999999999999, 1.92000000000000, 0.8999999999999999, 2.43000000000000, 0.9999999999999999, 3.00000000000000]\n"
     ]
    }
   ],
   "source": [
    "print(P_slopeIn3TestingValues)"
   ]
  },
  {
   "cell_type": "code",
   "execution_count": 144,
   "metadata": {},
   "outputs": [
    {
     "name": "stdout",
     "output_type": "stream",
     "text": [
      "[0, 0, 0.1, 0.464158883361278, 0.2, 0.584803547642573, 0.30000000000000004, 0.669432950082170, 0.4, 0.736806299728077, 0.5, 0.793700525984100, 0.6, 0.843432665301749, 0.7, 0.887904001742601, 0.7999999999999999, 0.928317766722556, 0.8999999999999999, 0.965489384605630, 0.9999999999999999, 1.00000000000000]\n"
     ]
    }
   ],
   "source": [
    "print(P_inverseIn3TestingValues)"
   ]
  },
  {
   "cell_type": "code",
   "execution_count": 145,
   "metadata": {},
   "outputs": [
    {
     "name": "stdout",
     "output_type": "stream",
     "text": [
      "[0, 0, 0.1, 0.271000000000000, 0.2, 0.488000000000000, 0.30000000000000004, 0.657000000000000, 0.4, 0.784000000000000, 0.5, 0.875000000000000, 0.6, 0.936000000000000, 0.7, 0.973000000000000, 0.7999999999999999, 0.992000000000000, 0.8999999999999999, 0.999000000000000, 0.9999999999999999, 1.00000000000000]\n"
     ]
    }
   ],
   "source": [
    "print(P_out3TestingValues)"
   ]
  },
  {
   "cell_type": "code",
   "execution_count": 146,
   "metadata": {},
   "outputs": [
    {
     "name": "stdout",
     "output_type": "stream",
     "text": [
      "[0, 3.00000000000000, 0.1, 2.43000000000000, 0.2, 1.92000000000000, 0.30000000000000004, 1.47000000000000, 0.4, 1.08000000000000, 0.5, 0.750000000000000, 0.6, 0.480000000000000, 0.7, 0.270000000000000, 0.7999999999999999, 0.120000000000000, 0.8999999999999999, 0.0300000000000001, 0.9999999999999999, 3.69778549322349e-32]\n"
     ]
    }
   ],
   "source": [
    "print(P_slopeOut3TestingValues)"
   ]
  },
  {
   "cell_type": "code",
   "execution_count": 193,
   "metadata": {},
   "outputs": [
    {
     "name": "stdout",
     "output_type": "stream",
     "text": [
      "[0, 0, 0.1, 0.0345106153943703, 0.2, 0.0716822332774442, 0.30000000000000004, 0.112095998257399, 0.4, 0.156567334698251, 0.5, 0.206299474015900, 0.6, 0.263193700271923, 0.7, 0.330567049917830, 0.7999999999999999, 0.415196452357427, 0.8999999999999999, 0.535841116638722, 0.9999999999999999, 0.999995193782616]\n"
     ]
    }
   ],
   "source": [
    "print(P_inverseOut3TestingValues)"
   ]
  },
  {
   "cell_type": "markdown",
   "metadata": {},
   "source": [
    "---"
   ]
  },
  {
   "cell_type": "markdown",
   "metadata": {},
   "source": [
    "# Sine"
   ]
  },
  {
   "cell_type": "code",
   "execution_count": 112,
   "metadata": {},
   "outputs": [],
   "source": [
    "S_in, S_out, S_slopeIn, S_slopeOut, S_inverseIn, S_inverseOut = symbols('S_in S_out S_slopeIn S_slopeOut S_inverseIn S_inverseOut')"
   ]
  },
  {
   "cell_type": "code",
   "execution_count": 113,
   "metadata": {},
   "outputs": [
    {
     "data": {
      "image/png": "[encoded data removed]",
      "text/latex": [
       "$$S_{in} = - \\cos{\\left (\\frac{\\pi x}{2} \\right )} + 1$$"
      ],
      "text/plain": [
       "           ⎛π⋅x⎞    \n",
       "Sᵢₙ = - cos⎜───⎟ + 1\n",
       "           ⎝ 2 ⎠    "
      ]
     },
     "execution_count": 113,
     "metadata": {},
     "output_type": "execute_result"
    }
   ],
   "source": [
    "_S_in = Eq(S_in, 1-cos((pi/2)*x))\n",
    "_S_in"
   ]
  },
  {
   "cell_type": "code",
   "execution_count": 114,
   "metadata": {},
   "outputs": [
    {
     "data": {
      "image/png": "[encoded data removed]",
      "text/latex": [
       "$$S_{out} = \\sin{\\left (\\frac{\\pi x}{2} \\right )}$$"
      ],
      "text/plain": [
       "          ⎛π⋅x⎞\n",
       "Sₒᵤₜ = sin⎜───⎟\n",
       "          ⎝ 2 ⎠"
      ]
     },
     "execution_count": 114,
     "metadata": {},
     "output_type": "execute_result"
    }
   ],
   "source": [
    "_S_out = Eq(S_out, sin((pi/2)*x))\n",
    "_S_out"
   ]
  },
  {
   "cell_type": "code",
   "execution_count": 116,
   "metadata": {},
   "outputs": [
    {
     "data": {
      "image/png": "[encoded data removed]",
      "text/latex": [
       "$$S_{slopeIn} = \\frac{\\pi}{2} \\sin{\\left (\\frac{\\pi x}{2} \\right )}$$"
      ],
      "text/plain": [
       "                 ⎛π⋅x⎞\n",
       "            π⋅sin⎜───⎟\n",
       "                 ⎝ 2 ⎠\n",
       "S_slopeIn = ──────────\n",
       "                2     "
      ]
     },
     "execution_count": 116,
     "metadata": {},
     "output_type": "execute_result"
    }
   ],
   "source": [
    "_S_slopeIn = Eq(S_slopeIn, diff(_S_in.rhs, x))\n",
    "_S_slopeIn"
   ]
  },
  {
   "cell_type": "code",
   "execution_count": 117,
   "metadata": {},
   "outputs": [
    {
     "data": {
      "image/png": "[encoded data removed]",
      "text/latex": [
       "$$S_{slopeOut} = \\frac{\\pi}{2} \\cos{\\left (\\frac{\\pi x}{2} \\right )}$$"
      ],
      "text/plain": [
       "                  ⎛π⋅x⎞\n",
       "             π⋅cos⎜───⎟\n",
       "                  ⎝ 2 ⎠\n",
       "S_slopeOut = ──────────\n",
       "                 2     "
      ]
     },
     "execution_count": 117,
     "metadata": {},
     "output_type": "execute_result"
    }
   ],
   "source": [
    "_S_slopeOut = Eq(S_slopeOut, diff(_S_out.rhs, x))\n",
    "_S_slopeOut"
   ]
  },
  {
   "cell_type": "code",
   "execution_count": 118,
   "metadata": {},
   "outputs": [
    {
     "data": {
      "image/png": "[encoded data removed]",
      "text/latex": [
       "$$S_{inverseIn} = \\frac{2}{\\pi} \\operatorname{acos}{\\left (- x + 1 \\right )}$$"
      ],
      "text/plain": [
       "              2⋅acos(-x + 1)\n",
       "S_inverseIn = ──────────────\n",
       "                    π       "
      ]
     },
     "execution_count": 118,
     "metadata": {},
     "output_type": "execute_result"
    }
   ],
   "source": [
    "_S_inverseIn = Eq(S_inverseIn, (2/pi)*acos(1-x))\n",
    "_S_inverseIn"
   ]
  },
  {
   "cell_type": "code",
   "execution_count": 119,
   "metadata": {},
   "outputs": [
    {
     "data": {
      "image/png": "[encoded data removed]",
      "text/latex": [
       "$$S_{inverseOut} = \\frac{2}{\\pi} \\operatorname{asin}{\\left (x \\right )}$$"
      ],
      "text/plain": [
       "               2⋅asin(x)\n",
       "S_inverseOut = ─────────\n",
       "                   π    "
      ]
     },
     "execution_count": 119,
     "metadata": {},
     "output_type": "execute_result"
    }
   ],
   "source": [
    "_S_inverseOut = Eq(S_inverseOut, (2/pi)*asin(x))\n",
    "_S_inverseOut"
   ]
  },
  {
   "cell_type": "markdown",
   "metadata": {},
   "source": [
    "#### Testing values"
   ]
  },
  {
   "cell_type": "code",
   "execution_count": 196,
   "metadata": {},
   "outputs": [],
   "source": [
    "S_inTestingValues = generateTestingValues(_S_in.rhs, x, 0, 1, 10)\n",
    "S_slopeInTestingValues = generateTestingValues(_S_slopeIn.rhs, x, 0, 1, 10)\n",
    "S_inverseInTestingValues = generateTestingValues(_S_inverseIn.rhs, x, 0, 1, 10)\n",
    "\n",
    "S_outTestingValues = generateTestingValues(_S_out.rhs, x, 0, 1, 10)\n",
    "S_slopeOutTestingValues = generateTestingValues(_S_slopeOut.rhs, x, 0, 1, 10)\n",
    "S_inverseOutTestingValues = generateTestingValues(_S_inverseOut.rhs, x, 0, 1, 10)"
   ]
  },
  {
   "cell_type": "code",
   "execution_count": 197,
   "metadata": {},
   "outputs": [
    {
     "name": "stdout",
     "output_type": "stream",
     "text": [
      "[0, 0, 0.1, 0.0123116594048623, 0.2, 0.0489434837048464, 0.30000000000000004, 0.108993475811632, 0.4, 0.190983005625053, 0.5, 0.292893218813452, 0.6, 0.412214747707527, 0.7, 0.546009500260453, 0.7999999999999999, 0.690983005625052, 0.8999999999999999, 0.843565534959769, 0.9999999999999999, 1.00000000000000]\n"
     ]
    }
   ],
   "source": [
    "print(S_inTestingValues)"
   ]
  },
  {
   "cell_type": "code",
   "execution_count": 198,
   "metadata": {},
   "outputs": [
    {
     "name": "stdout",
     "output_type": "stream",
     "text": [
      "[0, 0, 0.1, 0.245726683069319, 0.2, 0.485402759681367, 0.30000000000000004, 0.713126609390660, 0.4, 0.923290915245228, 0.5, 1.11072073453959, 0.6, 1.27080092307881, 0.7, 1.39958977534538, 0.7999999999999999, 1.49391608237078, 0.8999999999999999, 1.55145721742499, 0.9999999999999999, 1.57079632679490]\n"
     ]
    }
   ],
   "source": [
    "print(S_slopeInTestingValues)"
   ]
  },
  {
   "cell_type": "code",
   "execution_count": 199,
   "metadata": {},
   "outputs": [
    {
     "name": "stdout",
     "output_type": "stream",
     "text": [
      "[0, 0, 0.1, 0.287132586257413, 0.2, 0.409665529398267, 0.30000000000000004, 0.506366622213270, 0.4, 0.590334470601733, 0.5, 0.666666666666667, 0.6, 0.738020239131091, 0.7, 0.806026631958643, 0.7999999999999999, 0.871811566302050, 0.8999999999999999, 0.936231439141480, 0.9999999999999999, 1.00000000000000]\n"
     ]
    }
   ],
   "source": [
    "print(S_inverseInTestingValues)"
   ]
  },
  {
   "cell_type": "code",
   "execution_count": 200,
   "metadata": {},
   "outputs": [
    {
     "name": "stdout",
     "output_type": "stream",
     "text": [
      "[0, 0, 0.1, 0.156434465040231, 0.2, 0.309016994374947, 0.30000000000000004, 0.453990499739547, 0.4, 0.587785252292473, 0.5, 0.707106781186548, 0.6, 0.809016994374947, 0.7, 0.891006524188368, 0.7999999999999999, 0.951056516295154, 0.8999999999999999, 0.987688340595138, 0.9999999999999999, 1.00000000000000]\n"
     ]
    }
   ],
   "source": [
    "print(S_outTestingValues)"
   ]
  },
  {
   "cell_type": "code",
   "execution_count": 201,
   "metadata": {},
   "outputs": [
    {
     "name": "stdout",
     "output_type": "stream",
     "text": [
      "[0, 1.57079632679490, 0.1, 1.55145721742499, 0.2, 1.49391608237078, 0.30000000000000004, 1.39958977534538, 0.4, 1.27080092307881, 0.5, 1.11072073453959, 0.6, 0.923290915245228, 0.7, 0.713126609390660, 0.7999999999999999, 0.485402759681367, 0.8999999999999999, 0.245726683069320, 0.9999999999999999, 2.73936551250780e-16]\n"
     ]
    }
   ],
   "source": [
    "print(S_slopeOutTestingValues)"
   ]
  },
  {
   "cell_type": "code",
   "execution_count": 202,
   "metadata": {},
   "outputs": [
    {
     "name": "stdout",
     "output_type": "stream",
     "text": [
      "[0, 0, 0.1, 0.0637685608585199, 0.2, 0.128188433697950, 0.30000000000000004, 0.193973368041357, 0.4, 0.261979760868909, 0.5, 0.333333333333333, 0.6, 0.409665529398267, 0.7, 0.493633377786730, 0.7999999999999999, 0.590334470601733, 0.8999999999999999, 0.712867413742587, 0.9999999999999999, 0.999999990513626]\n"
     ]
    }
   ],
   "source": [
    "print(S_inverseOutTestingValues)"
   ]
  },
  {
   "cell_type": "markdown",
   "metadata": {},
   "source": [
    "---"
   ]
  },
  {
   "cell_type": "markdown",
   "metadata": {},
   "source": [
    "# Reciprocal"
   ]
  },
  {
   "cell_type": "code",
   "execution_count": 10,
   "metadata": {},
   "outputs": [],
   "source": [
    "R_in, R_out, R_slopeIn, R_slopeOut, R_inverseIn, R_inverseOut, a, b = symbols('R_in R_out R_slopeIn R_slopeOut R_inverseIn R_inverseOut a b')"
   ]
  },
  {
   "cell_type": "code",
   "execution_count": 12,
   "metadata": {},
   "outputs": [
    {
     "data": {
      "image/png": "[encoded data removed]",
      "text/latex": [
       "$$R_{in} = \\frac{x \\left(- a + 1\\right)}{- a x + 1}$$"
      ],
      "text/plain": [
       "      x⋅(-a + 1)\n",
       "Rᵢₙ = ──────────\n",
       "       -a⋅x + 1 "
      ]
     },
     "execution_count": 12,
     "metadata": {},
     "output_type": "execute_result"
    }
   ],
   "source": [
    "_R_in = Eq(R_in, (1-a)*x/(1-a*x))\n",
    "_R_in"
   ]
  },
  {
   "cell_type": "code",
   "execution_count": 14,
   "metadata": {},
   "outputs": [
    {
     "data": {
      "image/png": "[encoded data removed]",
      "text/latex": [
       "$$R_{out} = \\frac{x \\left(b + 1\\right)}{b x + 1}$$"
      ],
      "text/plain": [
       "       x⋅(b + 1)\n",
       "Rₒᵤₜ = ─────────\n",
       "        b⋅x + 1 "
      ]
     },
     "execution_count": 14,
     "metadata": {},
     "output_type": "execute_result"
    }
   ],
   "source": [
    "_R_out = Eq(R_out, (1+b)*x/(1+b*x))\n",
    "_R_out"
   ]
  },
  {
   "cell_type": "code",
   "execution_count": 32,
   "metadata": {},
   "outputs": [
    {
     "data": {
      "image/png": "[encoded data removed]",
      "text/latex": [
       "$$b = -1 + \\frac{1}{- a + 1}$$"
      ],
      "text/plain": [
       "           1   \n",
       "b = -1 + ──────\n",
       "         -a + 1"
      ]
     },
     "execution_count": 32,
     "metadata": {},
     "output_type": "execute_result"
    }
   ],
   "source": [
    "_b = Eq(b, 1/(1-a)-1)\n",
    "_b"
   ]
  },
  {
   "cell_type": "code",
   "execution_count": 39,
   "metadata": {},
   "outputs": [
    {
     "data": {
      "image/png": "[encoded data removed]",
      "text/latex": [
       "$$R_{slopeIn} = - \\frac{a - 1}{\\left(a x - 1\\right)^{2}}$$"
      ],
      "text/plain": [
       "            -(a - 1)  \n",
       "R_slopeIn = ──────────\n",
       "                     2\n",
       "            (a⋅x - 1) "
      ]
     },
     "execution_count": 39,
     "metadata": {},
     "output_type": "execute_result"
    }
   ],
   "source": [
    "_R_slopeIn = Eq(R_slopeIn, diff(_R_in.rhs, x).factor())\n",
    "_R_slopeIn"
   ]
  },
  {
   "cell_type": "code",
   "execution_count": 40,
   "metadata": {},
   "outputs": [
    {
     "data": {
      "image/png": "[encoded data removed]",
      "text/latex": [
       "$$R_{slopeOut} = \\frac{b + 1}{\\left(b x + 1\\right)^{2}}$$"
      ],
      "text/plain": [
       "               b + 1   \n",
       "R_slopeOut = ──────────\n",
       "                      2\n",
       "             (b⋅x + 1) "
      ]
     },
     "execution_count": 40,
     "metadata": {},
     "output_type": "execute_result"
    }
   ],
   "source": [
    "_R_slopeOut = Eq(R_slopeOut, diff(_R_out.rhs, x).factor())\n",
    "_R_slopeOut"
   ]
  },
  {
   "cell_type": "code",
   "execution_count": 26,
   "metadata": {},
   "outputs": [
    {
     "data": {
      "image/png": "[encoded data removed]",
      "text/latex": [
       "$$R_{inverseIn} = \\frac{R_{in}}{R_{in} a - a + 1}$$"
      ],
      "text/plain": [
       "                   Rᵢₙ     \n",
       "R_inverseIn = ─────────────\n",
       "              Rᵢₙ⋅a - a + 1"
      ]
     },
     "execution_count": 26,
     "metadata": {},
     "output_type": "execute_result"
    }
   ],
   "source": [
    "_R_inverseIn = Eq(R_inverseIn, solve(_R_in, x)[0])\n",
    "_R_inverseIn"
   ]
  },
  {
   "cell_type": "code",
   "execution_count": 27,
   "metadata": {},
   "outputs": [
    {
     "data": {
      "image/png": "[encoded data removed]",
      "text/latex": [
       "$$R_{inverseOut} = \\frac{R_{out}}{- R_{out} b + b + 1}$$"
      ],
      "text/plain": [
       "                     Rₒᵤₜ     \n",
       "R_inverseOut = ───────────────\n",
       "               -Rₒᵤₜ⋅b + b + 1"
      ]
     },
     "execution_count": 27,
     "metadata": {},
     "output_type": "execute_result"
    }
   ],
   "source": [
    "_R_inverseOut = Eq(R_inverseOut, solve(_R_out, x)[0])\n",
    "_R_inverseOut"
   ]
  },
  {
   "cell_type": "markdown",
   "metadata": {},
   "source": [
    "#### codegen"
   ]
  },
  {
   "cell_type": "code",
   "execution_count": 30,
   "metadata": {},
   "outputs": [
    {
     "data": {
      "text/plain": [
       "'x01*(-a + 1)/(-a*x01 + 1)'"
      ]
     },
     "execution_count": 30,
     "metadata": {},
     "output_type": "execute_result"
    }
   ],
   "source": [
    "jscode(_R_in.rhs.subs({x:x01}))"
   ]
  },
  {
   "cell_type": "code",
   "execution_count": 34,
   "metadata": {},
   "outputs": [
    {
     "data": {
      "text/plain": [
       "'-1 + 1/(-a + 1)'"
      ]
     },
     "execution_count": 34,
     "metadata": {},
     "output_type": "execute_result"
    }
   ],
   "source": [
    "jscode(_b.rhs)"
   ]
  },
  {
   "cell_type": "code",
   "execution_count": 35,
   "metadata": {},
   "outputs": [
    {
     "data": {
      "text/plain": [
       "'x01*(b + 1)/(b*x01 + 1)'"
      ]
     },
     "execution_count": 35,
     "metadata": {},
     "output_type": "execute_result"
    }
   ],
   "source": [
    "jscode(_R_out.rhs.subs({x:x01}))"
   ]
  },
  {
   "cell_type": "code",
   "execution_count": 41,
   "metadata": {},
   "outputs": [
    {
     "data": {
      "text/plain": [
       "'-(a - 1)/Math.pow(a*x01 - 1, 2)'"
      ]
     },
     "execution_count": 41,
     "metadata": {},
     "output_type": "execute_result"
    }
   ],
   "source": [
    "jscode(_R_slopeIn.rhs.subs({x:x01}))"
   ]
  },
  {
   "cell_type": "code",
   "execution_count": 42,
   "metadata": {},
   "outputs": [
    {
     "data": {
      "text/plain": [
       "'(b + 1)/Math.pow(b*x01 + 1, 2)'"
      ]
     },
     "execution_count": 42,
     "metadata": {},
     "output_type": "execute_result"
    }
   ],
   "source": [
    "jscode(_R_slopeOut.rhs.subs({x:x01}))"
   ]
  },
  {
   "cell_type": "code",
   "execution_count": 43,
   "metadata": {},
   "outputs": [
    {
     "data": {
      "text/plain": [
       "'y01/(a*y01 - a + 1)'"
      ]
     },
     "execution_count": 43,
     "metadata": {},
     "output_type": "execute_result"
    }
   ],
   "source": [
    "jscode(_R_inverseIn.rhs.subs({R_in:y01}))"
   ]
  },
  {
   "cell_type": "code",
   "execution_count": 44,
   "metadata": {},
   "outputs": [
    {
     "data": {
      "text/plain": [
       "'y01/(-b*y01 + b + 1)'"
      ]
     },
     "execution_count": 44,
     "metadata": {},
     "output_type": "execute_result"
    }
   ],
   "source": [
    "jscode(_R_inverseOut.rhs.subs({R_out:y01}))"
   ]
  },
  {
   "cell_type": "code",
   "execution_count": null,
   "metadata": {},
   "outputs": [],
   "source": []
  }
 ],
 "metadata": {
  "kernelspec": {
   "display_name": "Python 3",
   "language": "python",
   "name": "python3"
  }
 },
 "nbformat": 4,
 "nbformat_minor": 2
}
