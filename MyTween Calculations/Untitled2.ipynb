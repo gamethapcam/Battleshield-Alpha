{
 "cells": [
  {
   "cell_type": "code",
   "execution_count": 1,
   "metadata": {},
   "outputs": [],
   "source": [
    "from sympy import *\n",
    "init_printing()"
   ]
  },
  {
   "cell_type": "code",
   "execution_count": 2,
   "metadata": {},
   "outputs": [],
   "source": [
    "r, R, a, b, x, y, theta = symbols('r, R, a, b, x, y, theta')"
   ]
  },
  {
   "cell_type": "code",
   "execution_count": 11,
   "metadata": {},
   "outputs": [
    {
     "data": {
      "image/png": "[encoded data removed]",
      "text/latex": [
       "$$\\left [ a \\cos{\\left (\\theta \\right )} + b \\sin{\\left (\\theta \\right )} - \\sqrt{R^{2} + \\frac{a^{2}}{2} \\cos{\\left (2 \\theta \\right )} - \\frac{a^{2}}{2} + a b \\sin{\\left (2 \\theta \\right )} - \\frac{b^{2}}{2} \\cos{\\left (2 \\theta \\right )} - \\frac{b^{2}}{2}}, \\quad a \\cos{\\left (\\theta \\right )} + b \\sin{\\left (\\theta \\right )} + \\sqrt{R^{2} + \\frac{a^{2}}{2} \\cos{\\left (2 \\theta \\right )} - \\frac{a^{2}}{2} + a b \\sin{\\left (2 \\theta \\right )} - \\frac{b^{2}}{2} \\cos{\\left (2 \\theta \\right )} - \\frac{b^{2}}{2}}\\right ]$$"
      ],
      "text/plain": [
       "⎡                           __________________________________________________\n",
       "⎢                          ╱       2             2                   2        \n",
       "⎢                         ╱   2   a ⋅cos(2⋅θ)   a                   b ⋅cos(2⋅θ\n",
       "⎢a⋅cos(θ) + b⋅sin(θ) -   ╱   R  + ─────────── - ── + a⋅b⋅sin(2⋅θ) - ──────────\n",
       "⎣                      ╲╱              2        2                        2    \n",
       "\n",
       "_______                             __________________________________________\n",
       "     2                             ╱       2             2                   2\n",
       ")   b                             ╱   2   a ⋅cos(2⋅θ)   a                   b \n",
       "─ - ── , a⋅cos(θ) + b⋅sin(θ) +   ╱   R  + ─────────── - ── + a⋅b⋅sin(2⋅θ) - ──\n",
       "    2                          ╲╱              2        2                     \n",
       "\n",
       "_______________⎤\n",
       "             2 ⎥\n",
       "⋅cos(2⋅θ)   b  ⎥\n",
       "───────── - ── ⎥\n",
       "   2        2  ⎦"
      ]
     },
     "execution_count": 11,
     "metadata": {},
     "output_type": "execute_result"
    }
   ],
   "source": [
    "solve(Eq((x-a)**2+(y-b)**2, R**2).subs({x:r*cos(theta), y:r*sin(theta)}), r)"
   ]
  },
  {
   "cell_type": "code",
   "execution_count": null,
   "metadata": {},
   "outputs": [],
   "source": []
  }
 ],
 "metadata": {
  "kernelspec": {
   "display_name": "Python 3",
   "language": "python",
   "name": "python3"
  },
  "language_info": {
   "codemirror_mode": {
    "name": "ipython",
    "version": 3
   },
   "file_extension": ".py",
   "mimetype": "text/x-python",
   "name": "python",
   "nbconvert_exporter": "python",
   "pygments_lexer": "ipython3",
   "version": "3.6.4"
  }
 },
 "nbformat": 4,
 "nbformat_minor": 2
}
