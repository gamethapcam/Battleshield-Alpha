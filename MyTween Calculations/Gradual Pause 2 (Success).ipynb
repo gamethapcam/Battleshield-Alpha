{
 "cells": [
  {
   "cell_type": "code",
   "execution_count": 1,
   "metadata": {
    "scrolled": false
   },
   "outputs": [],
   "source": [
    "from sympy import *\n",
    "init_printing()"
   ]
  },
  {
   "cell_type": "code",
   "execution_count": 2,
   "metadata": {
    "scrolled": false
   },
   "outputs": [],
   "source": [
    "f_01 = Function('f_01')\n",
    "f_xy = Function('f_xy')\n",
    "\n",
    "x = symbols('x')\n",
    "s_x, e_x, s_y, e_y = symbols('s_x e_x s_y e_y')"
   ]
  },
  {
   "cell_type": "code",
   "execution_count": 3,
   "metadata": {
    "scrolled": false
   },
   "outputs": [
    {
     "data": {
      "image/png": "[encoded data removed]",
      "text/latex": [
       "$$\\operatorname{f_{xy}}{\\left (x \\right )} = s_{y} + \\left(e_{y} - s_{y}\\right) \\operatorname{f_{01}}{\\left (\\frac{- s_{x} + x}{e_{x} - s_{x}} \\right )}$$"
      ],
      "text/plain": [
       "                               ⎛-sₓ + x⎞\n",
       "f_xy(x) = s_y + (e_y - s_y)⋅f₀₁⎜───────⎟\n",
       "                               ⎝eₓ - sₓ⎠"
      ]
     },
     "execution_count": 3,
     "metadata": {},
     "output_type": "execute_result"
    }
   ],
   "source": [
    "_f_xy = Eq(f_xy(x), (e_y-s_y)*f_01((x-s_x)/(e_x-s_x))+s_y)\n",
    "_f_xy"
   ]
  },
  {
   "cell_type": "code",
   "execution_count": 4,
   "metadata": {},
   "outputs": [
    {
     "data": {
      "text/latex": [
       "$$\\frac{d}{d x} \\operatorname{f_{xy}}{\\left (x \\right )} = \\frac{1}{e_{x} - s_{x}} \\left(e_{y} - s_{y}\\right) \\left. \\frac{d}{d \\xi_{1}} \\operatorname{f_{01}}{\\left (\\xi_{1} \\right )} \\right|_{\\substack{ \\xi_{1}=\\frac{- s_{x} + x}{e_{x} - s_{x}} }}$$"
      ],
      "text/plain": [
       "                          ⎛ d          ⎞│          \n",
       "              (e_y - s_y)⋅⎜───(f₀₁(ξ₁))⎟│   -sₓ + x\n",
       "                          ⎝dξ₁         ⎠│ξ₁=───────\n",
       "d                                           eₓ - sₓ\n",
       "──(f_xy(x)) = ─────────────────────────────────────\n",
       "dx                           eₓ - sₓ               "
      ]
     },
     "execution_count": 4,
     "metadata": {},
     "output_type": "execute_result"
    }
   ],
   "source": [
    "Eq(_f_xy.lhs.diff(x), _f_xy.rhs.diff(x))"
   ]
  },
  {
   "cell_type": "markdown",
   "metadata": {},
   "source": [
    "---"
   ]
  },
  {
   "cell_type": "code",
   "execution_count": 5,
   "metadata": {
    "scrolled": false
   },
   "outputs": [],
   "source": [
    "O_01 = Function('O_01')\n",
    "O_xy = Function('O_xy')\n",
    "O_xyp = Function('O\\'_xy')\n",
    "G_01 = Function('G_01')\n",
    "G_01p = Function('G\\'_01')\n",
    "G_xy = Function('G_xy')\n",
    "G_xyp = Function('G\\'_xy')\n",
    "\n",
    "s_gx, e_gx, s_gy, e_gy = symbols('s_gx e_gx s_gy e_gy')\n",
    "c_x, a_x = symbols('c_x a_x')"
   ]
  },
  {
   "cell_type": "code",
   "execution_count": 6,
   "metadata": {
    "scrolled": false
   },
   "outputs": [
    {
     "data": {
      "image/png": "[encoded data removed]",
      "text/latex": [
       "$$\\operatorname{G_{xy}}{\\left (x \\right )} = s_{gy} + \\left(e_{gy} - s_{gy}\\right) \\operatorname{G_{01}}{\\left (\\frac{- s_{gx} + x}{e_{gx} - s_{gx}} \\right )}$$"
      ],
      "text/plain": [
       "                                  ⎛ -s_gx + x ⎞\n",
       "G_xy(x) = s_gy + (e_gy - s_gy)⋅G₀₁⎜───────────⎟\n",
       "                                  ⎝e_gx - s_gx⎠"
      ]
     },
     "execution_count": 6,
     "metadata": {},
     "output_type": "execute_result"
    }
   ],
   "source": [
    "Eq_m_0 = Eq(G_xy(x), (e_gy-s_gy)*G_01((x-s_gx)/(e_gx-s_gx))+s_gy)\n",
    "Eq_m_0"
   ]
  },
  {
   "cell_type": "code",
   "execution_count": 7,
   "metadata": {
    "scrolled": false
   },
   "outputs": [
    {
     "data": {
      "text/latex": [
       "$$\\frac{d}{d x} \\operatorname{G_{xy}}{\\left (x \\right )} = \\frac{1}{e_{gx} - s_{gx}} \\left(e_{gy} - s_{gy}\\right) \\left. \\frac{d}{d \\xi_{1}} \\operatorname{G_{01}}{\\left (\\xi_{1} \\right )} \\right|_{\\substack{ \\xi_{1}=\\frac{- s_{gx} + x}{e_{gx} - s_{gx}} }}$$"
      ],
      "text/plain": [
       "                            ⎛ d          ⎞│              \n",
       "              (e_gy - s_gy)⋅⎜───(G₀₁(ξ₁))⎟│    -s_gx + x \n",
       "                            ⎝dξ₁         ⎠│ξ₁=───────────\n",
       "d                                             e_gx - s_gx\n",
       "──(G_xy(x)) = ───────────────────────────────────────────\n",
       "dx                            e_gx - s_gx                "
      ]
     },
     "execution_count": 7,
     "metadata": {},
     "output_type": "execute_result"
    }
   ],
   "source": [
    "Eq_m_1 = Eq(diff(Eq_m_0.lhs, x), diff(Eq_m_0.rhs, x))\n",
    "Eq_m_1"
   ]
  },
  {
   "cell_type": "code",
   "execution_count": 8,
   "metadata": {},
   "outputs": [
    {
     "data": {
      "image/png": "[encoded data removed]",
      "text/latex": [
       "$$\\operatorname{G_{xy}}{\\left (c_{x} \\right )} = \\operatorname{O_{xy}}{\\left (c_{x} \\right )}$$"
      ],
      "text/plain": [
       "G_xy(cₓ) = O_xy(cₓ)"
      ]
     },
     "execution_count": 8,
     "metadata": {},
     "output_type": "execute_result"
    }
   ],
   "source": [
    "Eq1_0 = Eq(G_xy(c_x), O_xy(c_x))\n",
    "Eq1_0"
   ]
  },
  {
   "cell_type": "code",
   "execution_count": 9,
   "metadata": {},
   "outputs": [
    {
     "data": {
      "image/png": "[encoded data removed]",
      "text/latex": [
       "$$\\frac{d}{d x} \\operatorname{G_{xy}}{\\left (c_{x} \\right )} = \\frac{d}{d x} \\operatorname{O_{xy}}{\\left (c_{x} \\right )}$$"
      ],
      "text/plain": [
       "d              d           \n",
       "──(G_xy(cₓ)) = ──(O_xy(cₓ))\n",
       "dx             dx          "
      ]
     },
     "execution_count": 9,
     "metadata": {},
     "output_type": "execute_result"
    }
   ],
   "source": [
    "Eq2_0 = Eq(diff(G_xy(x), x).subs({G_xy(x):G_xy(c_x)}), diff(O_xy(x), x).subs({O_xy(x):O_xy(c_x)}))\n",
    "Eq2_0"
   ]
  },
  {
   "cell_type": "code",
   "execution_count": 10,
   "metadata": {},
   "outputs": [
    {
     "data": {
      "image/png": "[encoded data removed]",
      "text/latex": [
       "$$s_{gy} + \\left(e_{gy} - s_{gy}\\right) \\operatorname{G_{01}}{\\left (\\frac{c_{x} - s_{gx}}{e_{gx} - s_{gx}} \\right )} = \\operatorname{O_{xy}}{\\left (c_{x} \\right )}$$"
      ],
      "text/plain": [
       "                        ⎛ cₓ - s_gx ⎞           \n",
       "s_gy + (e_gy - s_gy)⋅G₀₁⎜───────────⎟ = O_xy(cₓ)\n",
       "                        ⎝e_gx - s_gx⎠           "
      ]
     },
     "execution_count": 10,
     "metadata": {},
     "output_type": "execute_result"
    }
   ],
   "source": [
    "Eq1_1 = Eq(Eq_m_0.rhs.subs({x:c_x}), Eq1_0.rhs)\n",
    "Eq1_1"
   ]
  },
  {
   "cell_type": "code",
   "execution_count": 11,
   "metadata": {},
   "outputs": [
    {
     "data": {
      "image/png": "[encoded data removed]",
      "text/latex": [
       "$$s_{gy} = \\frac{e_{gy} \\operatorname{G_{01}}{\\left (\\frac{c_{x} - s_{gx}}{e_{gx} - s_{gx}} \\right )} - \\operatorname{O_{xy}}{\\left (c_{x} \\right )}}{\\operatorname{G_{01}}{\\left (\\frac{c_{x} - s_{gx}}{e_{gx} - s_{gx}} \\right )} - 1}$$"
      ],
      "text/plain": [
       "               ⎛ cₓ - s_gx ⎞           \n",
       "       e_gy⋅G₀₁⎜───────────⎟ - O_xy(cₓ)\n",
       "               ⎝e_gx - s_gx⎠           \n",
       "s_gy = ────────────────────────────────\n",
       "                ⎛ cₓ - s_gx ⎞          \n",
       "             G₀₁⎜───────────⎟ - 1      \n",
       "                ⎝e_gx - s_gx⎠          "
      ]
     },
     "execution_count": 11,
     "metadata": {},
     "output_type": "execute_result"
    }
   ],
   "source": [
    "Eq1_2 = Eq(s_gy, solveset(Eq1_1, s_gy).args[0])\n",
    "Eq1_2"
   ]
  },
  {
   "cell_type": "code",
   "execution_count": 12,
   "metadata": {
    "scrolled": false
   },
   "outputs": [
    {
     "data": {
      "image/png": "[encoded data removed]",
      "text/latex": [
       "$$\\frac{1}{e_{gx} - s_{gx}} \\left(e_{gy} - s_{gy}\\right) \\operatorname{G'_{01}}{\\left (\\frac{c_{x} - s_{gx}}{e_{gx} - s_{gx}} \\right )} = \\operatorname{O'_{xy}}{\\left (c_{x} \\right )}$$"
      ],
      "text/plain": [
       "                  ⎛ cₓ - s_gx ⎞            \n",
       "(e_gy - s_gy)⋅G'₀₁⎜───────────⎟            \n",
       "                  ⎝e_gx - s_gx⎠            \n",
       "─────────────────────────────── = O'_xy(cₓ)\n",
       "          e_gx - s_gx                      "
      ]
     },
     "execution_count": 12,
     "metadata": {},
     "output_type": "execute_result"
    }
   ],
   "source": [
    "Eq2_1 = Eq((e_gy-s_gy)/(e_gx-s_gx)*G_01p((c_x-s_gx)/(e_gx-s_gx)), O_xyp(c_x))\n",
    "Eq2_1"
   ]
  },
  {
   "cell_type": "code",
   "execution_count": 13,
   "metadata": {
    "scrolled": false
   },
   "outputs": [
    {
     "data": {
      "image/png": "[encoded data removed]",
      "text/latex": [
       "$$\\frac{1}{e_{gx} - s_{gx}} \\left(e_{gy} - \\frac{e_{gy} \\operatorname{G_{01}}{\\left (\\frac{c_{x} - s_{gx}}{e_{gx} - s_{gx}} \\right )} - \\operatorname{O_{xy}}{\\left (c_{x} \\right )}}{\\operatorname{G_{01}}{\\left (\\frac{c_{x} - s_{gx}}{e_{gx} - s_{gx}} \\right )} - 1}\\right) \\operatorname{G'_{01}}{\\left (\\frac{c_{x} - s_{gx}}{e_{gx} - s_{gx}} \\right )} = \\operatorname{O'_{xy}}{\\left (c_{x} \\right )}$$"
      ],
      "text/plain": [
       "⎛               ⎛ cₓ - s_gx ⎞           ⎞                              \n",
       "⎜       e_gy⋅G₀₁⎜───────────⎟ - O_xy(cₓ)⎟                              \n",
       "⎜               ⎝e_gx - s_gx⎠           ⎟     ⎛ cₓ - s_gx ⎞            \n",
       "⎜e_gy - ────────────────────────────────⎟⋅G'₀₁⎜───────────⎟            \n",
       "⎜                ⎛ cₓ - s_gx ⎞          ⎟     ⎝e_gx - s_gx⎠            \n",
       "⎜             G₀₁⎜───────────⎟ - 1      ⎟                              \n",
       "⎝                ⎝e_gx - s_gx⎠          ⎠                              \n",
       "─────────────────────────────────────────────────────────── = O'_xy(cₓ)\n",
       "                        e_gx - s_gx                                    "
      ]
     },
     "execution_count": 13,
     "metadata": {},
     "output_type": "execute_result"
    }
   ],
   "source": [
    "Eq3_0 = Eq(Eq2_1.lhs.subs({s_gy:Eq1_2.rhs}), Eq2_1.rhs)\n",
    "Eq3_0"
   ]
  },
  {
   "cell_type": "code",
   "execution_count": 14,
   "metadata": {
    "scrolled": true
   },
   "outputs": [
    {
     "data": {
      "image/png": "[encoded data removed]",
      "text/latex": [
       "$$\\operatorname{F_{b}}{\\left (s_{gx} \\right )} = \\frac{\\left(- e_{gy} + \\operatorname{O_{xy}}{\\left (c_{x} \\right )}\\right) \\operatorname{G'_{01}}{\\left (\\frac{c_{x} - s_{gx}}{e_{gx} - s_{gx}} \\right )}}{e_{gx} \\operatorname{G_{01}}{\\left (\\frac{c_{x} - s_{gx}}{e_{gx} - s_{gx}} \\right )} - e_{gx} - s_{gx} \\operatorname{G_{01}}{\\left (\\frac{c_{x} - s_{gx}}{e_{gx} - s_{gx}} \\right )} + s_{gx}} - \\operatorname{O'_{xy}}{\\left (c_{x} \\right )}$$"
      ],
      "text/plain": [
       "                                               ⎛ cₓ - s_gx ⎞                  \n",
       "                        (-e_gy + O_xy(cₓ))⋅G'₀₁⎜───────────⎟                  \n",
       "                                               ⎝e_gx - s_gx⎠                  \n",
       "F_b(s_gx) = ─────────────────────────────────────────────────────────── - O'_x\n",
       "                    ⎛ cₓ - s_gx ⎞                  ⎛ cₓ - s_gx ⎞              \n",
       "            e_gx⋅G₀₁⎜───────────⎟ - e_gx - s_gx⋅G₀₁⎜───────────⎟ + s_gx       \n",
       "                    ⎝e_gx - s_gx⎠                  ⎝e_gx - s_gx⎠              \n",
       "\n",
       "     \n",
       "     \n",
       "     \n",
       "y(cₓ)\n",
       "     \n",
       "     \n",
       "     "
      ]
     },
     "execution_count": 14,
     "metadata": {},
     "output_type": "execute_result"
    }
   ],
   "source": [
    "F_b = Function('F_b')\n",
    "Eq_Bisection = Eq(F_b(s_gx), Eq3_0.simplify().rhs-Eq3_0.rhs)\n",
    "Eq_Bisection"
   ]
  },
  {
   "cell_type": "markdown",
   "metadata": {},
   "source": [
    "---"
   ]
  },
  {
   "cell_type": "code",
   "execution_count": 15,
   "metadata": {},
   "outputs": [
    {
     "data": {
      "text/latex": [
       "$$\\operatorname{F_{bn}}{\\left (x \\right )} = - \\operatorname{O'_{xy}}{\\left (c_{x} \\right )} + \\frac{\\left(- e_{gy} + \\operatorname{O_{xy}}{\\left (c_{x} \\right )}\\right) \\left. \\frac{d}{d x} \\operatorname{G_{01}}{\\left (x \\right )} \\right|_{\\substack{ x=\\frac{c_{x} - x}{e_{gx} - x} }}}{\\left(e_{gx} - x\\right) \\left(\\operatorname{G_{01}}{\\left (\\frac{c_{x} - x}{e_{gx} - x} \\right )} - 1\\right)}$$"
      ],
      "text/plain": [
       "                                          ⎛d         ⎞│          \n",
       "                       (-e_gy + O_xy(cₓ))⋅⎜──(G₀₁(x))⎟│   cₓ - x \n",
       "                                          ⎝dx        ⎠│x=────────\n",
       "                                                         e_gx - x\n",
       "F_bn(x) = -O'_xy(cₓ) + ──────────────────────────────────────────\n",
       "                                        ⎛   ⎛ cₓ - x ⎞    ⎞      \n",
       "                             (e_gx - x)⋅⎜G₀₁⎜────────⎟ - 1⎟      \n",
       "                                        ⎝   ⎝e_gx - x⎠    ⎠      "
      ]
     },
     "execution_count": 15,
     "metadata": {},
     "output_type": "execute_result"
    }
   ],
   "source": [
    "F_bn = Function('F_bn')\n",
    "expr1 = (c_x-x)/(e_gx-x)\n",
    "expr2 = (O_xy(c_x)-e_gy)*Derivative(G_01(x), x).subs({x:expr1})\n",
    "expr3 = (e_gx-x)*(G_01(expr1)-1)\n",
    "Eq_Newton = Eq(F_bn(x), expr2/expr3 - O_xyp(c_x))\n",
    "Eq_Newton"
   ]
  },
  {
   "cell_type": "code",
   "execution_count": 16,
   "metadata": {},
   "outputs": [
    {
     "data": {
      "text/latex": [
       "$$\\frac{d}{d x} \\operatorname{F_{bn}}{\\left (x \\right )} = \\frac{1}{\\left(e_{gx} - x\\right)^{3} \\left(\\operatorname{G_{01}}{\\left (\\frac{c_{x} - x}{e_{gx} - x} \\right )} - 1\\right)^{2}} \\left(e_{gy} - \\operatorname{O_{xy}}{\\left (c_{x} \\right )}\\right) \\left(- \\left(c_{x} - e_{gx}\\right) \\left(\\operatorname{G_{01}}{\\left (\\frac{c_{x} - x}{e_{gx} - x} \\right )} - 1\\right) \\left. \\frac{d^{2}}{d x^{2}}  \\operatorname{G_{01}}{\\left (x \\right )} \\right|_{\\substack{ x=\\frac{c_{x} - x}{e_{gx} - x} }} + \\left(c_{x} - e_{gx}\\right) \\left. \\frac{d}{d x} \\operatorname{G_{01}}{\\left (x \\right )} \\right|_{\\substack{ x=\\frac{c_{x} - x}{e_{gx} - x} }}^{2} - \\left(e_{gx} - x\\right) \\left(\\operatorname{G_{01}}{\\left (\\frac{c_{x} - x}{e_{gx} - x} \\right )} - 1\\right) \\left. \\frac{d}{d x} \\operatorname{G_{01}}{\\left (x \\right )} \\right|_{\\substack{ x=\\frac{c_{x} - x}{e_{gx} - x} }}\\right)$$"
      ],
      "text/plain": [
       "                                ⎛                                  ⎛  2       \n",
       "                                ⎜              ⎛   ⎛ cₓ - x ⎞    ⎞ ⎜ d        \n",
       "              (e_gy - O_xy(cₓ))⋅⎜- (cₓ - e_gx)⋅⎜G₀₁⎜────────⎟ - 1⎟⋅⎜───(G₀₁(x)\n",
       "                                ⎜              ⎝   ⎝e_gx - x⎠    ⎠ ⎜  2       \n",
       "                                ⎜                                  ⎝dx        \n",
       "d                               ⎝                                             \n",
       "──(F_bn(x)) = ────────────────────────────────────────────────────────────────\n",
       "dx                                                                            \n",
       "                                                                              \n",
       "                                                                              \n",
       "                                                                              \n",
       "\n",
       " ⎞│                                                2                          \n",
       " ⎟│                         ⎛d         ⎞│                         ⎛   ⎛ cₓ - x\n",
       ")⎟│           + (cₓ - e_gx)⋅⎜──(G₀₁(x))⎟│   cₓ - x   - (e_gx - x)⋅⎜G₀₁⎜───────\n",
       " ⎟│   cₓ - x                ⎝dx        ⎠│x=────────               ⎝   ⎝e_gx - \n",
       " ⎠│x=────────                              e_gx - x                           \n",
       "     e_gx - x                                                                 \n",
       "──────────────────────────────────────────────────────────────────────────────\n",
       "                                      2                                       \n",
       "                 3 ⎛   ⎛ cₓ - x ⎞    ⎞                                        \n",
       "       (e_gx - x) ⋅⎜G₀₁⎜────────⎟ - 1⎟                                        \n",
       "                   ⎝   ⎝e_gx - x⎠    ⎠                                        \n",
       "\n",
       "                               ⎞\n",
       " ⎞    ⎞ ⎛d         ⎞│          ⎟\n",
       "─⎟ - 1⎟⋅⎜──(G₀₁(x))⎟│   cₓ - x ⎟\n",
       "x⎠    ⎠ ⎝dx        ⎠│x=────────⎟\n",
       "                       e_gx - x⎟\n",
       "                               ⎠\n",
       "────────────────────────────────\n",
       "                                \n",
       "                                \n",
       "                                \n",
       "                                "
      ]
     },
     "execution_count": 16,
     "metadata": {},
     "output_type": "execute_result"
    }
   ],
   "source": [
    "Eq_NewtonD = Eq(diff(Eq_Newton.lhs, x), diff(Eq_Newton.rhs, x).simplify())\n",
    "Eq_NewtonD"
   ]
  },
  {
   "cell_type": "code",
   "execution_count": null,
   "metadata": {},
   "outputs": [],
   "source": []
  }
 ],
 "metadata": {
  "kernelspec": {
   "display_name": "Python 3",
   "language": "python",
   "name": "python3"
  },
  "language_info": {
   "codemirror_mode": {
    "name": "ipython",
    "version": 3
   },
   "file_extension": ".py",
   "mimetype": "text/x-python",
   "name": "python",
   "nbconvert_exporter": "python",
   "pygments_lexer": "ipython3",
   "version": "3.6.4"
  }
 },
 "nbformat": 4,
 "nbformat_minor": 2
}
