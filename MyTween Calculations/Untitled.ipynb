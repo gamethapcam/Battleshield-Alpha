{
 "cells": [
  {
   "cell_type": "code",
   "execution_count": 2,
   "metadata": {},
   "outputs": [],
   "source": [
    "from sympy import *\n",
    "init_printing()"
   ]
  },
  {
   "cell_type": "code",
   "execution_count": 3,
   "metadata": {},
   "outputs": [],
   "source": [
    "x, y, z, a0, a1, a2, a3, a4, a5, x0, x1, x2, x3, x4, x5, y0, y1, y2, y3, y4, y5, z0, z1, z2, z3, z4, z5, d, d0, d1, d2 = symbols('x y z alpha_0 alpha_1 alpha_2 alpha_3 alpha_4 alpha_5 x_0 x_1 x_2 x_3 x_4 x_5 y_0 y_1 y_2 y_3 y_4 y_5 z_0 z_1 z_2 z_3 z_4 z_5 Delta Delta_0 Delta_1 Delta_2')"
   ]
  },
  {
   "cell_type": "code",
   "execution_count": 13,
   "metadata": {},
   "outputs": [],
   "source": [
    "xl, xu, xm, xml, xmu, yl, yu, ym, yml, ymu, sm, su, sl, s0, s1 = symbols('x_l, x_u, x_m, x_ml, x_mu, y_l, y_u, y_m, y_ml, y_mu, s_m, s_u, s_l s0 s1')"
   ]
  },
  {
   "cell_type": "code",
   "execution_count": 26,
   "metadata": {},
   "outputs": [
    {
     "data": {
      "image/png": "[encoded data removed]",
      "text/latex": [
       "$$\\alpha_{0} x^{4} + \\alpha_{1} x^{3} + \\alpha_{2} x^{2} + \\alpha_{3} x + \\alpha_{4} = 0$$"
      ],
      "text/plain": [
       "    4       3       2                \n",
       "α₀⋅x  + α₁⋅x  + α₂⋅x  + α₃⋅x + α₄ = 0"
      ]
     },
     "execution_count": 26,
     "metadata": {},
     "output_type": "execute_result"
    }
   ],
   "source": [
    "Eq(a0*x**4+a1*x**3+a2*x**2+a3*x+a4)"
   ]
  },
  {
   "cell_type": "code",
   "execution_count": 25,
   "metadata": {
    "scrolled": true
   },
   "outputs": [
    {
     "data": {
      "image/png": "[encoded data removed]",
      "text/latex": [
       "$$4 \\alpha_{0} x^{3} + 3 \\alpha_{1} x^{2} + 2 \\alpha_{2} x + \\alpha_{3}$$"
      ],
      "text/plain": [
       "      3         2              \n",
       "4⋅α₀⋅x  + 3⋅α₁⋅x  + 2⋅α₂⋅x + α₃"
      ]
     },
     "execution_count": 25,
     "metadata": {},
     "output_type": "execute_result"
    }
   ],
   "source": [
    "diff(Eq(a0*x**4+a1*x**3+a2*x**2+a3*x+a4).lhs, x)"
   ]
  },
  {
   "cell_type": "code",
   "execution_count": 33,
   "metadata": {},
   "outputs": [
    {
     "data": {
      "text/latex": [
       "$$\\left[\\begin{matrix}x_{0}^{4} & x_{0}^{3} & x_{0}^{2} & x_{0} & 1\\\\x_{1}^{4} & x_{1}^{3} & x_{1}^{2} & x_{1} & 1\\\\4 x_{0}^{3} & 3 x_{0}^{2} & 2 x_{0} & 1 & 0\\\\4 x_{1}^{3} & 3 x_{1}^{2} & 2 x_{1} & 1 & 0\\\\4 \\left(\\frac{x_{0}}{2} + \\frac{x_{1}}{2}\\right)^{3} & 3 \\left(\\frac{x_{0}}{2} + \\frac{x_{1}}{2}\\right)^{2} & x_{0} + x_{1} & 1 & 0\\end{matrix}\\right]$$"
      ],
      "text/plain": [
       "⎡      4             3           2         ⎤\n",
       "⎢    x₀            x₀          x₀     x₀  1⎥\n",
       "⎢                                          ⎥\n",
       "⎢      4             3           2         ⎥\n",
       "⎢    x₁            x₁          x₁     x₁  1⎥\n",
       "⎢                                          ⎥\n",
       "⎢       3             2                    ⎥\n",
       "⎢   4⋅x₀          3⋅x₀        2⋅x₀    1   0⎥\n",
       "⎢                                          ⎥\n",
       "⎢       3             2                    ⎥\n",
       "⎢   4⋅x₁          3⋅x₁        2⋅x₁    1   0⎥\n",
       "⎢                                          ⎥\n",
       "⎢           3             2                ⎥\n",
       "⎢  ⎛x₀   x₁⎞     ⎛x₀   x₁⎞                 ⎥\n",
       "⎢4⋅⎜── + ──⎟   3⋅⎜── + ──⎟   x₀ + x₁  1   0⎥\n",
       "⎣  ⎝2    2 ⎠     ⎝2    2 ⎠                 ⎦"
      ]
     },
     "execution_count": 33,
     "metadata": {},
     "output_type": "execute_result"
    }
   ],
   "source": [
    "A = Matrix([\n",
    "    [x0**4, x0**3, x0**2, x0, 1], \n",
    "    [x1**4, x1**3, x1**2, x1, 1], \n",
    "    [4*x0**3, 3*x0**2, 2*x0, 1, 0], \n",
    "    [4*x1**3, 3*x1**2, 2*x1, 1, 0], \n",
    "    [4*((x0+x1)/2)**3, 3*((x0+x1)/2)**2, 2*((x0+x1)/2), 1, 0]\n",
    "])\n",
    "A"
   ]
  },
  {
   "cell_type": "code",
   "execution_count": 32,
   "metadata": {},
   "outputs": [
    {
     "data": {
      "text/latex": [
       "$$\\left[\\begin{matrix}y_{0}\\\\y_{1}\\\\s_{0}\\\\s_{1}\\\\\\frac{s_{0}}{2} + \\frac{s_{1}}{2}\\end{matrix}\\right]$$"
      ],
      "text/plain": [
       "⎡  y₀   ⎤\n",
       "⎢       ⎥\n",
       "⎢  y₁   ⎥\n",
       "⎢       ⎥\n",
       "⎢  s₀   ⎥\n",
       "⎢       ⎥\n",
       "⎢  s₁   ⎥\n",
       "⎢       ⎥\n",
       "⎢s₀   s₁⎥\n",
       "⎢── + ──⎥\n",
       "⎣2    2 ⎦"
      ]
     },
     "execution_count": 32,
     "metadata": {},
     "output_type": "execute_result"
    }
   ],
   "source": [
    "b = Matrix([\n",
    "    [y0], \n",
    "    [y1],  \n",
    "    [s0], \n",
    "    [s1], \n",
    "    [((s0+s1)/2)]\n",
    "])\n",
    "b"
   ]
  },
  {
   "cell_type": "code",
   "execution_count": 34,
   "metadata": {},
   "outputs": [],
   "source": [
    "sol = linsolve((A, b), [a0, a1, a2, a3, a4])"
   ]
  },
  {
   "cell_type": "code",
   "execution_count": 36,
   "metadata": {},
   "outputs": [
    {
     "data": {
      "image/png": "[encoded data removed]",
      "text/latex": [
       "$$\\emptyset$$"
      ],
      "text/plain": [
       "∅"
      ]
     },
     "execution_count": 36,
     "metadata": {},
     "output_type": "execute_result"
    }
   ],
   "source": [
    "sol"
   ]
  },
  {
   "cell_type": "code",
   "execution_count": 35,
   "metadata": {},
   "outputs": [
    {
     "ename": "IndexError",
     "evalue": "tuple index out of range",
     "output_type": "error",
     "traceback": [
      "\u001b[0;31m---------------------------------------------------------------------------\u001b[0m",
      "\u001b[0;31mIndexError\u001b[0m                                Traceback (most recent call last)",
      "\u001b[0;32m<ipython-input-35-9bc54310b909>\u001b[0m in \u001b[0;36m<module>\u001b[0;34m()\u001b[0m\n\u001b[0;32m----> 1\u001b[0;31m \u001b[0mEq\u001b[0m\u001b[0;34m(\u001b[0m\u001b[0ma0\u001b[0m\u001b[0;34m,\u001b[0m \u001b[0msol\u001b[0m\u001b[0;34m.\u001b[0m\u001b[0margs\u001b[0m\u001b[0;34m[\u001b[0m\u001b[0;36m0\u001b[0m\u001b[0;34m]\u001b[0m\u001b[0;34m[\u001b[0m\u001b[0;36m0\u001b[0m\u001b[0;34m]\u001b[0m\u001b[0;34m)\u001b[0m\u001b[0;34m\u001b[0m\u001b[0m\n\u001b[0m",
      "\u001b[0;31mIndexError\u001b[0m: tuple index out of range"
     ]
    }
   ],
   "source": [
    "Eq(a0, sol.args[0][0])"
   ]
  },
  {
   "cell_type": "code",
   "execution_count": 20,
   "metadata": {},
   "outputs": [
    {
     "data": {
      "image/png": "[encoded data removed]",
      "text/latex": [
       "$$\\alpha_{1} = \\frac{1}{x_{0}^{3} - 3 x_{0}^{2} x_{1} + 3 x_{0} x_{1}^{2} - x_{1}^{3}} \\left(- s_{0} x_{0}^{2} - s_{0} x_{0} x_{1} + 2 s_{0} x_{1}^{2} - 2 s_{1} x_{0}^{2} + s_{1} x_{0} x_{1} + s_{1} x_{1}^{2} + 3 x_{0} y_{0} - 3 x_{0} y_{1} + 3 x_{1} y_{0} - 3 x_{1} y_{1}\\right)$$"
      ],
      "text/plain": [
       "            2                     2          2                   2            \n",
       "     - s₀⋅x₀  - s₀⋅x₀⋅x₁ + 2⋅s₀⋅x₁  - 2⋅s₁⋅x₀  + s₁⋅x₀⋅x₁ + s₁⋅x₁  + 3⋅x₀⋅y₀ -\n",
       "α₁ = ─────────────────────────────────────────────────────────────────────────\n",
       "                                          3       2             2     3       \n",
       "                                        x₀  - 3⋅x₀ ⋅x₁ + 3⋅x₀⋅x₁  - x₁        \n",
       "\n",
       "                            \n",
       " 3⋅x₀⋅y₁ + 3⋅x₁⋅y₀ - 3⋅x₁⋅y₁\n",
       "────────────────────────────\n",
       "                            \n",
       "                            "
      ]
     },
     "execution_count": 20,
     "metadata": {},
     "output_type": "execute_result"
    }
   ],
   "source": [
    "Eq(a1, sol.args[0][1])"
   ]
  },
  {
   "cell_type": "code",
   "execution_count": 21,
   "metadata": {},
   "outputs": [
    {
     "data": {
      "image/png": "[encoded data removed]",
      "text/latex": [
       "$$\\alpha_{2} = \\frac{1}{x_{0}^{3} - 3 x_{0}^{2} x_{1} + 3 x_{0} x_{1}^{2} - x_{1}^{3}} \\left(2 s_{0} x_{0}^{2} x_{1} - s_{0} x_{0} x_{1}^{2} - s_{0} x_{1}^{3} + s_{1} x_{0}^{3} + s_{1} x_{0}^{2} x_{1} - 2 s_{1} x_{0} x_{1}^{2} - 6 x_{0} x_{1} y_{0} + 6 x_{0} x_{1} y_{1}\\right)$$"
      ],
      "text/plain": [
       "            2              2        3        3        2                2      \n",
       "     2⋅s₀⋅x₀ ⋅x₁ - s₀⋅x₀⋅x₁  - s₀⋅x₁  + s₁⋅x₀  + s₁⋅x₀ ⋅x₁ - 2⋅s₁⋅x₀⋅x₁  - 6⋅x\n",
       "α₂ = ─────────────────────────────────────────────────────────────────────────\n",
       "                                      3       2             2     3           \n",
       "                                    x₀  - 3⋅x₀ ⋅x₁ + 3⋅x₀⋅x₁  - x₁            \n",
       "\n",
       "                    \n",
       "₀⋅x₁⋅y₀ + 6⋅x₀⋅x₁⋅y₁\n",
       "────────────────────\n",
       "                    \n",
       "                    "
      ]
     },
     "execution_count": 21,
     "metadata": {},
     "output_type": "execute_result"
    }
   ],
   "source": [
    "Eq(a2, sol.args[0][2])"
   ]
  },
  {
   "cell_type": "code",
   "execution_count": 22,
   "metadata": {},
   "outputs": [
    {
     "data": {
      "image/png": "[encoded data removed]",
      "text/latex": [
       "$$\\alpha_{3} = \\frac{1}{x_{0}^{3} - 3 x_{0}^{2} x_{1} + 3 x_{0} x_{1}^{2} - x_{1}^{3}} \\left(- s_{0} x_{0}^{2} x_{1}^{2} + s_{0} x_{0} x_{1}^{3} - s_{1} x_{0}^{3} x_{1} + s_{1} x_{0}^{2} x_{1}^{2} + x_{0}^{3} y_{1} - 3 x_{0}^{2} x_{1} y_{1} + 3 x_{0} x_{1}^{2} y_{0} - x_{1}^{3} y_{0}\\right)$$"
      ],
      "text/plain": [
       "            2   2           3        3           2   2     3          2       \n",
       "     - s₀⋅x₀ ⋅x₁  + s₀⋅x₀⋅x₁  - s₁⋅x₀ ⋅x₁ + s₁⋅x₀ ⋅x₁  + x₀ ⋅y₁ - 3⋅x₀ ⋅x₁⋅y₁ \n",
       "α₃ = ─────────────────────────────────────────────────────────────────────────\n",
       "                                       3       2             2     3          \n",
       "                                     x₀  - 3⋅x₀ ⋅x₁ + 3⋅x₀⋅x₁  - x₁           \n",
       "\n",
       "         2        3   \n",
       "+ 3⋅x₀⋅x₁ ⋅y₀ - x₁ ⋅y₀\n",
       "──────────────────────\n",
       "                      \n",
       "                      "
      ]
     },
     "execution_count": 22,
     "metadata": {},
     "output_type": "execute_result"
    }
   ],
   "source": [
    "Eq(a3, sol.args[0][3])"
   ]
  },
  {
   "cell_type": "code",
   "execution_count": 63,
   "metadata": {},
   "outputs": [],
   "source": [
    "theta, theta0, theta1 = symbols('theta theta_0 theta_1')\n",
    "t = theta0+((theta1-theta0)/(x1-x0))*(x-x0)"
   ]
  },
  {
   "cell_type": "code",
   "execution_count": 62,
   "metadata": {},
   "outputs": [
    {
     "data": {
      "image/png": "[encoded data removed]",
      "text/latex": [
       "$$- \\frac{1}{2} \\log{\\left (\\sin{\\left (x \\right )} - 1 \\right )} + \\frac{1}{2} \\log{\\left (\\sin{\\left (x \\right )} + 1 \\right )} + \\frac{1}{2} \\log{\\left (\\sin{\\left (x_{0} \\right )} - 1 \\right )} - \\frac{1}{2} \\log{\\left (\\sin{\\left (x_{0} \\right )} + 1 \\right )}$$"
      ],
      "text/plain": [
       "  log(sin(x) - 1)   log(sin(x) + 1)   log(sin(x₀) - 1)   log(sin(x₀) + 1)\n",
       "- ─────────────── + ─────────────── + ──────────────── - ────────────────\n",
       "         2                 2                 2                  2        "
      ]
     },
     "execution_count": 62,
     "metadata": {},
     "output_type": "execute_result"
    }
   ],
   "source": [
    "Integral(1/cos(x), (x, x0, x)).doit()"
   ]
  },
  {
   "cell_type": "code",
   "execution_count": 67,
   "metadata": {},
   "outputs": [
    {
     "data": {
      "text/latex": [
       "$$- \\frac{1}{- x_{0} + x_{1}} \\left(- \\theta_{0} + \\theta_{1}\\right) \\left(\\begin{cases} - \\cos{\\left (\\theta_{0} \\right )} & \\text{for}\\: \\theta_{0} - \\theta_{1} = 0 \\\\\\frac{1}{\\theta_{0} - \\theta_{1}} \\left(- x_{0} \\cos{\\left (\\theta_{0} \\right )} + x_{1} \\cos{\\left (\\theta_{0} \\right )}\\right) & \\text{otherwise} \\end{cases}\\right) + \\frac{1}{- x_{0} + x_{1}} \\left(- \\theta_{0} + \\theta_{1}\\right) \\left(\\begin{cases} - \\cos{\\left (\\theta_{0} \\right )} & \\text{for}\\: \\theta_{0} - \\theta_{1} = 0 \\\\\\frac{1}{\\theta_{0} - \\theta_{1}} \\left(- x_{0} \\cos{\\left (\\theta_{0} + \\frac{\\left(- \\theta_{0} + \\theta_{1}\\right) \\left(x - x_{0}\\right)}{- x_{0} + x_{1}} \\right )} + x_{1} \\cos{\\left (\\theta_{0} + \\frac{\\left(- \\theta_{0} + \\theta_{1}\\right) \\left(x - x_{0}\\right)}{- x_{0} + x_{1}} \\right )}\\right) & \\text{otherwise} \\end{cases}\\right)$$"
      ],
      "text/plain": [
       "                                                                       ⎛⎧     \n",
       "                                                                       ⎜⎪     \n",
       "             ⎛⎧        -cos(θ₀)          for θ₀ - θ₁ = 0⎞              ⎜⎪     \n",
       "             ⎜⎪                                         ⎟   (-θ₀ + θ₁)⋅⎜⎨- x₀⋅\n",
       "  (-θ₀ + θ₁)⋅⎜⎨-x₀⋅cos(θ₀) + x₁⋅cos(θ₀)                 ⎟              ⎜⎪     \n",
       "             ⎜⎪────────────────────────     otherwise   ⎟              ⎜⎪─────\n",
       "             ⎝⎩        θ₀ - θ₁                          ⎠              ⎝⎩     \n",
       "- ─────────────────────────────────────────────────────── + ──────────────────\n",
       "                          -x₀ + x₁                                            \n",
       "\n",
       "                         -cos(θ₀)                                 for θ₀ - θ₁ \n",
       "                                                                              \n",
       "   ⎛     (-θ₀ + θ₁)⋅(x - x₀)⎞         ⎛     (-θ₀ + θ₁)⋅(x - x₀)⎞              \n",
       "cos⎜θ₀ + ───────────────────⎟ + x₁⋅cos⎜θ₀ + ───────────────────⎟              \n",
       "   ⎝           -x₀ + x₁     ⎠         ⎝           -x₀ + x₁     ⎠              \n",
       "────────────────────────────────────────────────────────────────     otherwise\n",
       "                          θ₀ - θ₁                                             \n",
       "──────────────────────────────────────────────────────────────────────────────\n",
       "                            -x₀ + x₁                                          \n",
       "\n",
       "= 0⎞\n",
       "   ⎟\n",
       "   ⎟\n",
       "   ⎟\n",
       "   ⎟\n",
       "   ⎟\n",
       "   ⎠\n",
       "────\n",
       "    "
      ]
     },
     "execution_count": 67,
     "metadata": {},
     "output_type": "execute_result"
    }
   ],
   "source": [
    "Integral((theta1-theta0)/(x1-x0) * sin(theta0+(theta1-theta0)/(x1-x0)*(x-x0)), (x, x0, x)).doit()"
   ]
  },
  {
   "cell_type": "code",
   "execution_count": null,
   "metadata": {},
   "outputs": [],
   "source": []
  }
 ],
 "metadata": {
  "kernelspec": {
   "display_name": "Python 3",
   "language": "python",
   "name": "python3"
  }
 },
 "nbformat": 4,
 "nbformat_minor": 2
}
