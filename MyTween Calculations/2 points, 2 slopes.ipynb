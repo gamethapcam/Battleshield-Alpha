{
 "cells": [
  {
   "cell_type": "code",
   "execution_count": 2,
   "metadata": {
    "scrolled": false
   },
   "outputs": [],
   "source": [
    "from sympy import *\n",
    "init_printing()"
   ]
  },
  {
   "cell_type": "code",
   "execution_count": 3,
   "metadata": {},
   "outputs": [],
   "source": [
    "O_xy = Function('O_xy')\n",
    "G_01 = Function('G_01')\n",
    "E_in01 = Function('E_in01')\n",
    "P_in01 = Function('P_in01')\n",
    "R_in01 = Function('R_in01')\n",
    "G_xy = Function('G_xy')\n",
    "F_b = Function('F_b')\n",
    "F_n = Function('F_n')"
   ]
  },
  {
   "cell_type": "code",
   "execution_count": 4,
   "metadata": {},
   "outputs": [],
   "source": [
    "x, p_e, p_p, s_s, s_e, s_gx, e_gx, s_gy, e_gy = symbols('x p_e p_p s_s s_e s_gx e_gx s_gy e_gy')\n",
    "a, b, c, d = symbols('a b c d')"
   ]
  },
  {
   "cell_type": "markdown",
   "metadata": {},
   "source": [
    "Main Equations"
   ]
  },
  {
   "cell_type": "code",
   "execution_count": 5,
   "metadata": {},
   "outputs": [
    {
     "data": {
      "image/png": "[encoded data removed]",
      "text/latex": [
       "$$\\operatorname{G_{xy}}{\\left (x \\right )} = s_{gy} + \\left(e_{gy} - s_{gy}\\right) \\operatorname{G_{01}}{\\left (\\frac{- s_{gx} + x}{e_{gx} - s_{gx}} \\right )}$$"
      ],
      "text/plain": [
       "                                  ⎛ -s_gx + x ⎞\n",
       "G_xy(x) = s_gy + (e_gy - s_gy)⋅G₀₁⎜───────────⎟\n",
       "                                  ⎝e_gx - s_gx⎠"
      ]
     },
     "execution_count": 5,
     "metadata": {},
     "output_type": "execute_result"
    }
   ],
   "source": [
    "Eq_m_0 = Eq(G_xy(x), (e_gy-s_gy)*G_01((x-s_gx)/(e_gx-s_gx))+s_gy)\n",
    "Eq_m_0"
   ]
  },
  {
   "cell_type": "code",
   "execution_count": 6,
   "metadata": {},
   "outputs": [
    {
     "data": {
      "image/png": "[encoded data removed]",
      "text/latex": [
       "$$\\operatorname{E_{in01}}{\\left (x \\right )} = \\frac{e^{p_{e} \\left(x - 1\\right)} - e^{- p_{e}}}{1 - e^{- p_{e}}}$$"
      ],
      "text/plain": [
       "            pₑ⋅(x - 1)    -pₑ\n",
       "           ℯ           - ℯ   \n",
       "Eᵢₙ₀₁(x) = ──────────────────\n",
       "                     -pₑ     \n",
       "                1 - ℯ        "
      ]
     },
     "execution_count": 6,
     "metadata": {},
     "output_type": "execute_result"
    }
   ],
   "source": [
    "_E_in01 = Eq(E_in01(x), (1/(1-exp(-p_e)))*(exp(p_e*(x-1))-exp(-p_e)))\n",
    "_E_in01"
   ]
  },
  {
   "cell_type": "code",
   "execution_count": 7,
   "metadata": {},
   "outputs": [
    {
     "data": {
      "image/png": "[encoded data removed]",
      "text/latex": [
       "$$\\operatorname{P_{in01}}{\\left (x \\right )} = x^{p_{p}}$$"
      ],
      "text/plain": [
       "            pₚ\n",
       "Pᵢₙ₀₁(x) = x  "
      ]
     },
     "execution_count": 7,
     "metadata": {},
     "output_type": "execute_result"
    }
   ],
   "source": [
    "_P_in01 = Eq(P_in01(x), x**(p_p))\n",
    "_P_in01"
   ]
  },
  {
   "cell_type": "code",
   "execution_count": 8,
   "metadata": {},
   "outputs": [
    {
     "data": {
      "image/png": "[encoded data removed]",
      "text/latex": [
       "$$\\operatorname{R_{in01}}{\\left (x \\right )} = \\frac{x \\left(- a + 1\\right)}{- a x + 1}$$"
      ],
      "text/plain": [
       "           x⋅(-a + 1)\n",
       "Rᵢₙ₀₁(x) = ──────────\n",
       "            -a⋅x + 1 "
      ]
     },
     "execution_count": 8,
     "metadata": {},
     "output_type": "execute_result"
    }
   ],
   "source": [
    "_R_in01 = Eq(R_in01(x), (1-a)*x/(1-a*x))\n",
    "_R_in01"
   ]
  },
  {
   "cell_type": "code",
   "execution_count": 9,
   "metadata": {},
   "outputs": [
    {
     "data": {
      "image/png": "[encoded data removed]",
      "text/latex": [
       "$$\\operatorname{G_{01}}{\\left (x \\right )} = \\frac{x \\left(- a + 1\\right)}{2 \\left(- a x + 1\\right)} + \\frac{e^{p_{e} \\left(x - 1\\right)} - e^{- p_{e}}}{2 \\left(1 - e^{- p_{e}}\\right)}$$"
      ],
      "text/plain": [
       "                         pₑ⋅(x - 1)    -pₑ\n",
       "          x⋅(-a + 1)    ℯ           - ℯ   \n",
       "G₀₁(x) = ──────────── + ──────────────────\n",
       "         2⋅(-a⋅x + 1)        ⎛     -pₑ⎞   \n",
       "                           2⋅⎝1 - ℯ   ⎠   "
      ]
     },
     "execution_count": 9,
     "metadata": {},
     "output_type": "execute_result"
    }
   ],
   "source": [
    "# Eq_m_1 = Eq(G_01(x), (1/(1-exp(-p)))*(exp(p*(x-1))-exp(-p)))\n",
    "# Eq_m_1 = Eq(G_01(x), (1-a)*x/(1-a*x))\n",
    "# Eq_m_1 = Eq(G_01(x), 1-cos(pi/2 * x))\n",
    "# Eq_m_1 = Eq(G_01(x), 1-sqrt(1-x*x))\n",
    "# Eq_m_1 = Eq(G_01(x), x**(p))\n",
    "Eq_m_1 = Eq(G_01(x), (_E_in01.rhs+_R_in01.rhs)/2)\n",
    "'''\n",
    "d_in = (1+sqrt(1+4*c))/2\n",
    "e_in = -c*(1/d_in+1)\n",
    "Eq_m_1 = Eq(G_01(x), c/(d_in-x) + c + e_in)\n",
    "'''\n",
    "Eq_m_1"
   ]
  },
  {
   "cell_type": "code",
   "execution_count": 10,
   "metadata": {},
   "outputs": [
    {
     "data": {
      "image/png": "[encoded data removed]",
      "text/latex": [
       "$$\\operatorname{G_{xy}}{\\left (x \\right )} = s_{gy} + \\left(e_{gy} - s_{gy}\\right) \\left(\\frac{\\left(- a + 1\\right) \\left(- s_{gx} + x\\right)}{2 \\left(e_{gx} - s_{gx}\\right) \\left(- \\frac{a \\left(- s_{gx} + x\\right)}{e_{gx} - s_{gx}} + 1\\right)} + \\frac{1}{2 \\left(1 - e^{- p_{e}}\\right)} \\left(e^{p_{e} \\left(-1 + \\frac{- s_{gx} + x}{e_{gx} - s_{gx}}\\right)} - e^{- p_{e}}\\right)\\right)$$"
      ],
      "text/plain": [
       "                               ⎛                                            ⎛ \n",
       "                               ⎜                                         pₑ⋅⎜-\n",
       "                               ⎜                                            ⎝ \n",
       "                               ⎜         (-a + 1)⋅(-s_gx + x)           ℯ     \n",
       "G_xy(x) = s_gy + (e_gy - s_gy)⋅⎜───────────────────────────────────── + ──────\n",
       "                               ⎜                ⎛  a⋅(-s_gx + x)    ⎞         \n",
       "                               ⎜2⋅(e_gx - s_gx)⋅⎜- ───────────── + 1⎟         \n",
       "                               ⎝                ⎝   e_gx - s_gx     ⎠         \n",
       "\n",
       "     -s_gx + x ⎞       ⎞\n",
       "1 + ───────────⎟       ⎟\n",
       "    e_gx - s_gx⎠    -pₑ⎟\n",
       "                 - ℯ   ⎟\n",
       "───────────────────────⎟\n",
       "     ⎛     -pₑ⎞        ⎟\n",
       "   2⋅⎝1 - ℯ   ⎠        ⎟\n",
       "                       ⎠"
      ]
     },
     "execution_count": 10,
     "metadata": {},
     "output_type": "execute_result"
    }
   ],
   "source": [
    "Eq_m_0_1 = Eq(G_xy(x), Eq_m_0.rhs.subs({G_01((x-s_gx)/(e_gx-s_gx)):Eq_m_1.rhs.subs({x:(x-s_gx)/(e_gx-s_gx)})}))\n",
    "Eq_m_0_1"
   ]
  },
  {
   "cell_type": "code",
   "execution_count": 11,
   "metadata": {},
   "outputs": [
    {
     "data": {
      "image/png": "[encoded data removed]",
      "text/latex": [
       "$$\\frac{e^{- \\frac{p_{e} \\left(e_{gx} - x\\right)}{e_{gx} - s_{gx}}}}{2 \\left(e_{gx} - s_{gx}\\right) \\left(e^{p_{e}} - 1\\right) \\left(- a \\left(s_{gx} - x\\right) - e_{gx} + s_{gx}\\right)^{2}} \\left(e_{gy} - s_{gy}\\right) \\left(a \\left(a - 1\\right) \\left(e_{gx} - s_{gx}\\right) \\left(s_{gx} - x\\right) \\left(e^{p_{e}} - 1\\right) e^{\\frac{p_{e} \\left(e_{gx} - x\\right)}{e_{gx} - s_{gx}}} + p_{e} \\left(- a \\left(s_{gx} - x\\right) - e_{gx} + s_{gx}\\right)^{2} e^{p_{e}} + \\left(a - 1\\right) \\left(e_{gx} - s_{gx}\\right) \\left(e^{p_{e}} - 1\\right) \\left(- a \\left(s_{gx} - x\\right) - e_{gx} + s_{gx}\\right) e^{\\frac{p_{e} \\left(e_{gx} - x\\right)}{e_{gx} - s_{gx}}}\\right)$$"
      ],
      "text/plain": [
       "              ⎛                                              pₑ⋅(e_gx - x)    \n",
       "              ⎜                                              ─────────────    \n",
       "              ⎜                                   ⎛ pₑ    ⎞   e_gx - s_gx     \n",
       "(e_gy - s_gy)⋅⎝a⋅(a - 1)⋅(e_gx - s_gx)⋅(s_gx - x)⋅⎝ℯ   - 1⎠⋅ℯ              + p\n",
       "──────────────────────────────────────────────────────────────────────────────\n",
       "                                                                              \n",
       "                                                                              \n",
       "\n",
       "                                                                              \n",
       "                                                                              \n",
       "                               2  pₑ                         ⎛ pₑ    ⎞        \n",
       "ₑ⋅(-a⋅(s_gx - x) - e_gx + s_gx) ⋅ℯ   + (a - 1)⋅(e_gx - s_gx)⋅⎝ℯ   - 1⎠⋅(-a⋅(s_\n",
       "──────────────────────────────────────────────────────────────────────────────\n",
       "                ⎛ pₑ    ⎞                              2                      \n",
       "2⋅(e_gx - s_gx)⋅⎝ℯ   - 1⎠⋅(-a⋅(s_gx - x) - e_gx + s_gx)                       \n",
       "\n",
       "                        pₑ⋅(e_gx - x)⎞  -pₑ⋅(e_gx - x) \n",
       "                        ─────────────⎟  ───────────────\n",
       "                         e_gx - s_gx ⎟    e_gx - s_gx  \n",
       "gx - x) - e_gx + s_gx)⋅ℯ             ⎠⋅ℯ               \n",
       "───────────────────────────────────────────────────────\n",
       "                                                       \n",
       "                                                       "
      ]
     },
     "execution_count": 11,
     "metadata": {},
     "output_type": "execute_result"
    }
   ],
   "source": [
    "_dummy = diff(Eq_m_0_1.rhs, x).simplify()\n",
    "_dummy"
   ]
  },
  {
   "cell_type": "code",
   "execution_count": 12,
   "metadata": {},
   "outputs": [
    {
     "data": {
      "image/png": "[encoded data removed]",
      "text/latex": [
       "$$\\frac{e^{- p_{e}}}{2 \\left(- e_{gx} + s_{gx}\\right)^{2} \\left(e_{gx} - s_{gx}\\right) \\left(e^{p_{e}} - 1\\right)} \\left(e_{gy} - s_{gy}\\right) \\left(p_{e} \\left(- e_{gx} + s_{gx}\\right)^{2} e^{p_{e}} + \\left(a - 1\\right) \\left(- e_{gx} + s_{gx}\\right) \\left(e_{gx} - s_{gx}\\right) \\left(e^{p_{e}} - 1\\right) e^{p_{e}}\\right)$$"
      ],
      "text/plain": [
       "              ⎛                 2  pₑ                                        ⎛\n",
       "(e_gy - s_gy)⋅⎝pₑ⋅(-e_gx + s_gx) ⋅ℯ   + (a - 1)⋅(-e_gx + s_gx)⋅(e_gx - s_gx)⋅⎝\n",
       "──────────────────────────────────────────────────────────────────────────────\n",
       "                                           2               ⎛ pₑ    ⎞          \n",
       "                           2⋅(-e_gx + s_gx) ⋅(e_gx - s_gx)⋅⎝ℯ   - 1⎠          \n",
       "\n",
       " pₑ    ⎞  pₑ⎞  -pₑ\n",
       "ℯ   - 1⎠⋅ℯ  ⎠⋅ℯ   \n",
       "──────────────────\n",
       "                  \n",
       "                  "
      ]
     },
     "execution_count": 12,
     "metadata": {},
     "output_type": "execute_result"
    }
   ],
   "source": [
    "_dummy.subs({x:s_gx})"
   ]
  },
  {
   "cell_type": "markdown",
   "metadata": {},
   "source": [
    "Solution"
   ]
  },
  {
   "cell_type": "code",
   "execution_count": 13,
   "metadata": {},
   "outputs": [
    {
     "data": {
      "text/latex": [
       "$$\\left. \\frac{d}{d x} \\operatorname{G_{xy}}{\\left (x \\right )} \\right|_{\\substack{ x=s_{gx} }} = s_{s}$$"
      ],
      "text/plain": [
       "⎛d          ⎞│           \n",
       "⎜──(G_xy(x))⎟│       = sₛ\n",
       "⎝dx         ⎠│x=s_gx     "
      ]
     },
     "execution_count": 13,
     "metadata": {},
     "output_type": "execute_result"
    }
   ],
   "source": [
    "Eq_0 = Eq(Subs(Derivative(G_xy(x), x), x, s_gx), s_s)\n",
    "Eq_0"
   ]
  },
  {
   "cell_type": "code",
   "execution_count": 14,
   "metadata": {},
   "outputs": [
    {
     "data": {
      "text/latex": [
       "$$\\left. \\frac{d}{d x} \\operatorname{G_{xy}}{\\left (x \\right )} \\right|_{\\substack{ x=e_{gx} }} = s_{e}$$"
      ],
      "text/plain": [
       "⎛d          ⎞│           \n",
       "⎜──(G_xy(x))⎟│       = sₑ\n",
       "⎝dx         ⎠│x=e_gx     "
      ]
     },
     "execution_count": 14,
     "metadata": {},
     "output_type": "execute_result"
    }
   ],
   "source": [
    "Eq_1 = Eq(Subs(Derivative(G_xy(x), x), x, e_gx), s_e)\n",
    "Eq_1"
   ]
  },
  {
   "cell_type": "code",
   "execution_count": 15,
   "metadata": {
    "scrolled": true
   },
   "outputs": [
    {
     "data": {
      "image/png": "[encoded data removed]",
      "text/latex": [
       "$$\\left(e_{gy} - s_{gy}\\right) \\left(\\frac{p_{e} e^{- p_{e}}}{2 \\left(1 - e^{- p_{e}}\\right) \\left(e_{gx} - s_{gx}\\right)} + \\frac{- a + 1}{2 \\left(e_{gx} - s_{gx}\\right)}\\right) = s_{s}$$"
      ],
      "text/plain": [
       "              ⎛             -pₑ                            ⎞     \n",
       "              ⎜         pₑ⋅ℯ                     -a + 1    ⎟     \n",
       "(e_gy - s_gy)⋅⎜────────────────────────── + ───────────────⎟ = sₛ\n",
       "              ⎜  ⎛     -pₑ⎞                 2⋅(e_gx - s_gx)⎟     \n",
       "              ⎝2⋅⎝1 - ℯ   ⎠⋅(e_gx - s_gx)                  ⎠     "
      ]
     },
     "execution_count": 15,
     "metadata": {},
     "output_type": "execute_result"
    }
   ],
   "source": [
    "Eq_0_1 = Eq(diff(Eq_m_0_1.rhs, x).subs({x:s_gx}), Eq_0.rhs)\n",
    "Eq_0_1"
   ]
  },
  {
   "cell_type": "code",
   "execution_count": 16,
   "metadata": {},
   "outputs": [
    {
     "data": {
      "image/png": "[encoded data removed]",
      "text/latex": [
       "$$\\left(e_{gy} - s_{gy}\\right) \\left(\\frac{a}{2 \\left(- a + 1\\right) \\left(e_{gx} - s_{gx}\\right)} + \\frac{p_{e}}{2 \\left(1 - e^{- p_{e}}\\right) \\left(e_{gx} - s_{gx}\\right)} + \\frac{1}{2 \\left(e_{gx} - s_{gx}\\right)}\\right) = s_{e}$$"
      ],
      "text/plain": [
       "              ⎛           a                           pₑ                      \n",
       "(e_gy - s_gy)⋅⎜──────────────────────── + ────────────────────────── + ───────\n",
       "              ⎜2⋅(-a + 1)⋅(e_gx - s_gx)     ⎛     -pₑ⎞                 2⋅(e_gx\n",
       "              ⎝                           2⋅⎝1 - ℯ   ⎠⋅(e_gx - s_gx)          \n",
       "\n",
       "1       ⎞     \n",
       "────────⎟ = sₑ\n",
       " - s_gx)⎟     \n",
       "        ⎠     "
      ]
     },
     "execution_count": 16,
     "metadata": {},
     "output_type": "execute_result"
    }
   ],
   "source": [
    "Eq_1_1 = Eq(diff(Eq_m_0_1.rhs, x).subs({x:e_gx}), Eq_1.rhs)\n",
    "Eq_1_1"
   ]
  },
  {
   "cell_type": "code",
   "execution_count": 17,
   "metadata": {
    "scrolled": true
   },
   "outputs": [
    {
     "data": {
      "image/png": "[encoded data removed]",
      "text/latex": [
       "$$a = \\frac{e_{gy} p_{e} e^{p_{e}} + e_{gy} e^{p_{e}} - e_{gy} - p_{e} s_{gy} e^{p_{e}} - 2 s_{e} \\left(e_{gx} - s_{gx}\\right) e^{p_{e}} + 2 s_{e} \\left(e_{gx} - s_{gx}\\right) - s_{gy} e^{p_{e}} + s_{gy}}{e_{gy} p_{e} e^{p_{e}} - p_{e} s_{gy} e^{p_{e}} - 2 s_{e} \\left(e_{gx} - s_{gx}\\right) e^{p_{e}} + 2 s_{e} \\left(e_{gx} - s_{gx}\\right)}$$"
      ],
      "text/plain": [
       "             pₑ         pₑ                   pₑ                       pₑ      \n",
       "    e_gy⋅pₑ⋅ℯ   + e_gy⋅ℯ   - e_gy - pₑ⋅s_gy⋅ℯ   - 2⋅sₑ⋅(e_gx - s_gx)⋅ℯ   + 2⋅s\n",
       "a = ──────────────────────────────────────────────────────────────────────────\n",
       "                               pₑ            pₑ                       pₑ      \n",
       "                      e_gy⋅pₑ⋅ℯ   - pₑ⋅s_gy⋅ℯ   - 2⋅sₑ⋅(e_gx - s_gx)⋅ℯ   + 2⋅s\n",
       "\n",
       "                        pₑ       \n",
       "ₑ⋅(e_gx - s_gx) - s_gy⋅ℯ   + s_gy\n",
       "─────────────────────────────────\n",
       "                                 \n",
       "ₑ⋅(e_gx - s_gx)                  "
      ]
     },
     "execution_count": 17,
     "metadata": {},
     "output_type": "execute_result"
    }
   ],
   "source": [
    "Eq_0_2 = Eq(a, solve(Eq_1_1, a)[0])\n",
    "Eq_0_2"
   ]
  },
  {
   "cell_type": "code",
   "execution_count": null,
   "metadata": {},
   "outputs": [],
   "source": []
  }
 ],
 "metadata": {
  "kernelspec": {
   "display_name": "Python 3",
   "language": "python",
   "name": "python3"
  }
 },
 "nbformat": 4,
 "nbformat_minor": 2
}
