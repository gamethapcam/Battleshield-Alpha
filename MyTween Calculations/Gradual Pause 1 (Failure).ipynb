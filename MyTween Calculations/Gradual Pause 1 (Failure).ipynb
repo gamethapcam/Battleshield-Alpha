{
 "cells": [
  {
   "cell_type": "code",
   "execution_count": 1,
   "metadata": {},
   "outputs": [],
   "source": [
    "from sympy import *\n",
    "init_printing()\n",
    "\n",
    "G = Function('G')\n",
    "G_y = Function('G_y')\n",
    "G_x = Function('G_x')\n",
    "G_xy = Function('G_xy')\n",
    "G_xyo = Function('G_xyo')\n",
    "G_xyos = Function('G_xyos')\n",
    "M_y = Function('M_y')\n",
    "\n",
    "s_x, s_y, e_y, p_g, x = symbols('s_x s_y e_y p_g x')"
   ]
  },
  {
   "cell_type": "code",
   "execution_count": 2,
   "metadata": {},
   "outputs": [
    {
     "data": {
      "image/png": "[encoded data removed]",
      "text/latex": [
       "$$\\operatorname{G_{y}}{\\left (x \\right )} = s_{y} + \\left(e_{y} - s_{y}\\right) G{\\left (x \\right )}$$"
      ],
      "text/plain": [
       "G_y(x) = s_y + (e_y - s_y)⋅G(x)"
      ]
     },
     "execution_count": 2,
     "metadata": {},
     "output_type": "execute_result"
    }
   ],
   "source": [
    "_G_y = Eq(G_y(x), (e_y-s_y)*G(x)+s_y)\n",
    "_G_y"
   ]
  },
  {
   "cell_type": "code",
   "execution_count": 3,
   "metadata": {
    "scrolled": true
   },
   "outputs": [
    {
     "data": {
      "image/png": "[encoded data removed]",
      "text/latex": [
       "$$\\operatorname{G_{x}}{\\left (x \\right )} = G{\\left (- p_{g} + s_{x} + x \\right )}$$"
      ],
      "text/plain": [
       "Gₓ(x) = G(-p_g + sₓ + x)"
      ]
     },
     "execution_count": 3,
     "metadata": {},
     "output_type": "execute_result"
    }
   ],
   "source": [
    "_G_x = Eq(G_x(x), G(x+(s_x-p_g)))\n",
    "_G_x"
   ]
  },
  {
   "cell_type": "code",
   "execution_count": 4,
   "metadata": {},
   "outputs": [
    {
     "data": {
      "image/png": "[encoded data removed]",
      "text/latex": [
       "$$\\operatorname{G_{xy}}{\\left (x \\right )} = s_{y} + \\left(e_{y} - s_{y}\\right) \\operatorname{G_{x}}{\\left (x \\right )}$$"
      ],
      "text/plain": [
       "G_xy(x) = s_y + (e_y - s_y)⋅Gₓ(x)"
      ]
     },
     "execution_count": 4,
     "metadata": {},
     "output_type": "execute_result"
    }
   ],
   "source": [
    "_G_xy = Eq(G_xy(x), (e_y-s_y)*G_x(x)+s_y)\n",
    "_G_xy"
   ]
  },
  {
   "cell_type": "code",
   "execution_count": 5,
   "metadata": {},
   "outputs": [
    {
     "data": {
      "image/png": "[encoded data removed]",
      "text/latex": [
       "$$\\operatorname{G_{xyo}}{\\left (x \\right )} = \\operatorname{G_{xy}}{\\left (x \\right )} - \\operatorname{G_{y}}{\\left (s_{x} \\right )} + \\operatorname{M_{y}}{\\left (p_{g} \\right )}$$"
      ],
      "text/plain": [
       "G_xyo(x) = G_xy(x) - G_y(sₓ) + M_y(p_g)"
      ]
     },
     "execution_count": 5,
     "metadata": {},
     "output_type": "execute_result"
    }
   ],
   "source": [
    "_G_xyo = Eq(G_xyo(x), G_xy(x)-G_y(s_x)+M_y(p_g))\n",
    "_G_xyo"
   ]
  },
  {
   "cell_type": "code",
   "execution_count": 6,
   "metadata": {
    "scrolled": true
   },
   "outputs": [
    {
     "data": {
      "image/png": "[encoded data removed]",
      "text/latex": [
       "$$\\operatorname{G_{xyos}}{\\left (x \\right )} = \\operatorname{G_{xyo}}{\\left (p_{g} + x \\left(- p_{g} + 1\\right) \\right )}$$"
      ],
      "text/plain": [
       "G_xyos(x) = G_xyo(p_g + x⋅(-p_g + 1))"
      ]
     },
     "execution_count": 6,
     "metadata": {},
     "output_type": "execute_result"
    }
   ],
   "source": [
    "_G_xyos = Eq(G_xyos(x), G_xyo((1-p_g)*x+p_g))\n",
    "_G_xyos"
   ]
  },
  {
   "cell_type": "markdown",
   "metadata": {},
   "source": [
    "---\n"
   ]
  },
  {
   "cell_type": "code",
   "execution_count": 7,
   "metadata": {
    "scrolled": true
   },
   "outputs": [
    {
     "data": {
      "image/png": "[encoded data removed]",
      "text/latex": [
       "$$\\operatorname{G_{xyos}}{\\left (x \\right )} = \\operatorname{G_{xy}}{\\left (p_{g} + x \\left(- p_{g} + 1\\right) \\right )} - \\operatorname{G_{y}}{\\left (s_{x} \\right )} + \\operatorname{M_{y}}{\\left (p_{g} \\right )}$$"
      ],
      "text/plain": [
       "G_xyos(x) = G_xy(p_g + x⋅(-p_g + 1)) - G_y(sₓ) + M_y(p_g)"
      ]
     },
     "execution_count": 7,
     "metadata": {},
     "output_type": "execute_result"
    }
   ],
   "source": [
    "_G_xyos = _G_xyos.subs({_G_xyos.rhs:_G_xyo.rhs.subs({x:(1-p_g)*x+p_g})})\n",
    "_G_xyos"
   ]
  },
  {
   "cell_type": "code",
   "execution_count": 8,
   "metadata": {},
   "outputs": [
    {
     "data": {
      "image/png": "[encoded data removed]",
      "text/latex": [
       "$$\\operatorname{G_{xyos}}{\\left (x \\right )} = - s_{y} - \\left(e_{y} - s_{y}\\right) G{\\left (s_{x} \\right )} + \\operatorname{G_{xy}}{\\left (p_{g} + x \\left(- p_{g} + 1\\right) \\right )} + \\operatorname{M_{y}}{\\left (p_{g} \\right )}$$"
      ],
      "text/plain": [
       "G_xyos(x) = -s_y - (e_y - s_y)⋅G(sₓ) + G_xy(p_g + x⋅(-p_g + 1)) + M_y(p_g)"
      ]
     },
     "execution_count": 8,
     "metadata": {},
     "output_type": "execute_result"
    }
   ],
   "source": [
    "_G_xyos = _G_xyos.subs({G_y(s_x):_G_y.rhs.subs({x:s_x})})\n",
    "_G_xyos"
   ]
  },
  {
   "cell_type": "code",
   "execution_count": 9,
   "metadata": {
    "scrolled": true
   },
   "outputs": [
    {
     "data": {
      "image/png": "[encoded data removed]",
      "text/latex": [
       "$$\\operatorname{G_{xyos}}{\\left (x \\right )} = - \\left(e_{y} - s_{y}\\right) G{\\left (s_{x} \\right )} + \\left(e_{y} - s_{y}\\right) \\operatorname{G_{x}}{\\left (p_{g} + x \\left(- p_{g} + 1\\right) \\right )} + \\operatorname{M_{y}}{\\left (p_{g} \\right )}$$"
      ],
      "text/plain": [
       "G_xyos(x) = -(e_y - s_y)⋅G(sₓ) + (e_y - s_y)⋅Gₓ(p_g + x⋅(-p_g + 1)) + M_y(p_g)"
      ]
     },
     "execution_count": 9,
     "metadata": {},
     "output_type": "execute_result"
    }
   ],
   "source": [
    "_G_xyos = _G_xyos.subs({G_xy((1-p_g)*x+p_g):_G_xy.rhs.subs({x:(1-p_g)*x+p_g})})\n",
    "_G_xyos"
   ]
  },
  {
   "cell_type": "code",
   "execution_count": 10,
   "metadata": {
    "scrolled": true
   },
   "outputs": [
    {
     "data": {
      "image/png": "[encoded data removed]",
      "text/latex": [
       "$$\\operatorname{G_{xyos}}{\\left (x \\right )} = - \\left(e_{y} - s_{y}\\right) G{\\left (s_{x} \\right )} + \\left(e_{y} - s_{y}\\right) G{\\left (s_{x} + x \\left(- p_{g} + 1\\right) \\right )} + \\operatorname{M_{y}}{\\left (p_{g} \\right )}$$"
      ],
      "text/plain": [
       "G_xyos(x) = -(e_y - s_y)⋅G(sₓ) + (e_y - s_y)⋅G(sₓ + x⋅(-p_g + 1)) + M_y(p_g)"
      ]
     },
     "execution_count": 10,
     "metadata": {},
     "output_type": "execute_result"
    }
   ],
   "source": [
    "_G_xyos = _G_xyos.subs({G_x((1-p_g)*x+p_g):_G_x.rhs.subs({x:(1-p_g)*x+p_g})})\n",
    "_G_xyos"
   ]
  },
  {
   "cell_type": "markdown",
   "metadata": {},
   "source": [
    "---"
   ]
  },
  {
   "cell_type": "code",
   "execution_count": 11,
   "metadata": {},
   "outputs": [
    {
     "data": {
      "image/png": "[encoded data removed]",
      "text/latex": [
       "$$\\operatorname{G_{xyos}}{\\left (0.92 \\right )} = 97.559395 G{\\left (s_{x} + 0.37823592 \\right )} - 30.3576937195738$$"
      ],
      "text/plain": [
       "G_xyos(0.92) = 97.559395⋅G(sₓ + 0.37823592) - 30.3576937195738"
      ]
     },
     "execution_count": 11,
     "metadata": {},
     "output_type": "execute_result"
    }
   ],
   "source": [
    "_G_xyos.subs({G(s_x):0.900045401991, M_y(p_g):57.4501911712, e_y:97.559395, s_y:0, p_g:0.588874, x:0.92}).subs({G(0.37823592):0.977275456642})"
   ]
  },
  {
   "cell_type": "code",
   "execution_count": null,
   "metadata": {},
   "outputs": [],
   "source": []
  }
 ],
 "metadata": {
  "kernelspec": {
   "display_name": "Python 3",
   "language": "python",
   "name": "python3"
  },
  "language_info": {
   "codemirror_mode": {
    "name": "ipython",
    "version": 3
   },
   "file_extension": ".py",
   "mimetype": "text/x-python",
   "name": "python",
   "nbconvert_exporter": "python",
   "pygments_lexer": "ipython3",
   "version": "3.6.4"
  }
 },
 "nbformat": 4,
 "nbformat_minor": 2
}
