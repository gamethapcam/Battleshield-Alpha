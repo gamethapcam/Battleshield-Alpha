{
 "cells": [
  {
   "cell_type": "code",
   "execution_count": 39,
   "metadata": {},
   "outputs": [],
   "source": [
    "from sympy import *\n",
    "init_printing();\n",
    "\n",
    "x, x01, y, p, power, E_in, E_out, slope_in, slope_out, slope = symbols('x x01 y p power E_in E_out slope_in slope_out slope')"
   ]
  },
  {
   "cell_type": "markdown",
   "metadata": {},
   "source": [
    "# Exponential"
   ]
  },
  {
   "cell_type": "code",
   "execution_count": 2,
   "metadata": {},
   "outputs": [
    {
     "data": {
      "image/png": "[encoded data removed]",
      "text/latex": [
       "$$E_{in} = \\frac{e^{p \\left(x - 1\\right)} - e^{- p}}{1 - e^{- p}}$$"
      ],
      "text/plain": [
       "       p⋅(x - 1)    -p\n",
       "      ℯ          - ℯ  \n",
       "Eᵢₙ = ────────────────\n",
       "               -p     \n",
       "          1 - ℯ       "
      ]
     },
     "execution_count": 2,
     "metadata": {},
     "output_type": "execute_result"
    }
   ],
   "source": [
    "_E_in = Eq(E_in, (exp(p*(x-1))-exp(-p))*(1/(1-exp(-p))))\n",
    "_E_in"
   ]
  },
  {
   "cell_type": "code",
   "execution_count": 3,
   "metadata": {},
   "outputs": [
    {
     "data": {
      "image/png": "[encoded data removed]",
      "text/latex": [
       "$$E_{out} = 1 - \\frac{e^{- p x} - e^{- p}}{1 - e^{- p}}$$"
      ],
      "text/plain": [
       "            -p⋅x    -p\n",
       "           ℯ     - ℯ  \n",
       "Eₒᵤₜ = 1 - ───────────\n",
       "                  -p  \n",
       "             1 - ℯ    "
      ]
     },
     "execution_count": 3,
     "metadata": {},
     "output_type": "execute_result"
    }
   ],
   "source": [
    "_E_out = Eq(E_out, 1-((exp(-p*x)-exp(-p))/(1-exp(-p))))\n",
    "_E_out"
   ]
  },
  {
   "cell_type": "markdown",
   "metadata": {},
   "source": [
    "# slopeAt(x)"
   ]
  },
  {
   "cell_type": "code",
   "execution_count": 4,
   "metadata": {},
   "outputs": [
    {
     "data": {
      "image/png": "[encoded data removed]",
      "text/latex": [
       "$$slope_{in} = \\frac{p e^{p \\left(x - 1\\right)}}{1 - e^{- p}}$$"
      ],
      "text/plain": [
       "             p⋅(x - 1)\n",
       "          p⋅ℯ         \n",
       "slopeᵢₙ = ────────────\n",
       "                 -p   \n",
       "            1 - ℯ     "
      ]
     },
     "execution_count": 4,
     "metadata": {},
     "output_type": "execute_result"
    }
   ],
   "source": [
    "_slope_in = Eq(slope_in, diff(_E_in.rhs, x))\n",
    "_slope_in"
   ]
  },
  {
   "cell_type": "code",
   "execution_count": 5,
   "metadata": {},
   "outputs": [
    {
     "data": {
      "image/png": "[encoded data removed]",
      "text/latex": [
       "$$slope_{out} = \\frac{p e^{- p x}}{1 - e^{- p}}$$"
      ],
      "text/plain": [
       "              -p⋅x\n",
       "           p⋅ℯ    \n",
       "slopeₒᵤₜ = ───────\n",
       "                -p\n",
       "           1 - ℯ  "
      ]
     },
     "execution_count": 5,
     "metadata": {},
     "output_type": "execute_result"
    }
   ],
   "source": [
    "_slope_out = Eq(slope_out, diff(_E_out.rhs, x))\n",
    "_slope_out"
   ]
  },
  {
   "cell_type": "markdown",
   "metadata": {},
   "source": [
    "# xAtWhichSlopeEquals(slope)"
   ]
  },
  {
   "cell_type": "code",
   "execution_count": 13,
   "metadata": {},
   "outputs": [
    {
     "data": {
      "image/png": "[encoded data removed]",
      "text/latex": [
       "$$\\mathbb{R} \\cap \\left\\{1 + \\frac{1}{p} \\log{\\left (\\frac{slope_{in}}{p} \\left(e^{p} - 1\\right) e^{- p} \\right )}\\right\\}$$"
      ],
      "text/plain": [
       "    ⎧       ⎛        ⎛ p    ⎞  -p⎞⎫\n",
       "    ⎪       ⎜slopeᵢₙ⋅⎝ℯ  - 1⎠⋅ℯ  ⎟⎪\n",
       "    ⎪    log⎜────────────────────⎟⎪\n",
       "    ⎨       ⎝         p          ⎠⎬\n",
       "ℝ ∩ ⎪1 + ─────────────────────────⎪\n",
       "    ⎪                p            ⎪\n",
       "    ⎩                             ⎭"
      ]
     },
     "execution_count": 13,
     "metadata": {},
     "output_type": "execute_result"
    }
   ],
   "source": [
    "xAtWhichSlopeEqualsIn = solveset(_slope_in, x, domain=S.Reals)\n",
    "xAtWhichSlopeEqualsIn"
   ]
  },
  {
   "cell_type": "code",
   "execution_count": 7,
   "metadata": {
    "scrolled": true
   },
   "outputs": [
    {
     "data": {
      "image/png": "[encoded data removed]",
      "text/latex": [
       "$$\\frac{1}{p} \\log{\\left (\\frac{p e^{p}}{slope_{out} \\left(e^{p} - 1\\right)} \\right )}$$"
      ],
      "text/plain": [
       "   ⎛          p      ⎞\n",
       "   ⎜       p⋅ℯ       ⎟\n",
       "log⎜─────────────────⎟\n",
       "   ⎜         ⎛ p    ⎞⎟\n",
       "   ⎝slopeₒᵤₜ⋅⎝ℯ  - 1⎠⎠\n",
       "──────────────────────\n",
       "          p           "
      ]
     },
     "execution_count": 7,
     "metadata": {},
     "output_type": "execute_result"
    }
   ],
   "source": [
    "x_slope_out=solve(_slope_out, x)[0]\n",
    "x_slope_out"
   ]
  },
  {
   "cell_type": "markdown",
   "metadata": {},
   "source": [
    "# inverseFunction(y)"
   ]
  },
  {
   "cell_type": "code",
   "execution_count": 46,
   "metadata": {
    "scrolled": true
   },
   "outputs": [
    {
     "data": {
      "image/png": "[encoded data removed]",
      "text/latex": [
       "$$\\mathbb{R} \\cap \\left\\{1 + \\frac{1}{p} \\log{\\left (\\left(E_{in} \\left(e^{p} - 1\\right) + 1\\right) e^{- p} \\right )}\\right\\}$$"
      ],
      "text/plain": [
       "    ⎧       ⎛⎛    ⎛ p    ⎞    ⎞  -p⎞⎫\n",
       "    ⎪    log⎝⎝Eᵢₙ⋅⎝ℯ  - 1⎠ + 1⎠⋅ℯ  ⎠⎪\n",
       "ℝ ∩ ⎨1 + ───────────────────────────⎬\n",
       "    ⎪                 p             ⎪\n",
       "    ⎩                               ⎭"
      ]
     },
     "execution_count": 46,
     "metadata": {},
     "output_type": "execute_result"
    }
   ],
   "source": [
    "inverseFunctionIn = solveset(_E_in, x, domain=S.Reals)\n",
    "inverseFunctionIn"
   ]
  },
  {
   "cell_type": "code",
   "execution_count": 50,
   "metadata": {},
   "outputs": [
    {
     "data": {
      "image/png": "[encoded data removed]",
      "text/latex": [
       "$$\\frac{1}{p} \\log{\\left (\\frac{e^{p}}{- E_{out} e^{p} + E_{out} + e^{p}} \\right )}$$"
      ],
      "text/plain": [
       "   ⎛           p         ⎞\n",
       "   ⎜          ℯ          ⎟\n",
       "log⎜─────────────────────⎟\n",
       "   ⎜        p           p⎟\n",
       "   ⎝- Eₒᵤₜ⋅ℯ  + Eₒᵤₜ + ℯ ⎠\n",
       "──────────────────────────\n",
       "            p             "
      ]
     },
     "execution_count": 50,
     "metadata": {},
     "output_type": "execute_result"
    }
   ],
   "source": [
    "inverseFunctionOut = solve(_E_out, x)[0]\n",
    "inverseFunctionOut"
   ]
  },
  {
   "cell_type": "markdown",
   "metadata": {},
   "source": [
    "---"
   ]
  },
  {
   "cell_type": "code",
   "execution_count": 10,
   "metadata": {},
   "outputs": [
    {
     "data": {
      "text/plain": [
       "'Math.log(Math.exp(p)/(-E_out*Math.exp(p) + E_out + Math.exp(p)))/p'"
      ]
     },
     "execution_count": 10,
     "metadata": {},
     "output_type": "execute_result"
    }
   ],
   "source": [
    "jscode(solve(_E_out, x)[0])"
   ]
  },
  {
   "cell_type": "code",
   "execution_count": 11,
   "metadata": {},
   "outputs": [
    {
     "data": {
      "text/plain": [
       "'// Not supported in Javascript:\\n// Intersection\\nIntersection(S.Reals, {1 + log(slope_in*(exp(p) - 1)*exp(-p)/p)/p})'"
      ]
     },
     "execution_count": 11,
     "metadata": {},
     "output_type": "execute_result"
    }
   ],
   "source": [
    "jscode(solveset(_slope_in, x, domain=S.Reals))"
   ]
  },
  {
   "cell_type": "code",
   "execution_count": 37,
   "metadata": {},
   "outputs": [
    {
     "data": {
      "text/plain": [
       "'1 + Math.log(slope*(Math.exp(power) - 1)*Math.exp(-power)/power)/power'"
      ]
     },
     "execution_count": 37,
     "metadata": {},
     "output_type": "execute_result"
    }
   ],
   "source": [
    "jscode(xAtWhichSlopeEqualsIn.args[1].args[0].subs({slope_in:slope, p:power}))"
   ]
  },
  {
   "cell_type": "code",
   "execution_count": 40,
   "metadata": {},
   "outputs": [
    {
     "data": {
      "text/plain": [
       "'power*Math.exp(power*(x01 - 1))/(1 - Math.exp(-power))'"
      ]
     },
     "execution_count": 40,
     "metadata": {},
     "output_type": "execute_result"
    }
   ],
   "source": [
    "jscode(_slope_in.rhs.subs({p:power, x:x01}))"
   ]
  },
  {
   "cell_type": "code",
   "execution_count": 43,
   "metadata": {},
   "outputs": [
    {
     "data": {
      "text/plain": [
       "'power*Math.exp(-power*x01)/(1 - Math.exp(-power))'"
      ]
     },
     "execution_count": 43,
     "metadata": {},
     "output_type": "execute_result"
    }
   ],
   "source": [
    "jscode(_slope_out.rhs.subs({p:power, x:x01}))"
   ]
  },
  {
   "cell_type": "code",
   "execution_count": 45,
   "metadata": {},
   "outputs": [
    {
     "data": {
      "text/plain": [
       "'Math.log(power*Math.exp(power)/(slope*(Math.exp(power) - 1)))/power'"
      ]
     },
     "execution_count": 45,
     "metadata": {},
     "output_type": "execute_result"
    }
   ],
   "source": [
    "jscode(x_slope_out.subs({p:power, slope_out:slope}))"
   ]
  },
  {
   "cell_type": "code",
   "execution_count": 49,
   "metadata": {},
   "outputs": [
    {
     "data": {
      "text/plain": [
       "'1 + Math.log((y*(Math.exp(power) - 1) + 1)*Math.exp(-power))/power'"
      ]
     },
     "execution_count": 49,
     "metadata": {},
     "output_type": "execute_result"
    }
   ],
   "source": [
    "jscode(inverseFunctionIn.args[1].args[0].subs({p:power, E_in:y}))"
   ]
  },
  {
   "cell_type": "code",
   "execution_count": 53,
   "metadata": {},
   "outputs": [
    {
     "data": {
      "text/plain": [
       "'Math.log(Math.exp(power)/(-y*Math.exp(power) + y + Math.exp(power)))/power'"
      ]
     },
     "execution_count": 53,
     "metadata": {},
     "output_type": "execute_result"
    }
   ],
   "source": [
    "jscode(inverseFunctionOut.subs({p:power, E_out:y}))"
   ]
  },
  {
   "cell_type": "code",
   "execution_count": null,
   "metadata": {},
   "outputs": [],
   "source": []
  }
 ],
 "metadata": {
  "kernelspec": {
   "display_name": "Python 3",
   "language": "python",
   "name": "python3"
  },
  "language_info": {
   "codemirror_mode": {
    "name": "ipython",
    "version": 3
   },
   "file_extension": ".py",
   "mimetype": "text/x-python",
   "name": "python",
   "nbconvert_exporter": "python",
   "pygments_lexer": "ipython3",
   "version": "3.6.4"
  }
 },
 "nbformat": 4,
 "nbformat_minor": 2
}
