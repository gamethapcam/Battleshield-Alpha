{
 "cells": [
  {
   "cell_type": "code",
   "execution_count": 1,
   "metadata": {},
   "outputs": [],
   "source": [
    "import sympy as sp\n",
    "sp.init_printing()"
   ]
  },
  {
   "cell_type": "code",
   "execution_count": 2,
   "metadata": {},
   "outputs": [],
   "source": [
    "x, y, a2, a1, a0, A, B, C, m, c, s, d, x0, y0, d0, d1, v = sp.symbols('x y a_2 a_1 a_0 A B C m c s d x_0 y_0 d_0 d_1 v')"
   ]
  },
  {
   "cell_type": "markdown",
   "metadata": {},
   "source": [
    "Quadratic equation"
   ]
  },
  {
   "cell_type": "code",
   "execution_count": 3,
   "metadata": {},
   "outputs": [
    {
     "data": {
      "image/png": "[encoded data removed]",
      "text/latex": [
       "$$y = a_{0} + a_{1} x + a_{2} x^{2}$$"
      ],
      "text/plain": [
       "                    2\n",
       "y = a₀ + a₁⋅x + a₂⋅x "
      ]
     },
     "execution_count": 3,
     "metadata": {},
     "output_type": "execute_result"
    }
   ],
   "source": [
    "quad = sp.Eq(y, a2*x*x +a1*x + a0)\n",
    "quad"
   ]
  },
  {
   "cell_type": "markdown",
   "metadata": {},
   "source": [
    "We can describe a point $p_1$ in space by another point $p_0$, a vector $\\vec{v}$ and a distance $d$.\n",
    "\n",
    "$p_0 = (x_0, y_0)$\n",
    "\n",
    "$p_1 = (x_1, y_1)$\n",
    "\n",
    "$\\vec{v} = \\cos{\\theta_c} \\ \\hat{\\textbf{i}} + \\sin{\\theta_c} \\ \\hat{\\textbf{j}} = c \\ \\hat{\\textbf{i}} + s \\ \\hat{\\textbf{j}}$\n",
    "\n",
    "$\\boxed{x_1 = x_0 + d c \\ }$\n",
    "\n",
    "$\\boxed{y_1 = y_0 + d s \\ }$\n",
    "\n",
    "And if you want $p_1$ to be dscribed by $p_0$, a vector $\\vec{v_2}$ that is $\\perp\\vec{v}$ and $d$.\n",
    "\n",
    "$\\boxed{x_1 = x_0 + d s \\ }$\n",
    "\n",
    "$\\boxed{y_1 = y_0 - d c \\ }$\n",
    "\n",
    "---"
   ]
  },
  {
   "cell_type": "markdown",
   "metadata": {},
   "source": [
    "Now, What's the problem we trying to solve?.\n",
    "\n",
    "We want the distance between a point $p_0$ and a parabola. \n",
    "This distance is along a vector $\\vec{v_2}$ that is $\\perp\\vec{v}$.\n",
    "\n",
    "$\\vec{v} = \\cos{\\theta_c} \\ \\hat{\\textbf{i}} + \\sin{\\theta_c} \\ \\hat{\\textbf{j}} = c \\ \\hat{\\textbf{i}} + s \\ \\hat{\\textbf{j}}$\n",
    "\n",
    "---\n",
    "\n",
    "So, any point $p$ along $\\vec{v_2}$ can be described as follows.\n",
    "\n",
    "$p = (x, y)$\n",
    "\n",
    "$\\boxed{x = x_0 + d s \\ } \\ \\ \\ (1)$\n",
    "\n",
    "$\\boxed{y = y_0 - d c \\ } \\ \\ \\ (2)$\n",
    "\n",
    "And the equation of the paraobla is $\\boxed{y = a_{0} + a_{1} x + a_{2} x^{2}\\ } \\ \\ \\ (3)$\n",
    "\n",
    "Now we can substitute $(1)$ and $(2)$ into $(3)$."
   ]
  },
  {
   "cell_type": "code",
   "execution_count": 4,
   "metadata": {},
   "outputs": [
    {
     "data": {
      "image/png": "[encoded data removed]",
      "text/latex": [
       "$$- c d + y_{0} = a_{0} + a_{1} \\left(d s + x_{0}\\right) + a_{2} \\left(d s + x_{0}\\right)^{2}$$"
      ],
      "text/plain": [
       "                                              2\n",
       "-c⋅d + y₀ = a₀ + a₁⋅(d⋅s + x₀) + a₂⋅(d⋅s + x₀) "
      ]
     },
     "execution_count": 4,
     "metadata": {},
     "output_type": "execute_result"
    }
   ],
   "source": [
    "point_vector_quad_intersection = sp.Eq(y0-d*c, a2*(x0+d*s)**2 + a1*(x0+d*s) + a0)\n",
    "point_vector_quad_intersection"
   ]
  },
  {
   "cell_type": "code",
   "execution_count": 5,
   "metadata": {},
   "outputs": [],
   "source": [
    "sol_point_vector_quad_intersection = sp.solveset(point_vector_quad_intersection, d)"
   ]
  },
  {
   "cell_type": "code",
   "execution_count": 6,
   "metadata": {
    "scrolled": true
   },
   "outputs": [
    {
     "data": {
      "image/png": "[encoded data removed]",
      "text/latex": [
       "$$\\left\\{- \\frac{1}{2 a_{2} s^{2}} \\left(a_{1} s + 2 a_{2} s x_{0} + c\\right) - \\frac{1}{2 a_{2} s^{2}} \\sqrt{- 4 a_{0} a_{2} s^{2} + a_{1}^{2} s^{2} + 2 a_{1} c s + 4 a_{2} c s x_{0} + 4 a_{2} s^{2} y_{0} + c^{2}}, - \\frac{1}{2 a_{2} s^{2}} \\left(a_{1} s + 2 a_{2} s x_{0} + c\\right) + \\frac{1}{2 a_{2} s^{2}} \\sqrt{- 4 a_{0} a_{2} s^{2} + a_{1}^{2} s^{2} + 2 a_{1} c s + 4 a_{2} c s x_{0} + 4 a_{2} s^{2} y_{0} + c^{2}}\\right\\}$$"
      ],
      "text/plain": [
       "⎧                            _________________________________________________\n",
       "⎪                           ╱            2     2  2                           \n",
       "⎪  a₁⋅s + 2⋅a₂⋅s⋅x₀ + c   ╲╱  - 4⋅a₀⋅a₂⋅s  + a₁ ⋅s  + 2⋅a₁⋅c⋅s + 4⋅a₂⋅c⋅s⋅x₀ +\n",
       "⎨- ──────────────────── - ────────────────────────────────────────────────────\n",
       "⎪              2                                               2              \n",
       "⎪        2⋅a₂⋅s                                          2⋅a₂⋅s               \n",
       "⎩                                                                             \n",
       "\n",
       "_________________                              _______________________________\n",
       "       2       2                              ╱            2     2  2         \n",
       " 4⋅a₂⋅s ⋅y₀ + c      a₁⋅s + 2⋅a₂⋅s⋅x₀ + c   ╲╱  - 4⋅a₀⋅a₂⋅s  + a₁ ⋅s  + 2⋅a₁⋅c\n",
       "─────────────────, - ──────────────────── + ──────────────────────────────────\n",
       "                                 2                                            \n",
       "                           2⋅a₂⋅s                                          2⋅a\n",
       "                                                                              \n",
       "\n",
       "___________________________________⎫\n",
       "                         2       2 ⎪\n",
       "⋅s + 4⋅a₂⋅c⋅s⋅x₀ + 4⋅a₂⋅s ⋅y₀ + c  ⎪\n",
       "───────────────────────────────────⎬\n",
       "   2                               ⎪\n",
       "₂⋅s                                ⎪\n",
       "                                   ⎭"
      ]
     },
     "execution_count": 6,
     "metadata": {},
     "output_type": "execute_result"
    }
   ],
   "source": [
    "sol_point_vector_quad_intersection"
   ]
  },
  {
   "cell_type": "code",
   "execution_count": 7,
   "metadata": {},
   "outputs": [
    {
     "data": {
      "image/png": "[encoded data removed]",
      "text/latex": [
       "$$d_{0} = - \\frac{1}{2 a_{2} s^{2}} \\left(a_{1} s + 2 a_{2} s x_{0} + c + \\sqrt{- 4 a_{0} a_{2} s^{2} + a_{1}^{2} s^{2} + 2 a_{1} c s + 4 a_{2} c s x_{0} + 4 a_{2} s^{2} y_{0} + c^{2}}\\right)$$"
      ],
      "text/plain": [
       "      ⎛                          _____________________________________________\n",
       "      ⎜                         ╱            2     2  2                       \n",
       "     -⎝a₁⋅s + 2⋅a₂⋅s⋅x₀ + c + ╲╱  - 4⋅a₀⋅a₂⋅s  + a₁ ⋅s  + 2⋅a₁⋅c⋅s + 4⋅a₂⋅c⋅s⋅\n",
       "d₀ = ─────────────────────────────────────────────────────────────────────────\n",
       "                                                       2                      \n",
       "                                                 2⋅a₂⋅s                       \n",
       "\n",
       "_____________________⎞ \n",
       "           2       2 ⎟ \n",
       "x₀ + 4⋅a₂⋅s ⋅y₀ + c  ⎠ \n",
       "───────────────────────\n",
       "                       \n",
       "                       "
      ]
     },
     "execution_count": 7,
     "metadata": {},
     "output_type": "execute_result"
    }
   ],
   "source": [
    "sp.Eq(d0, sol_point_vector_quad_intersection.args[0].factor())"
   ]
  },
  {
   "cell_type": "code",
   "execution_count": 8,
   "metadata": {
    "scrolled": false
   },
   "outputs": [
    {
     "data": {
      "image/png": "[encoded data removed]",
      "text/latex": [
       "$$d_{1} = - \\frac{1}{2 a_{2} s^{2}} \\left(a_{1} s + 2 a_{2} s x_{0} + c - \\sqrt{- 4 a_{0} a_{2} s^{2} + a_{1}^{2} s^{2} + 2 a_{1} c s + 4 a_{2} c s x_{0} + 4 a_{2} s^{2} y_{0} + c^{2}}\\right)$$"
      ],
      "text/plain": [
       "      ⎛                          _____________________________________________\n",
       "      ⎜                         ╱            2     2  2                       \n",
       "     -⎝a₁⋅s + 2⋅a₂⋅s⋅x₀ + c - ╲╱  - 4⋅a₀⋅a₂⋅s  + a₁ ⋅s  + 2⋅a₁⋅c⋅s + 4⋅a₂⋅c⋅s⋅\n",
       "d₁ = ─────────────────────────────────────────────────────────────────────────\n",
       "                                                       2                      \n",
       "                                                 2⋅a₂⋅s                       \n",
       "\n",
       "_____________________⎞ \n",
       "           2       2 ⎟ \n",
       "x₀ + 4⋅a₂⋅s ⋅y₀ + c  ⎠ \n",
       "───────────────────────\n",
       "                       \n",
       "                       "
      ]
     },
     "execution_count": 8,
     "metadata": {},
     "output_type": "execute_result"
    }
   ],
   "source": [
    "sp.Eq(d1, sol_point_vector_quad_intersection.args[1].factor())"
   ]
  },
  {
   "cell_type": "markdown",
   "metadata": {},
   "source": [
    "Now $d_0$ and $d_1$ are two possible distnces between $p_0$ and 2 points on the parabola along $\\vec{v_2}$.\n",
    "\n",
    "We can simplify a bit.\n",
    "\n",
    "$d_{0}=C_{1}\\left(C_{3}+C_{0}x_{0}+\\sqrt{C_{3}^{2}-2C_{0}\\left(C_{4}-\\left(cx_{0}+sy_{0}\\right)\\right)}\\right)$\n",
    "\n",
    "$d_{1}=C_{1}\\left(C_{3}+C_{0}x_{0}-\\sqrt{C_{3}^{2}-2C_{0}\\left(C_{4}-\\left(cx_{0}+sy_{0}\\right)\\right)}\\right)$\n",
    "\n",
    "Where, \n",
    "\n",
    "$C_{0}=2a_{2}s$\n",
    "\n",
    "$C_{1}=-\\frac{1}{C_{0}s}$\n",
    "\n",
    "$C_{2}=a_{1}s$\n",
    "\n",
    "$C_{3}=C_{2}+c$\n",
    "\n",
    "$C_{4}=a_{0}s$\n",
    "\n",
    "You can see https://www.desmos.com/calculator/kmrkmq32vg to visualize these equations easily."
   ]
  },
  {
   "cell_type": "markdown",
   "metadata": {},
   "source": [
    "---\n",
    "\n",
    "### Failed attempts "
   ]
  },
  {
   "cell_type": "code",
   "execution_count": 9,
   "metadata": {},
   "outputs": [],
   "source": [
    "line = sp.Eq(A*x + B*y + C)"
   ]
  },
  {
   "cell_type": "code",
   "execution_count": 10,
   "metadata": {},
   "outputs": [],
   "source": [
    "sol = sp.nonlinsolve([quad, line], [x, y])"
   ]
  },
  {
   "cell_type": "code",
   "execution_count": 11,
   "metadata": {},
   "outputs": [
    {
     "data": {
      "image/png": "[encoded data removed]",
      "text/latex": [
       "$$\\left\\{\\left ( - \\frac{1}{A} \\left(B \\left(- \\frac{A}{2 B^{2} a_{2}} \\sqrt{A^{2} + 2 A B a_{1} - 4 B^{2} a_{0} a_{2} + B^{2} a_{1}^{2} - 4 B C a_{2}} + \\frac{1}{2 B^{2} a_{2}} \\left(A^{2} + A B a_{1} - 2 B C a_{2}\\right)\\right) + C\\right), \\quad - \\frac{A}{2 B^{2} a_{2}} \\sqrt{A^{2} + 2 A B a_{1} - 4 B^{2} a_{0} a_{2} + B^{2} a_{1}^{2} - 4 B C a_{2}} + \\frac{1}{2 B^{2} a_{2}} \\left(A^{2} + A B a_{1} - 2 B C a_{2}\\right)\\right ), \\left ( - \\frac{1}{A} \\left(B \\left(\\frac{A}{2 B^{2} a_{2}} \\sqrt{A^{2} + 2 A B a_{1} - 4 B^{2} a_{0} a_{2} + B^{2} a_{1}^{2} - 4 B C a_{2}} + \\frac{1}{2 B^{2} a_{2}} \\left(A^{2} + A B a_{1} - 2 B C a_{2}\\right)\\right) + C\\right), \\quad \\frac{A}{2 B^{2} a_{2}} \\sqrt{A^{2} + 2 A B a_{1} - 4 B^{2} a_{0} a_{2} + B^{2} a_{1}^{2} - 4 B C a_{2}} + \\frac{1}{2 B^{2} a_{2}} \\left(A^{2} + A B a_{1} - 2 B C a_{2}\\right)\\right )\\right\\}$$"
      ],
      "text/plain": [
       "⎧⎛ ⎛  ⎛       ________________________________________________                \n",
       "⎪⎜ ⎜  ⎜      ╱  2                 2          2   2                2           \n",
       "⎪⎜ ⎜  ⎜  A⋅╲╱  A  + 2⋅A⋅B⋅a₁ - 4⋅B ⋅a₀⋅a₂ + B ⋅a₁  - 4⋅B⋅C⋅a₂    A  + A⋅B⋅a₁ -\n",
       "⎪⎜-⎜B⋅⎜- ───────────────────────────────────────────────────── + ─────────────\n",
       "⎨⎜ ⎜  ⎜                            2                                       2  \n",
       "⎪⎜ ⎝  ⎝                         2⋅B ⋅a₂                                 2⋅B ⋅a\n",
       "⎪⎜────────────────────────────────────────────────────────────────────────────\n",
       "⎪⎜                                             A                              \n",
       "⎩⎝                                                                            \n",
       "\n",
       "         ⎞    ⎞                                                               \n",
       "         ⎟    ⎟                                                               \n",
       " 2⋅B⋅C⋅a₂⎟    ⎟                                                               \n",
       "─────────⎟ + C⎟          ________________________________________________     \n",
       "         ⎟    ⎟         ╱  2                 2          2   2                2\n",
       "₂        ⎠    ⎠     A⋅╲╱  A  + 2⋅A⋅B⋅a₁ - 4⋅B ⋅a₀⋅a₂ + B ⋅a₁  - 4⋅B⋅C⋅a₂    A \n",
       "────────────────, - ───────────────────────────────────────────────────── + ──\n",
       "                                              2                               \n",
       "                                           2⋅B ⋅a₂                            \n",
       "\n",
       "                    ⎞  ⎛ ⎛  ⎛     ____________________________________________\n",
       "                    ⎟  ⎜ ⎜  ⎜    ╱  2                 2          2   2        \n",
       "                    ⎟  ⎜ ⎜  ⎜A⋅╲╱  A  + 2⋅A⋅B⋅a₁ - 4⋅B ⋅a₀⋅a₂ + B ⋅a₁  - 4⋅B⋅C\n",
       "                    ⎟  ⎜-⎜B⋅⎜─────────────────────────────────────────────────\n",
       "                    ⎟  ⎜ ⎜  ⎜                          2                      \n",
       " + A⋅B⋅a₁ - 2⋅B⋅C⋅a₂⎟  ⎜ ⎝  ⎝                       2⋅B ⋅a₂                   \n",
       "────────────────────⎟, ⎜──────────────────────────────────────────────────────\n",
       "        2           ⎟  ⎜                                            A         \n",
       "     2⋅B ⋅a₂        ⎠  ⎝                                                      \n",
       "\n",
       "____                         ⎞    ⎞                                           \n",
       "        2                    ⎟    ⎟                                           \n",
       "⋅a₂    A  + A⋅B⋅a₁ - 2⋅B⋅C⋅a₂⎟    ⎟                                           \n",
       "──── + ──────────────────────⎟ + C⎟        ___________________________________\n",
       "                 2           ⎟    ⎟       ╱  2                 2          2   \n",
       "              2⋅B ⋅a₂        ⎠    ⎠   A⋅╲╱  A  + 2⋅A⋅B⋅a₁ - 4⋅B ⋅a₀⋅a₂ + B ⋅a₁\n",
       "────────────────────────────────────, ────────────────────────────────────────\n",
       "                                                                2             \n",
       "                                                             2⋅B ⋅a₂          \n",
       "\n",
       "                                      ⎞⎫\n",
       "                                      ⎟⎪\n",
       "                                      ⎟⎪\n",
       "_____________                         ⎟⎪\n",
       "2                2                    ⎟⎬\n",
       "  - 4⋅B⋅C⋅a₂    A  + A⋅B⋅a₁ - 2⋅B⋅C⋅a₂⎟⎪\n",
       "───────────── + ──────────────────────⎟⎪\n",
       "                          2           ⎟⎪\n",
       "                       2⋅B ⋅a₂        ⎠⎭"
      ]
     },
     "execution_count": 11,
     "metadata": {},
     "output_type": "execute_result"
    }
   ],
   "source": [
    "sol"
   ]
  },
  {
   "cell_type": "code",
   "execution_count": 12,
   "metadata": {},
   "outputs": [
    {
     "data": {
      "image/png": "[encoded data removed]",
      "text/latex": [
       "$$\\left ( - \\frac{1}{A} \\left(B \\left(- \\frac{A}{2 B^{2} a_{2}} \\sqrt{A^{2} + 2 A B a_{1} - 4 B^{2} a_{0} a_{2} + B^{2} a_{1}^{2} - 4 B C a_{2}} + \\frac{1}{2 B^{2} a_{2}} \\left(A^{2} + A B a_{1} - 2 B C a_{2}\\right)\\right) + C\\right), \\quad - \\frac{A}{2 B^{2} a_{2}} \\sqrt{A^{2} + 2 A B a_{1} - 4 B^{2} a_{0} a_{2} + B^{2} a_{1}^{2} - 4 B C a_{2}} + \\frac{1}{2 B^{2} a_{2}} \\left(A^{2} + A B a_{1} - 2 B C a_{2}\\right)\\right )$$"
      ],
      "text/plain": [
       "⎛ ⎛  ⎛       ________________________________________________                 \n",
       "⎜ ⎜  ⎜      ╱  2                 2          2   2                2            \n",
       "⎜ ⎜  ⎜  A⋅╲╱  A  + 2⋅A⋅B⋅a₁ - 4⋅B ⋅a₀⋅a₂ + B ⋅a₁  - 4⋅B⋅C⋅a₂    A  + A⋅B⋅a₁ - \n",
       "⎜-⎜B⋅⎜- ───────────────────────────────────────────────────── + ──────────────\n",
       "⎜ ⎜  ⎜                            2                                       2   \n",
       "⎜ ⎝  ⎝                         2⋅B ⋅a₂                                 2⋅B ⋅a₂\n",
       "⎜─────────────────────────────────────────────────────────────────────────────\n",
       "⎜                                             A                               \n",
       "⎝                                                                             \n",
       "\n",
       "        ⎞    ⎞                                                                \n",
       "        ⎟    ⎟                                                                \n",
       "2⋅B⋅C⋅a₂⎟    ⎟                                                                \n",
       "────────⎟ + C⎟          ________________________________________________      \n",
       "        ⎟    ⎟         ╱  2                 2          2   2                2 \n",
       "        ⎠    ⎠     A⋅╲╱  A  + 2⋅A⋅B⋅a₁ - 4⋅B ⋅a₀⋅a₂ + B ⋅a₁  - 4⋅B⋅C⋅a₂    A  \n",
       "───────────────, - ───────────────────────────────────────────────────── + ───\n",
       "                                             2                                \n",
       "                                          2⋅B ⋅a₂                             \n",
       "\n",
       "                   ⎞\n",
       "                   ⎟\n",
       "                   ⎟\n",
       "                   ⎟\n",
       "                   ⎟\n",
       "+ A⋅B⋅a₁ - 2⋅B⋅C⋅a₂⎟\n",
       "───────────────────⎟\n",
       "       2           ⎟\n",
       "    2⋅B ⋅a₂        ⎠"
      ]
     },
     "execution_count": 12,
     "metadata": {},
     "output_type": "execute_result"
    }
   ],
   "source": [
    "sol.args[0]"
   ]
  },
  {
   "cell_type": "code",
   "execution_count": 13,
   "metadata": {},
   "outputs": [
    {
     "data": {
      "image/png": "[encoded data removed]",
      "text/latex": [
       "$$\\left ( - \\frac{1}{A} \\left(B \\left(\\frac{A}{2 B^{2} a_{2}} \\sqrt{A^{2} + 2 A B a_{1} - 4 B^{2} a_{0} a_{2} + B^{2} a_{1}^{2} - 4 B C a_{2}} + \\frac{1}{2 B^{2} a_{2}} \\left(A^{2} + A B a_{1} - 2 B C a_{2}\\right)\\right) + C\\right), \\quad \\frac{A}{2 B^{2} a_{2}} \\sqrt{A^{2} + 2 A B a_{1} - 4 B^{2} a_{0} a_{2} + B^{2} a_{1}^{2} - 4 B C a_{2}} + \\frac{1}{2 B^{2} a_{2}} \\left(A^{2} + A B a_{1} - 2 B C a_{2}\\right)\\right )$$"
      ],
      "text/plain": [
       "⎛ ⎛  ⎛     ________________________________________________                   \n",
       "⎜ ⎜  ⎜    ╱  2                 2          2   2                2              \n",
       "⎜ ⎜  ⎜A⋅╲╱  A  + 2⋅A⋅B⋅a₁ - 4⋅B ⋅a₀⋅a₂ + B ⋅a₁  - 4⋅B⋅C⋅a₂    A  + A⋅B⋅a₁ - 2⋅\n",
       "⎜-⎜B⋅⎜───────────────────────────────────────────────────── + ────────────────\n",
       "⎜ ⎜  ⎜                          2                                       2     \n",
       "⎜ ⎝  ⎝                       2⋅B ⋅a₂                                 2⋅B ⋅a₂  \n",
       "⎜─────────────────────────────────────────────────────────────────────────────\n",
       "⎜                                            A                                \n",
       "⎝                                                                             \n",
       "\n",
       "      ⎞    ⎞                                                                  \n",
       "      ⎟    ⎟                                                                  \n",
       "B⋅C⋅a₂⎟    ⎟                                                                  \n",
       "──────⎟ + C⎟        ________________________________________________          \n",
       "      ⎟    ⎟       ╱  2                 2          2   2                2     \n",
       "      ⎠    ⎠   A⋅╲╱  A  + 2⋅A⋅B⋅a₁ - 4⋅B ⋅a₀⋅a₂ + B ⋅a₁  - 4⋅B⋅C⋅a₂    A  + A⋅\n",
       "─────────────, ───────────────────────────────────────────────────── + ───────\n",
       "                                         2                                    \n",
       "                                      2⋅B ⋅a₂                                 \n",
       "\n",
       "               ⎞\n",
       "               ⎟\n",
       "               ⎟\n",
       "               ⎟\n",
       "               ⎟\n",
       "B⋅a₁ - 2⋅B⋅C⋅a₂⎟\n",
       "───────────────⎟\n",
       "   2           ⎟\n",
       "2⋅B ⋅a₂        ⎠"
      ]
     },
     "execution_count": 13,
     "metadata": {},
     "output_type": "execute_result"
    }
   ],
   "source": [
    "sol.args[1]"
   ]
  },
  {
   "cell_type": "code",
   "execution_count": 14,
   "metadata": {},
   "outputs": [],
   "source": [
    "line_perp = sp.Eq(y, (B/A)*x - (B/A)*x0 +y0)"
   ]
  },
  {
   "cell_type": "code",
   "execution_count": 15,
   "metadata": {},
   "outputs": [],
   "source": [
    "sol_perp = sp.nonlinsolve([quad, line_perp], [x, y])"
   ]
  },
  {
   "cell_type": "code",
   "execution_count": 16,
   "metadata": {},
   "outputs": [
    {
     "data": {
      "image/png": "[encoded data removed]",
      "text/latex": [
       "$$- \\frac{1}{2 A a_{2}} \\left(A a_{1} - B + \\sqrt{- 4 A^{2} a_{0} a_{2} + A^{2} a_{1}^{2} + 4 A^{2} a_{2} y_{0} - 2 A B a_{1} - 4 A B a_{2} x_{0} + B^{2}}\\right)$$"
      ],
      "text/plain": [
       " ⎛              ______________________________________________________________\n",
       " ⎜             ╱      2          2   2      2                                 \n",
       "-⎝A⋅a₁ - B + ╲╱  - 4⋅A ⋅a₀⋅a₂ + A ⋅a₁  + 4⋅A ⋅a₂⋅y₀ - 2⋅A⋅B⋅a₁ - 4⋅A⋅B⋅a₂⋅x₀ +\n",
       "──────────────────────────────────────────────────────────────────────────────\n",
       "                                       2⋅A⋅a₂                                 \n",
       "\n",
       "____⎞ \n",
       "  2 ⎟ \n",
       " B  ⎠ \n",
       "──────\n",
       "      "
      ]
     },
     "execution_count": 16,
     "metadata": {},
     "output_type": "execute_result"
    }
   ],
   "source": [
    "sol_perp.args[0][0].simplify()"
   ]
  },
  {
   "cell_type": "code",
   "execution_count": 17,
   "metadata": {},
   "outputs": [
    {
     "data": {
      "image/png": "[encoded data removed]",
      "text/latex": [
       "$$\\frac{1}{2 A^{2} a_{2}} \\left(2 A^{2} a_{2} y_{0} - A B a_{1} - 2 A B a_{2} x_{0} + B^{2} - B \\sqrt{- 4 A^{2} a_{0} a_{2} + A^{2} a_{1}^{2} + 4 A^{2} a_{2} y_{0} - 2 A B a_{1} - 4 A B a_{2} x_{0} + B^{2}}\\right)$$"
      ],
      "text/plain": [
       "                                              ________________________________\n",
       "   2                                 2       ╱      2          2   2      2   \n",
       "2⋅A ⋅a₂⋅y₀ - A⋅B⋅a₁ - 2⋅A⋅B⋅a₂⋅x₀ + B  - B⋅╲╱  - 4⋅A ⋅a₀⋅a₂ + A ⋅a₁  + 4⋅A ⋅a₂\n",
       "──────────────────────────────────────────────────────────────────────────────\n",
       "                                                       2                      \n",
       "                                                    2⋅A ⋅a₂                   \n",
       "\n",
       "__________________________________\n",
       "                                2 \n",
       "⋅y₀ - 2⋅A⋅B⋅a₁ - 4⋅A⋅B⋅a₂⋅x₀ + B  \n",
       "──────────────────────────────────\n",
       "                                  \n",
       "                                  "
      ]
     },
     "execution_count": 17,
     "metadata": {},
     "output_type": "execute_result"
    }
   ],
   "source": [
    "sol_perp.args[0][1].simplify()"
   ]
  },
  {
   "cell_type": "code",
   "execution_count": null,
   "metadata": {},
   "outputs": [],
   "source": []
  },
  {
   "cell_type": "code",
   "execution_count": 18,
   "metadata": {},
   "outputs": [
    {
     "data": {
      "image/png": "[encoded data removed]",
      "text/latex": [
       "$$\\frac{1}{2 A a_{2}} \\left(- A a_{1} + B + \\sqrt{- 4 A^{2} a_{0} a_{2} + A^{2} a_{1}^{2} + 4 A^{2} a_{2} y_{0} - 2 A B a_{1} - 4 A B a_{2} x_{0} + B^{2}}\\right)$$"
      ],
      "text/plain": [
       "               _______________________________________________________________\n",
       "              ╱      2          2   2      2                                  \n",
       "-A⋅a₁ + B + ╲╱  - 4⋅A ⋅a₀⋅a₂ + A ⋅a₁  + 4⋅A ⋅a₂⋅y₀ - 2⋅A⋅B⋅a₁ - 4⋅A⋅B⋅a₂⋅x₀ + \n",
       "──────────────────────────────────────────────────────────────────────────────\n",
       "                                      2⋅A⋅a₂                                  \n",
       "\n",
       "___\n",
       " 2 \n",
       "B  \n",
       "───\n",
       "   "
      ]
     },
     "execution_count": 18,
     "metadata": {},
     "output_type": "execute_result"
    }
   ],
   "source": [
    "sol_perp.args[1][0].simplify()"
   ]
  },
  {
   "cell_type": "code",
   "execution_count": 19,
   "metadata": {},
   "outputs": [
    {
     "data": {
      "image/png": "[encoded data removed]",
      "text/latex": [
       "$$\\frac{1}{2 A^{2} a_{2}} \\left(2 A^{2} a_{2} y_{0} - A B a_{1} - 2 A B a_{2} x_{0} + B^{2} + B \\sqrt{- 4 A^{2} a_{0} a_{2} + A^{2} a_{1}^{2} + 4 A^{2} a_{2} y_{0} - 2 A B a_{1} - 4 A B a_{2} x_{0} + B^{2}}\\right)$$"
      ],
      "text/plain": [
       "                                              ________________________________\n",
       "   2                                 2       ╱      2          2   2      2   \n",
       "2⋅A ⋅a₂⋅y₀ - A⋅B⋅a₁ - 2⋅A⋅B⋅a₂⋅x₀ + B  + B⋅╲╱  - 4⋅A ⋅a₀⋅a₂ + A ⋅a₁  + 4⋅A ⋅a₂\n",
       "──────────────────────────────────────────────────────────────────────────────\n",
       "                                                       2                      \n",
       "                                                    2⋅A ⋅a₂                   \n",
       "\n",
       "__________________________________\n",
       "                                2 \n",
       "⋅y₀ - 2⋅A⋅B⋅a₁ - 4⋅A⋅B⋅a₂⋅x₀ + B  \n",
       "──────────────────────────────────\n",
       "                                  \n",
       "                                  "
      ]
     },
     "execution_count": 19,
     "metadata": {},
     "output_type": "execute_result"
    }
   ],
   "source": [
    "sol_perp.args[1][1].simplify()"
   ]
  },
  {
   "cell_type": "markdown",
   "metadata": {},
   "source": []
  }
 ],
 "metadata": {
  "kernelspec": {
   "display_name": "Python 3",
   "language": "python",
   "name": "python3"
  },
  "language_info": {
   "codemirror_mode": {
    "name": "ipython",
    "version": 3
   },
   "file_extension": ".py",
   "mimetype": "text/x-python",
   "name": "python",
   "nbconvert_exporter": "python",
   "pygments_lexer": "ipython3",
   "version": "3.6.4"
  }
 },
 "nbformat": 4,
 "nbformat_minor": 2
}
