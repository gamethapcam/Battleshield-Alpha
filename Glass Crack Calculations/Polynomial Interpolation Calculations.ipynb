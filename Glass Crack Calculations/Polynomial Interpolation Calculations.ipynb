{
 "cells": [
  {
   "cell_type": "code",
   "execution_count": 1,
   "metadata": {},
   "outputs": [],
   "source": [
    "import sympy as sp\n",
    "sp.init_printing()"
   ]
  },
  {
   "cell_type": "code",
   "execution_count": 14,
   "metadata": {},
   "outputs": [],
   "source": [
    "num_of_points = 3"
   ]
  },
  {
   "cell_type": "code",
   "execution_count": 46,
   "metadata": {},
   "outputs": [],
   "source": [
    "x = sp.symbols('x')\n",
    "x_ = sp.symbols('x0:'+str(num_of_points))\n",
    "y_ = sp.symbols('y0:'+str(num_of_points))\n",
    "a_ = sp.symbols('a0:'+str(num_of_points))"
   ]
  },
  {
   "cell_type": "markdown",
   "metadata": {},
   "source": [
    "### Lagrange"
   ]
  },
  {
   "cell_type": "code",
   "execution_count": 4,
   "metadata": {},
   "outputs": [],
   "source": [
    "terms = []\n",
    "for i in range(num_of_points):\n",
    "    t_numerator = 1\n",
    "    t_denominator = 1\n",
    "    for j in range(num_of_points):\n",
    "        if j == i:\n",
    "            continue\n",
    "        t_numerator *= x-x_[j]\n",
    "        t_denominator *= x_[i]-x_[j]\n",
    "    terms.append(t_numerator/t_denominator * y_[i])"
   ]
  },
  {
   "cell_type": "code",
   "execution_count": 5,
   "metadata": {},
   "outputs": [],
   "source": [
    "f = 0\n",
    "for i in terms:\n",
    "    f += i"
   ]
  },
  {
   "cell_type": "code",
   "execution_count": 9,
   "metadata": {},
   "outputs": [
    {
     "data": {
      "image/png": "[encoded data removed]",
      "text/latex": [
       "$$\\frac{1}{\\left(x_{0} - x_{1}\\right) \\left(x_{0} - x_{2}\\right) \\left(x_{1} - x_{2}\\right)} \\left(x^{2} \\left(- x_{0} y_{1} + x_{0} y_{2} + x_{1} y_{0} - x_{1} y_{2} - x_{2} y_{0} + x_{2} y_{1}\\right) + x \\left(x_{0}^{2} y_{1} - x_{0}^{2} y_{2} - x_{1}^{2} y_{0} + x_{1}^{2} y_{2} + x_{2}^{2} y_{0} - x_{2}^{2} y_{1}\\right) + x_{0}^{2} x_{1} y_{2} - x_{0}^{2} x_{2} y_{1} - x_{0} x_{1}^{2} y_{2} + x_{0} x_{2}^{2} y_{1} + x_{1}^{2} x_{2} y_{0} - x_{1} x_{2}^{2} y_{0}\\right)$$"
      ],
      "text/plain": [
       " 2                                                      ⎛  2        2        2\n",
       "x ⋅(-x₀⋅y₁ + x₀⋅y₂ + x₁⋅y₀ - x₁⋅y₂ - x₂⋅y₀ + x₂⋅y₁) + x⋅⎝x₀ ⋅y₁ - x₀ ⋅y₂ - x₁ \n",
       "──────────────────────────────────────────────────────────────────────────────\n",
       "                                                                            (x\n",
       "\n",
       "        2        2        2   ⎞     2           2              2           2  \n",
       "⋅y₀ + x₁ ⋅y₂ + x₂ ⋅y₀ - x₂ ⋅y₁⎠ + x₀ ⋅x₁⋅y₂ - x₀ ⋅x₂⋅y₁ - x₀⋅x₁ ⋅y₂ + x₀⋅x₂ ⋅y\n",
       "──────────────────────────────────────────────────────────────────────────────\n",
       "₀ - x₁)⋅(x₀ - x₂)⋅(x₁ - x₂)                                                   \n",
       "\n",
       "      2              2   \n",
       "₁ + x₁ ⋅x₂⋅y₀ - x₁⋅x₂ ⋅y₀\n",
       "─────────────────────────\n",
       "                         "
      ]
     },
     "execution_count": 9,
     "metadata": {},
     "output_type": "execute_result"
    }
   ],
   "source": [
    "sp.collect(f.factor(), x)"
   ]
  },
  {
   "cell_type": "markdown",
   "metadata": {},
   "source": [
    "### Linear system"
   ]
  },
  {
   "cell_type": "code",
   "execution_count": 41,
   "metadata": {},
   "outputs": [],
   "source": [
    "A = sp.Matrix()\n",
    "for i in range(num_of_points):\n",
    "    A = A.row_insert(i, sp.Matrix([[x_[i]**j for j in range(num_of_points-1, -1, -1)]]))"
   ]
  },
  {
   "cell_type": "code",
   "execution_count": 43,
   "metadata": {},
   "outputs": [],
   "source": [
    "b = sp.Matrix()\n",
    "for i in range(num_of_points):\n",
    "    b = b.row_insert(i, sp.Matrix([[y_[i]]]))"
   ]
  },
  {
   "cell_type": "code",
   "execution_count": 49,
   "metadata": {},
   "outputs": [],
   "source": [
    "sol = sp.linsolve((A, b), [a_[i] for i in range(num_of_points-1, -1, -1)])"
   ]
  },
  {
   "cell_type": "code",
   "execution_count": 62,
   "metadata": {},
   "outputs": [
    {
     "data": {
      "image/png": "[encoded data removed]",
      "text/latex": [
       "$$\\left\\{\\left ( \\frac{- x_{0} y_{1} + x_{0} y_{2} + x_{1} y_{0} - x_{1} y_{2} - x_{2} y_{0} + x_{2} y_{1}}{x_{0}^{2} x_{1} - x_{0}^{2} x_{2} - x_{0} x_{1}^{2} + x_{0} x_{2}^{2} + x_{1}^{2} x_{2} - x_{1} x_{2}^{2}}, \\quad \\frac{x_{0}^{2} y_{1} - x_{0}^{2} y_{2} - x_{1}^{2} y_{0} + x_{1}^{2} y_{2} + x_{2}^{2} y_{0} - x_{2}^{2} y_{1}}{x_{0}^{2} x_{1} - x_{0}^{2} x_{2} - x_{0} x_{1}^{2} + x_{0} x_{2}^{2} + x_{1}^{2} x_{2} - x_{1} x_{2}^{2}}, \\quad \\frac{- x_{1} \\left(x_{0} - x_{1}\\right) \\left(x_{0}^{2} y_{2} - x_{2}^{2} y_{0}\\right) + x_{2} \\left(x_{0} - x_{2}\\right) \\left(x_{0}^{2} y_{1} - x_{1}^{2} y_{0}\\right)}{- x_{1} \\left(x_{0} - x_{1}\\right) \\left(x_{0}^{2} - x_{2}^{2}\\right) + x_{2} \\left(x_{0} - x_{2}\\right) \\left(x_{0}^{2} - x_{1}^{2}\\right)}\\right )\\right\\}$$"
      ],
      "text/plain": [
       "⎧⎛                                                       2        2        2  \n",
       "⎪⎜   -x₀⋅y₁ + x₀⋅y₂ + x₁⋅y₀ - x₁⋅y₂ - x₂⋅y₀ + x₂⋅y₁    x₀ ⋅y₁ - x₀ ⋅y₂ - x₁ ⋅y\n",
       "⎨⎜───────────────────────────────────────────────────, ───────────────────────\n",
       "⎪⎜  2        2           2        2     2           2    2        2           \n",
       "⎩⎝x₀ ⋅x₁ - x₀ ⋅x₂ - x₀⋅x₁  + x₀⋅x₂  + x₁ ⋅x₂ - x₁⋅x₂   x₀ ⋅x₁ - x₀ ⋅x₂ - x₀⋅x₁\n",
       "\n",
       "      2        2        2                    ⎛  2        2   ⎞                \n",
       "₀ + x₁ ⋅y₂ + x₂ ⋅y₀ - x₂ ⋅y₁  - x₁⋅(x₀ - x₁)⋅⎝x₀ ⋅y₂ - x₂ ⋅y₀⎠ + x₂⋅(x₀ - x₂)⋅\n",
       "────────────────────────────, ────────────────────────────────────────────────\n",
       "2        2     2           2                       ⎛  2     2⎞                \n",
       "  + x₀⋅x₂  + x₁ ⋅x₂ - x₁⋅x₂         - x₁⋅(x₀ - x₁)⋅⎝x₀  - x₂ ⎠ + x₂⋅(x₀ - x₂)⋅\n",
       "\n",
       "⎛  2        2   ⎞⎞⎫\n",
       "⎝x₀ ⋅y₁ - x₁ ⋅y₀⎠⎟⎪\n",
       "─────────────────⎟⎬\n",
       "⎛  2     2⎞      ⎟⎪\n",
       "⎝x₀  - x₁ ⎠      ⎠⎭"
      ]
     },
     "execution_count": 62,
     "metadata": {},
     "output_type": "execute_result"
    }
   ],
   "source": [
    "sol"
   ]
  },
  {
   "cell_type": "code",
   "execution_count": 71,
   "metadata": {},
   "outputs": [
    {
     "data": {
      "image/png": "[encoded data removed]",
      "text/latex": [
       "$$- \\frac{y_{0} \\left(- x_{1} + x_{2}\\right) + y_{1} \\left(x_{0} - x_{2}\\right) + y_{2} \\left(- x_{0} + x_{1}\\right)}{\\left(x_{0} - x_{1}\\right) \\left(x_{0} - x_{2}\\right) \\left(x_{1} - x_{2}\\right)}$$"
      ],
      "text/plain": [
       "-(y₀⋅(-x₁ + x₂) + y₁⋅(x₀ - x₂) + y₂⋅(-x₀ + x₁)) \n",
       "────────────────────────────────────────────────\n",
       "         (x₀ - x₁)⋅(x₀ - x₂)⋅(x₁ - x₂)          "
      ]
     },
     "execution_count": 71,
     "metadata": {},
     "output_type": "execute_result"
    }
   ],
   "source": [
    "x2_y0_collected = sp.collect(sol.args[0][0].factor(), y_[0])\n",
    "x2_y0_y1_collected = sp.collect(x2_y0_collected, y_[1])\n",
    "x2_y0_y1_y2_collected = sp.collect(x2_y0_y1_collected, y_[2])\n",
    "x2_y0_y1_y2_collected"
   ]
  },
  {
   "cell_type": "code",
   "execution_count": 72,
   "metadata": {},
   "outputs": [
    {
     "data": {
      "image/png": "[encoded data removed]",
      "text/latex": [
       "$$\\frac{y_{0} \\left(- x_{1}^{2} + x_{2}^{2}\\right) + y_{1} \\left(x_{0}^{2} - x_{2}^{2}\\right) + y_{2} \\left(- x_{0}^{2} + x_{1}^{2}\\right)}{\\left(x_{0} - x_{1}\\right) \\left(x_{0} - x_{2}\\right) \\left(x_{1} - x_{2}\\right)}$$"
      ],
      "text/plain": [
       "   ⎛    2     2⎞      ⎛  2     2⎞      ⎛    2     2⎞\n",
       "y₀⋅⎝- x₁  + x₂ ⎠ + y₁⋅⎝x₀  - x₂ ⎠ + y₂⋅⎝- x₀  + x₁ ⎠\n",
       "────────────────────────────────────────────────────\n",
       "           (x₀ - x₁)⋅(x₀ - x₂)⋅(x₁ - x₂)            "
      ]
     },
     "execution_count": 72,
     "metadata": {},
     "output_type": "execute_result"
    }
   ],
   "source": [
    "x1_y0_collected = sp.collect(sol.args[0][1].factor(), y_[0])\n",
    "x1_y0_y1_collected = sp.collect(x1_y0_collected, y_[1])\n",
    "x1_y0_y1_y2_collected = sp.collect(x1_y0_y1_collected, y_[2])\n",
    "x1_y0_y1_y2_collected"
   ]
  },
  {
   "cell_type": "code",
   "execution_count": 73,
   "metadata": {},
   "outputs": [
    {
     "data": {
      "image/png": "[encoded data removed]",
      "text/latex": [
       "$$\\frac{1}{\\left(x_{0} - x_{1}\\right) \\left(x_{0} - x_{2}\\right) \\left(x_{1} - x_{2}\\right)} \\left(y_{0} \\left(x_{1}^{2} x_{2} - x_{1} x_{2}^{2}\\right) + y_{1} \\left(- x_{0}^{2} x_{2} + x_{0} x_{2}^{2}\\right) + y_{2} \\left(x_{0}^{2} x_{1} - x_{0} x_{1}^{2}\\right)\\right)$$"
      ],
      "text/plain": [
       "   ⎛  2           2⎞      ⎛    2           2⎞      ⎛  2           2⎞\n",
       "y₀⋅⎝x₁ ⋅x₂ - x₁⋅x₂ ⎠ + y₁⋅⎝- x₀ ⋅x₂ + x₀⋅x₂ ⎠ + y₂⋅⎝x₀ ⋅x₁ - x₀⋅x₁ ⎠\n",
       "────────────────────────────────────────────────────────────────────\n",
       "                   (x₀ - x₁)⋅(x₀ - x₂)⋅(x₁ - x₂)                    "
      ]
     },
     "execution_count": 73,
     "metadata": {},
     "output_type": "execute_result"
    }
   ],
   "source": [
    "x0_y0_collected = sp.collect(sol.args[0][2].factor(), y_[0])\n",
    "x0_y0_y1_collected = sp.collect(x0_y0_collected, y_[1])\n",
    "x0_y0_y1_y2_collected = sp.collect(x0_y0_y1_collected, y_[2])\n",
    "x0_y0_y1_y2_collected"
   ]
  },
  {
   "cell_type": "code",
   "execution_count": null,
   "metadata": {},
   "outputs": [],
   "source": []
  }
 ],
 "metadata": {
  "kernelspec": {
   "display_name": "Python 3",
   "language": "python",
   "name": "python3"
  },
  "language_info": {
   "codemirror_mode": {
    "name": "ipython",
    "version": 3
   },
   "file_extension": ".py",
   "mimetype": "text/x-python",
   "name": "python",
   "nbconvert_exporter": "python",
   "pygments_lexer": "ipython3",
   "version": "3.6.4"
  }
 },
 "nbformat": 4,
 "nbformat_minor": 2
}
